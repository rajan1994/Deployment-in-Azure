{
 "cells": [
  {
   "cell_type": "markdown",
   "metadata": {},
   "source": [
    "# Predicting Car Battery Failure"
   ]
  },
  {
   "cell_type": "markdown",
   "metadata": {},
   "source": [
    "Your goal in this notebook is to **predict how much time a car battery has left until it is expected to fail**. You are provided training data that includes telemetry from different vehicles, as well as the expected battery life that remains. From this you will train a model that given just the vehicle telemetry predicts the expected battery life. \n",
    "\n",
    "You will use compute resources provided by Azure Machine Learning (AML) to **remotely** train a **set** of models using **Automated Machine Learning**, evaluate performance of each model and pick the best performing model to deploy as a web service hosted by **Azure Container Instance**.\n",
    "\n",
    "Because you will be using the Azure Machine Learning SDK, you will be able to provision all your required Azure resources directly from this notebook, without having to use the Azure Portal to create any resources."
   ]
  },
  {
   "cell_type": "markdown",
   "metadata": {},
   "source": [
    "## Setup\n",
    "To begin, you will need to provide the following information about your Azure Subscription. \n",
    "\n",
    "In the following cell, be sure to set the values for `subscription_id`, `resource_group`, `workspace_name` and `workspace_region` as directed by the comments (*these values can be acquired from the Azure Portal*). Also provide the values for the pre-created CPU cluster (`cluster_name`). \n",
    "\n",
    "**Be sure to replace XXXXX in the values below with your unique identifier.**\n",
    "\n",
    "To get these values, do the following:\n",
    "1. Navigate to the Azure Portal and login with the credentials provided.\n",
    "2. From the left hand menu, under Favorites, select `Resource Groups`.\n",
    "3. In the list, select the resource group with the name similar to `tech-immersion-XXXXX`.\n",
    "4. From the Overview tab, capture the desired values.\n",
    "\n",
    "Execute the following cell by selecting the `>|Run` button in the command bar above.\n",
    "\n",
    "Execute the following cell by selecting the `>|Run` button in the command bar above."
   ]
  },
  {
   "cell_type": "code",
   "execution_count": 1,
   "metadata": {},
   "outputs": [],
   "source": [
    "#Provide the Subscription ID of your existing Azure subscription\n",
    "subscription_id = \"ca9a2d87-d8dc-48d4-b027-17e79b799b00\" # <- needs to be the subscription with the resource group\n",
    "\n",
    "#Provide values for the existing Resource Group \n",
    "resource_group = \"tech-immersion-226564\" # <- replace XXXXX with your unique identifier\n",
    "\n",
    "#Provide the Workspace Name and Azure Region of the Azure Machine Learning Workspace\n",
    "workspace_name = \"gpu-tech-immersion-aml-226564\" # <- replace XXXXX with your unique identifier (should be lowercase)\n",
    "workspace_region = \"westcentralus\" # <- region of your resource group\n",
    "#other options for region include eastus, westcentralus, southeastasia, australiaeast, westeurope"
   ]
  },
  {
   "cell_type": "code",
   "execution_count": 2,
   "metadata": {},
   "outputs": [],
   "source": [
    "# constants, you can leave these values as they are or experiment with changing them after you have completed the notebook once\n",
    "experiment_name = 'automl-regression'\n",
    "project_folder = './automl-regression'\n",
    "\n",
    "# this is the URL to the CSV file containing the training data\n",
    "data_url = \"https://databricksdemostore.blob.core.windows.net/data/connected-car/training-formatted.csv\"\n",
    "\n",
    "# this is the URL to the CSV file containing a small set of test data\n",
    "test_data_url = \"https://databricksdemostore.blob.core.windows.net/data/connected-car/fleet-formatted.csv\"\n",
    "\n",
    "# provide the pre-created CPU machine learning compute found under the Compute > Training Clusters section\n",
    "cluster_name = \"aml-compute-cpu\"\n",
    "aci_service_name ='contoso-service'"
   ]
  },
  {
   "cell_type": "markdown",
   "metadata": {},
   "source": [
    "### Import required packages"
   ]
  },
  {
   "cell_type": "markdown",
   "metadata": {},
   "source": [
    "The Azure Machine Learning SDK provides a comprehensive set of a capabilities that you can use directly within a notebook including:\n",
    "- Creating a **Workspace** that acts as the root object to organize all artifacts and resources used by Azure Machine Learning.\n",
    "- Creating **Experiments** in your Workspace that capture versions of the trained model along with any desired model performance telemetry. Each time you train a model and evaluate its results, you can capture that run (model and telemetry) within an Experiment.\n",
    "- Creating **Compute** resources that can be used to scale out model training, so that while your notebook may be running in a lightweight container in Azure Notebooks, your model training can actually occur on a powerful cluster that can provide large amounts of memory, CPU or GPU. \n",
    "- Using **Automated Machine Learning (AutoML)** to automatically train multiple versions of a model using a mix of different ways to prepare the data and different algorithms and hyperparameters (algorithm settings) in search of the model that performs best according to a performance metric that you specify. \n",
    "- Packaging a Docker **Image** that contains everything your trained model needs for scoring (prediction) in order to run as a web service.\n",
    "- Deploying your Image to either Azure Kubernetes or Azure Container Instances, effectively hosting the **Web Service**.\n",
    "\n",
    "In Azure Notebooks, all of the libraries needed for Azure Machine Learning are pre-installed. To use them, you just need to import them. Run the following cell to do so:"
   ]
  },
  {
   "cell_type": "code",
   "execution_count": 3,
   "metadata": {},
   "outputs": [
    {
     "name": "stdout",
     "output_type": "stream",
     "text": [
      "SDK version: 1.14.0\n"
     ]
    }
   ],
   "source": [
    "import logging\n",
    "import os\n",
    "import random\n",
    "import re\n",
    "import urllib.request\n",
    "\n",
    "import numpy as np\n",
    "import pandas as pd\n",
    "from sklearn import datasets\n",
    "\n",
    "import azureml.core\n",
    "from azureml.core.experiment import Experiment\n",
    "from azureml.core.workspace import Workspace\n",
    "from azureml.core.compute import AksCompute, ComputeTarget\n",
    "from azureml.core.webservice import Webservice, AksWebservice\n",
    "from azureml.core.image import Image\n",
    "from azureml.core.model import Model\n",
    "from azureml.train.automl import AutoMLConfig\n",
    "from azureml.train.automl.run import AutoMLRun\n",
    "from azureml.core import Workspace\n",
    "from azureml.data.azure_storage_datastore import AzureBlobDatastore\n",
    "from azureml.core import Dataset\n",
    "\n",
    "# Check core SDK version number\n",
    "print(\"SDK version:\", azureml.core.VERSION)"
   ]
  },
  {
   "cell_type": "markdown",
   "metadata": {},
   "source": [
    "## Create and connect to an Azure Machine Learning Workspace"
   ]
  },
  {
   "cell_type": "markdown",
   "metadata": {},
   "source": [
    "Run the following cell to create a new Azure Machine Learning **Workspace** and save the configuration to disk (next to the Jupyter notebook). \n",
    "\n",
    "**Important Note**: You will be prompted to login in the text that is output below the cell. Be sure to navigate to the URL displayed and enter the code that is provided. Once you have entered the code, return to this notebook and wait for the output to read `Workspace configuration succeeded`."
   ]
  },
  {
   "cell_type": "code",
   "execution_count": 4,
   "metadata": {},
   "outputs": [
    {
     "name": "stdout",
     "output_type": "stream",
     "text": [
      "Workspace configuration succeeded\n"
     ]
    }
   ],
   "source": [
    "# By using the exist_ok param, if the worskpace already exists you get a reference to the existing workspace\n",
    "# allowing you to re-run this cell multiple times as desired (which is fairly common in notebooks).\n",
    "ws = Workspace.create(\n",
    "    name = workspace_name,\n",
    "    subscription_id = subscription_id,\n",
    "    resource_group = resource_group, \n",
    "    location = workspace_region,\n",
    "    exist_ok = True)\n",
    "\n",
    "ws.write_config()\n",
    "print('Workspace configuration succeeded')\n"
   ]
  },
  {
   "cell_type": "markdown",
   "metadata": {},
   "source": [
    "## Create a Workspace Experiment"
   ]
  },
  {
   "cell_type": "markdown",
   "metadata": {},
   "source": [
    "Notice in the first line of the cell below, we can re-load the config we saved previously and then display a summary of the environment."
   ]
  },
  {
   "cell_type": "code",
   "execution_count": 5,
   "metadata": {},
   "outputs": [
    {
     "data": {
      "text/html": [
       "<div>\n",
       "<style scoped>\n",
       "    .dataframe tbody tr th:only-of-type {\n",
       "        vertical-align: middle;\n",
       "    }\n",
       "\n",
       "    .dataframe tbody tr th {\n",
       "        vertical-align: top;\n",
       "    }\n",
       "\n",
       "    .dataframe thead th {\n",
       "        text-align: right;\n",
       "    }\n",
       "</style>\n",
       "<table border=\"1\" class=\"dataframe\">\n",
       "  <thead>\n",
       "    <tr style=\"text-align: right;\">\n",
       "      <th></th>\n",
       "      <th></th>\n",
       "    </tr>\n",
       "  </thead>\n",
       "  <tbody>\n",
       "    <tr>\n",
       "      <th>SDK version</th>\n",
       "      <td>1.14.0</td>\n",
       "    </tr>\n",
       "    <tr>\n",
       "      <th>Subscription ID</th>\n",
       "      <td>ca9a2d87-d8dc-48d4-b027-17e79b799b00</td>\n",
       "    </tr>\n",
       "    <tr>\n",
       "      <th>Workspace</th>\n",
       "      <td>gpu-tech-immersion-aml-226564</td>\n",
       "    </tr>\n",
       "    <tr>\n",
       "      <th>Resource Group</th>\n",
       "      <td>tech-immersion-226564</td>\n",
       "    </tr>\n",
       "    <tr>\n",
       "      <th>Location</th>\n",
       "      <td>westcentralus</td>\n",
       "    </tr>\n",
       "    <tr>\n",
       "      <th>Project Directory</th>\n",
       "      <td>./automl-regression</td>\n",
       "    </tr>\n",
       "  </tbody>\n",
       "</table>\n",
       "</div>"
      ],
      "text/plain": [
       "                                                       \n",
       "SDK version        1.14.0                              \n",
       "Subscription ID    ca9a2d87-d8dc-48d4-b027-17e79b799b00\n",
       "Workspace          gpu-tech-immersion-aml-226564       \n",
       "Resource Group     tech-immersion-226564               \n",
       "Location           westcentralus                       \n",
       "Project Directory  ./automl-regression                 "
      ]
     },
     "execution_count": 5,
     "metadata": {},
     "output_type": "execute_result"
    }
   ],
   "source": [
    "ws = Workspace.from_config()\n",
    "\n",
    "# Display a summary of the current environment \n",
    "output = {}\n",
    "output['SDK version'] = azureml.core.VERSION\n",
    "output['Subscription ID'] = ws.subscription_id\n",
    "output['Workspace'] = ws.name\n",
    "output['Resource Group'] = ws.resource_group\n",
    "output['Location'] = ws.location\n",
    "output['Project Directory'] = project_folder\n",
    "pd.set_option('display.max_colwidth', -1)\n",
    "pd.DataFrame(data=output, index=['']).T"
   ]
  },
  {
   "cell_type": "markdown",
   "metadata": {},
   "source": [
    "Next, create a new Experiment. "
   ]
  },
  {
   "cell_type": "code",
   "execution_count": 6,
   "metadata": {},
   "outputs": [],
   "source": [
    "experiment = Experiment(ws, experiment_name)"
   ]
  },
  {
   "cell_type": "markdown",
   "metadata": {},
   "source": [
    "## Get and explore the Vehicle Telemetry Data"
   ]
  },
  {
   "cell_type": "markdown",
   "metadata": {},
   "source": [
    "Run the following cell to download and examine the vehicle telemetry data. The model you will build will try to predict how many days until the battery has a freeze event. Which features (columns) do you think will be useful?"
   ]
  },
  {
   "cell_type": "code",
   "execution_count": 7,
   "metadata": {},
   "outputs": [
    {
     "data": {
      "text/html": [
       "<div>\n",
       "<style scoped>\n",
       "    .dataframe tbody tr th:only-of-type {\n",
       "        vertical-align: middle;\n",
       "    }\n",
       "\n",
       "    .dataframe tbody tr th {\n",
       "        vertical-align: top;\n",
       "    }\n",
       "\n",
       "    .dataframe thead th {\n",
       "        text-align: right;\n",
       "    }\n",
       "</style>\n",
       "<table border=\"1\" class=\"dataframe\">\n",
       "  <thead>\n",
       "    <tr style=\"text-align: right;\">\n",
       "      <th></th>\n",
       "      <th>Survival_In_Days</th>\n",
       "      <th>Province</th>\n",
       "      <th>Region</th>\n",
       "      <th>Trip_Length_Mean</th>\n",
       "      <th>Trip_Length_Sigma</th>\n",
       "      <th>Trips_Per_Day_Mean</th>\n",
       "      <th>Trips_Per_Day_Sigma</th>\n",
       "      <th>Battery_Rated_Cycles</th>\n",
       "      <th>Manufacture_Month</th>\n",
       "      <th>Manufacture_Year</th>\n",
       "      <th>...</th>\n",
       "      <th>Sensor_Reading_52</th>\n",
       "      <th>Sensor_Reading_53</th>\n",
       "      <th>Sensor_Reading_54</th>\n",
       "      <th>Sensor_Reading_55</th>\n",
       "      <th>Sensor_Reading_56</th>\n",
       "      <th>Sensor_Reading_57</th>\n",
       "      <th>Sensor_Reading_58</th>\n",
       "      <th>Sensor_Reading_59</th>\n",
       "      <th>Sensor_Reading_60</th>\n",
       "      <th>Sensor_Reading_61</th>\n",
       "    </tr>\n",
       "  </thead>\n",
       "  <tbody>\n",
       "    <tr>\n",
       "      <th>0</th>\n",
       "      <td>1283</td>\n",
       "      <td>Bretagne</td>\n",
       "      <td>West</td>\n",
       "      <td>18.10325</td>\n",
       "      <td>6.034416</td>\n",
       "      <td>4.733162</td>\n",
       "      <td>1.183291</td>\n",
       "      <td>275</td>\n",
       "      <td>M8</td>\n",
       "      <td>Y2010</td>\n",
       "      <td>...</td>\n",
       "      <td>16.418910</td>\n",
       "      <td>17.441310</td>\n",
       "      <td>24.718290</td>\n",
       "      <td>11.812310</td>\n",
       "      <td>19.437210</td>\n",
       "      <td>15.079740</td>\n",
       "      <td>16.982440</td>\n",
       "      <td>18.893610</td>\n",
       "      <td>13.590000</td>\n",
       "      <td>14.510940</td>\n",
       "    </tr>\n",
       "    <tr>\n",
       "      <th>1</th>\n",
       "      <td>1427</td>\n",
       "      <td>Occitanie</td>\n",
       "      <td>South</td>\n",
       "      <td>14.63707</td>\n",
       "      <td>4.879023</td>\n",
       "      <td>4.325950</td>\n",
       "      <td>1.081487</td>\n",
       "      <td>250</td>\n",
       "      <td>M8</td>\n",
       "      <td>Y2014</td>\n",
       "      <td>...</td>\n",
       "      <td>14.703280</td>\n",
       "      <td>16.154500</td>\n",
       "      <td>27.789550</td>\n",
       "      <td>22.292230</td>\n",
       "      <td>29.158610</td>\n",
       "      <td>21.739530</td>\n",
       "      <td>23.830780</td>\n",
       "      <td>19.480210</td>\n",
       "      <td>10.264120</td>\n",
       "      <td>18.009700</td>\n",
       "    </tr>\n",
       "    <tr>\n",
       "      <th>2</th>\n",
       "      <td>1436</td>\n",
       "      <td>Auvergne_Rhone_Alpes</td>\n",
       "      <td>South</td>\n",
       "      <td>14.50564</td>\n",
       "      <td>4.835215</td>\n",
       "      <td>4.418737</td>\n",
       "      <td>1.104684</td>\n",
       "      <td>250</td>\n",
       "      <td>M9</td>\n",
       "      <td>Y2018</td>\n",
       "      <td>...</td>\n",
       "      <td>22.389700</td>\n",
       "      <td>21.834420</td>\n",
       "      <td>28.743260</td>\n",
       "      <td>26.313940</td>\n",
       "      <td>15.589060</td>\n",
       "      <td>15.317560</td>\n",
       "      <td>19.613730</td>\n",
       "      <td>28.397800</td>\n",
       "      <td>19.807990</td>\n",
       "      <td>15.425770</td>\n",
       "    </tr>\n",
       "    <tr>\n",
       "      <th>3</th>\n",
       "      <td>894</td>\n",
       "      <td>Martinique</td>\n",
       "      <td>West</td>\n",
       "      <td>20.85052</td>\n",
       "      <td>6.950172</td>\n",
       "      <td>4.284968</td>\n",
       "      <td>1.071242</td>\n",
       "      <td>200</td>\n",
       "      <td>M10</td>\n",
       "      <td>Y2003</td>\n",
       "      <td>...</td>\n",
       "      <td>2.794836</td>\n",
       "      <td>13.993500</td>\n",
       "      <td>15.524580</td>\n",
       "      <td>6.298875</td>\n",
       "      <td>11.355190</td>\n",
       "      <td>14.396860</td>\n",
       "      <td>2.890394</td>\n",
       "      <td>6.362495</td>\n",
       "      <td>10.916070</td>\n",
       "      <td>10.004320</td>\n",
       "    </tr>\n",
       "    <tr>\n",
       "      <th>4</th>\n",
       "      <td>1539</td>\n",
       "      <td>Reunion</td>\n",
       "      <td>South</td>\n",
       "      <td>11.57959</td>\n",
       "      <td>3.859862</td>\n",
       "      <td>4.561532</td>\n",
       "      <td>1.140383</td>\n",
       "      <td>200</td>\n",
       "      <td>M10</td>\n",
       "      <td>Y2007</td>\n",
       "      <td>...</td>\n",
       "      <td>26.631860</td>\n",
       "      <td>26.116980</td>\n",
       "      <td>18.011900</td>\n",
       "      <td>25.257760</td>\n",
       "      <td>25.320780</td>\n",
       "      <td>26.894640</td>\n",
       "      <td>18.863220</td>\n",
       "      <td>25.744930</td>\n",
       "      <td>24.027720</td>\n",
       "      <td>23.657220</td>\n",
       "    </tr>\n",
       "    <tr>\n",
       "      <th>...</th>\n",
       "      <td>...</td>\n",
       "      <td>...</td>\n",
       "      <td>...</td>\n",
       "      <td>...</td>\n",
       "      <td>...</td>\n",
       "      <td>...</td>\n",
       "      <td>...</td>\n",
       "      <td>...</td>\n",
       "      <td>...</td>\n",
       "      <td>...</td>\n",
       "      <td>...</td>\n",
       "      <td>...</td>\n",
       "      <td>...</td>\n",
       "      <td>...</td>\n",
       "      <td>...</td>\n",
       "      <td>...</td>\n",
       "      <td>...</td>\n",
       "      <td>...</td>\n",
       "      <td>...</td>\n",
       "      <td>...</td>\n",
       "      <td>...</td>\n",
       "    </tr>\n",
       "    <tr>\n",
       "      <th>9995</th>\n",
       "      <td>1774</td>\n",
       "      <td>Provence_Alpes_Cote_d_Azure</td>\n",
       "      <td>South</td>\n",
       "      <td>19.72264</td>\n",
       "      <td>6.574214</td>\n",
       "      <td>4.394478</td>\n",
       "      <td>1.098619</td>\n",
       "      <td>200</td>\n",
       "      <td>M6</td>\n",
       "      <td>Y2017</td>\n",
       "      <td>...</td>\n",
       "      <td>33.689770</td>\n",
       "      <td>14.716640</td>\n",
       "      <td>19.794820</td>\n",
       "      <td>20.966630</td>\n",
       "      <td>20.486930</td>\n",
       "      <td>24.942620</td>\n",
       "      <td>28.590580</td>\n",
       "      <td>22.982010</td>\n",
       "      <td>21.230130</td>\n",
       "      <td>23.120810</td>\n",
       "    </tr>\n",
       "    <tr>\n",
       "      <th>9996</th>\n",
       "      <td>1078</td>\n",
       "      <td>Martinique</td>\n",
       "      <td>West</td>\n",
       "      <td>22.00332</td>\n",
       "      <td>7.334442</td>\n",
       "      <td>4.232257</td>\n",
       "      <td>1.058064</td>\n",
       "      <td>200</td>\n",
       "      <td>M7</td>\n",
       "      <td>Y2002</td>\n",
       "      <td>...</td>\n",
       "      <td>11.976990</td>\n",
       "      <td>19.494010</td>\n",
       "      <td>14.296590</td>\n",
       "      <td>20.887060</td>\n",
       "      <td>21.960480</td>\n",
       "      <td>23.866730</td>\n",
       "      <td>15.518700</td>\n",
       "      <td>22.327410</td>\n",
       "      <td>25.118430</td>\n",
       "      <td>17.900190</td>\n",
       "    </tr>\n",
       "    <tr>\n",
       "      <th>9997</th>\n",
       "      <td>778</td>\n",
       "      <td>Reunion</td>\n",
       "      <td>South</td>\n",
       "      <td>11.60729</td>\n",
       "      <td>3.869097</td>\n",
       "      <td>4.758821</td>\n",
       "      <td>1.189705</td>\n",
       "      <td>300</td>\n",
       "      <td>M8</td>\n",
       "      <td>Y2006</td>\n",
       "      <td>...</td>\n",
       "      <td>22.362340</td>\n",
       "      <td>20.986320</td>\n",
       "      <td>23.823440</td>\n",
       "      <td>24.835710</td>\n",
       "      <td>20.677540</td>\n",
       "      <td>19.468390</td>\n",
       "      <td>25.733030</td>\n",
       "      <td>18.123240</td>\n",
       "      <td>20.128850</td>\n",
       "      <td>25.896020</td>\n",
       "    </tr>\n",
       "    <tr>\n",
       "      <th>9998</th>\n",
       "      <td>1772</td>\n",
       "      <td>Marseille</td>\n",
       "      <td>South</td>\n",
       "      <td>13.12306</td>\n",
       "      <td>4.374355</td>\n",
       "      <td>4.922841</td>\n",
       "      <td>1.230710</td>\n",
       "      <td>300</td>\n",
       "      <td>M8</td>\n",
       "      <td>Y2010</td>\n",
       "      <td>...</td>\n",
       "      <td>6.414015</td>\n",
       "      <td>6.227712</td>\n",
       "      <td>10.510530</td>\n",
       "      <td>5.051135</td>\n",
       "      <td>4.304516</td>\n",
       "      <td>2.131638</td>\n",
       "      <td>11.710170</td>\n",
       "      <td>1.592314</td>\n",
       "      <td>4.341129</td>\n",
       "      <td>3.215770</td>\n",
       "    </tr>\n",
       "    <tr>\n",
       "      <th>9999</th>\n",
       "      <td>455</td>\n",
       "      <td>Ile_de_France</td>\n",
       "      <td>MidWest</td>\n",
       "      <td>14.83130</td>\n",
       "      <td>4.943765</td>\n",
       "      <td>4.015628</td>\n",
       "      <td>1.003907</td>\n",
       "      <td>275</td>\n",
       "      <td>M9</td>\n",
       "      <td>Y2014</td>\n",
       "      <td>...</td>\n",
       "      <td>-1.455170</td>\n",
       "      <td>-10.729900</td>\n",
       "      <td>0.534672</td>\n",
       "      <td>-1.923601</td>\n",
       "      <td>-2.739188</td>\n",
       "      <td>-1.856028</td>\n",
       "      <td>-2.581516</td>\n",
       "      <td>-7.807639</td>\n",
       "      <td>8.136984</td>\n",
       "      <td>-5.292151</td>\n",
       "    </tr>\n",
       "  </tbody>\n",
       "</table>\n",
       "<p>10000 rows × 74 columns</p>\n",
       "</div>"
      ],
      "text/plain": [
       "      Survival_In_Days                     Province   Region  \\\n",
       "0     1283              Bretagne                     West      \n",
       "1     1427              Occitanie                    South     \n",
       "2     1436              Auvergne_Rhone_Alpes         South     \n",
       "3     894               Martinique                   West      \n",
       "4     1539              Reunion                      South     \n",
       "...    ...                  ...                        ...     \n",
       "9995  1774              Provence_Alpes_Cote_d_Azure  South     \n",
       "9996  1078              Martinique                   West      \n",
       "9997  778               Reunion                      South     \n",
       "9998  1772              Marseille                    South     \n",
       "9999  455               Ile_de_France                MidWest   \n",
       "\n",
       "      Trip_Length_Mean  Trip_Length_Sigma  Trips_Per_Day_Mean  \\\n",
       "0     18.10325          6.034416           4.733162             \n",
       "1     14.63707          4.879023           4.325950             \n",
       "2     14.50564          4.835215           4.418737             \n",
       "3     20.85052          6.950172           4.284968             \n",
       "4     11.57959          3.859862           4.561532             \n",
       "...        ...               ...                ...             \n",
       "9995  19.72264          6.574214           4.394478             \n",
       "9996  22.00332          7.334442           4.232257             \n",
       "9997  11.60729          3.869097           4.758821             \n",
       "9998  13.12306          4.374355           4.922841             \n",
       "9999  14.83130          4.943765           4.015628             \n",
       "\n",
       "      Trips_Per_Day_Sigma  Battery_Rated_Cycles Manufacture_Month  \\\n",
       "0     1.183291             275                   M8                 \n",
       "1     1.081487             250                   M8                 \n",
       "2     1.104684             250                   M9                 \n",
       "3     1.071242             200                   M10                \n",
       "4     1.140383             200                   M10                \n",
       "...        ...             ...                   ...                \n",
       "9995  1.098619             200                   M6                 \n",
       "9996  1.058064             200                   M7                 \n",
       "9997  1.189705             300                   M8                 \n",
       "9998  1.230710             300                   M8                 \n",
       "9999  1.003907             275                   M9                 \n",
       "\n",
       "     Manufacture_Year  ...  Sensor_Reading_52  Sensor_Reading_53  \\\n",
       "0     Y2010            ...  16.418910          17.441310           \n",
       "1     Y2014            ...  14.703280          16.154500           \n",
       "2     Y2018            ...  22.389700          21.834420           \n",
       "3     Y2003            ...  2.794836           13.993500           \n",
       "4     Y2007            ...  26.631860          26.116980           \n",
       "...     ...            ...        ...                ...           \n",
       "9995  Y2017            ...  33.689770          14.716640           \n",
       "9996  Y2002            ...  11.976990          19.494010           \n",
       "9997  Y2006            ...  22.362340          20.986320           \n",
       "9998  Y2010            ...  6.414015           6.227712            \n",
       "9999  Y2014            ... -1.455170          -10.729900           \n",
       "\n",
       "      Sensor_Reading_54  Sensor_Reading_55  Sensor_Reading_56  \\\n",
       "0     24.718290          11.812310          19.437210           \n",
       "1     27.789550          22.292230          29.158610           \n",
       "2     28.743260          26.313940          15.589060           \n",
       "3     15.524580          6.298875           11.355190           \n",
       "4     18.011900          25.257760          25.320780           \n",
       "...         ...                ...                ...           \n",
       "9995  19.794820          20.966630          20.486930           \n",
       "9996  14.296590          20.887060          21.960480           \n",
       "9997  23.823440          24.835710          20.677540           \n",
       "9998  10.510530          5.051135           4.304516            \n",
       "9999  0.534672          -1.923601          -2.739188            \n",
       "\n",
       "      Sensor_Reading_57  Sensor_Reading_58  Sensor_Reading_59  \\\n",
       "0     15.079740          16.982440          18.893610           \n",
       "1     21.739530          23.830780          19.480210           \n",
       "2     15.317560          19.613730          28.397800           \n",
       "3     14.396860          2.890394           6.362495            \n",
       "4     26.894640          18.863220          25.744930           \n",
       "...         ...                ...                ...           \n",
       "9995  24.942620          28.590580          22.982010           \n",
       "9996  23.866730          15.518700          22.327410           \n",
       "9997  19.468390          25.733030          18.123240           \n",
       "9998  2.131638           11.710170          1.592314            \n",
       "9999 -1.856028          -2.581516          -7.807639            \n",
       "\n",
       "      Sensor_Reading_60  Sensor_Reading_61  \n",
       "0     13.590000          14.510940          \n",
       "1     10.264120          18.009700          \n",
       "2     19.807990          15.425770          \n",
       "3     10.916070          10.004320          \n",
       "4     24.027720          23.657220          \n",
       "...         ...                ...          \n",
       "9995  21.230130          23.120810          \n",
       "9996  25.118430          17.900190          \n",
       "9997  20.128850          25.896020          \n",
       "9998  4.341129           3.215770           \n",
       "9999  8.136984          -5.292151           \n",
       "\n",
       "[10000 rows x 74 columns]"
      ]
     },
     "execution_count": 7,
     "metadata": {},
     "output_type": "execute_result"
    }
   ],
   "source": [
    "data = pd.read_csv(data_url)\n",
    "data"
   ]
  },
  {
   "cell_type": "markdown",
   "metadata": {},
   "source": [
    "## Remotely train multiple models using Auto ML and Azure ML Compute"
   ]
  },
  {
   "cell_type": "markdown",
   "metadata": {},
   "source": [
    "In the following cells, you will *not* train the model against the data you just downloaded using the resources provided by the VM. Instead, you will deploy an Azure ML Compute cluster that will download the data and use Auto ML to train multiple models, evaluate the performance and allow you to retrieve the best model that was trained. In other words, all of the training will be performed remotely with respect to this notebook. \n",
    "\n",
    "\n",
    "As you will see this is almost entirely done thru configuration, with very little code required. "
   ]
  },
  {
   "cell_type": "markdown",
   "metadata": {},
   "source": [
    "### Create Azure Machine Learning TabularDataset"
   ]
  },
  {
   "cell_type": "markdown",
   "metadata": {},
   "source": [
    "Download the training dataset to the project_folder, and then upload the data to the default workspace datastore which is backed by the Azure blob storage. Next, using the training data saved in the default workspace datastore, we will create an unregistered TabularDataset pointing to the path in the datastore. This dataset reference, will allow us to seamlessly access the training data during model training without worrying about connection strings or data paths."
   ]
  },
  {
   "cell_type": "code",
   "execution_count": 8,
   "metadata": {},
   "outputs": [
    {
     "name": "stdout",
     "output_type": "stream",
     "text": [
      "Uploading an estimated of 1 files\n",
      "Uploading ./automl-regression/training-formatted.csv\n",
      "Uploaded ./automl-regression/training-formatted.csv, 1 files out of an estimated total of 1\n",
      "Uploaded 1 files\n"
     ]
    },
    {
     "data": {
      "text/html": [
       "<div>\n",
       "<style scoped>\n",
       "    .dataframe tbody tr th:only-of-type {\n",
       "        vertical-align: middle;\n",
       "    }\n",
       "\n",
       "    .dataframe tbody tr th {\n",
       "        vertical-align: top;\n",
       "    }\n",
       "\n",
       "    .dataframe thead th {\n",
       "        text-align: right;\n",
       "    }\n",
       "</style>\n",
       "<table border=\"1\" class=\"dataframe\">\n",
       "  <thead>\n",
       "    <tr style=\"text-align: right;\">\n",
       "      <th></th>\n",
       "      <th>Survival_In_Days</th>\n",
       "      <th>Province</th>\n",
       "      <th>Region</th>\n",
       "      <th>Trip_Length_Mean</th>\n",
       "      <th>Trip_Length_Sigma</th>\n",
       "      <th>Trips_Per_Day_Mean</th>\n",
       "      <th>Trips_Per_Day_Sigma</th>\n",
       "      <th>Battery_Rated_Cycles</th>\n",
       "      <th>Manufacture_Month</th>\n",
       "      <th>Manufacture_Year</th>\n",
       "      <th>...</th>\n",
       "      <th>Sensor_Reading_52</th>\n",
       "      <th>Sensor_Reading_53</th>\n",
       "      <th>Sensor_Reading_54</th>\n",
       "      <th>Sensor_Reading_55</th>\n",
       "      <th>Sensor_Reading_56</th>\n",
       "      <th>Sensor_Reading_57</th>\n",
       "      <th>Sensor_Reading_58</th>\n",
       "      <th>Sensor_Reading_59</th>\n",
       "      <th>Sensor_Reading_60</th>\n",
       "      <th>Sensor_Reading_61</th>\n",
       "    </tr>\n",
       "  </thead>\n",
       "  <tbody>\n",
       "    <tr>\n",
       "      <th>0</th>\n",
       "      <td>1283</td>\n",
       "      <td>Bretagne</td>\n",
       "      <td>West</td>\n",
       "      <td>18.10325</td>\n",
       "      <td>6.034416</td>\n",
       "      <td>4.733162</td>\n",
       "      <td>1.183291</td>\n",
       "      <td>275</td>\n",
       "      <td>M8</td>\n",
       "      <td>Y2010</td>\n",
       "      <td>...</td>\n",
       "      <td>16.418910</td>\n",
       "      <td>17.44131</td>\n",
       "      <td>24.71829</td>\n",
       "      <td>11.812310</td>\n",
       "      <td>19.43721</td>\n",
       "      <td>15.07974</td>\n",
       "      <td>16.982440</td>\n",
       "      <td>18.893610</td>\n",
       "      <td>13.59000</td>\n",
       "      <td>14.51094</td>\n",
       "    </tr>\n",
       "    <tr>\n",
       "      <th>1</th>\n",
       "      <td>1427</td>\n",
       "      <td>Occitanie</td>\n",
       "      <td>South</td>\n",
       "      <td>14.63707</td>\n",
       "      <td>4.879023</td>\n",
       "      <td>4.325950</td>\n",
       "      <td>1.081487</td>\n",
       "      <td>250</td>\n",
       "      <td>M8</td>\n",
       "      <td>Y2014</td>\n",
       "      <td>...</td>\n",
       "      <td>14.703280</td>\n",
       "      <td>16.15450</td>\n",
       "      <td>27.78955</td>\n",
       "      <td>22.292230</td>\n",
       "      <td>29.15861</td>\n",
       "      <td>21.73953</td>\n",
       "      <td>23.830780</td>\n",
       "      <td>19.480210</td>\n",
       "      <td>10.26412</td>\n",
       "      <td>18.00970</td>\n",
       "    </tr>\n",
       "    <tr>\n",
       "      <th>2</th>\n",
       "      <td>1436</td>\n",
       "      <td>Auvergne_Rhone_Alpes</td>\n",
       "      <td>South</td>\n",
       "      <td>14.50564</td>\n",
       "      <td>4.835215</td>\n",
       "      <td>4.418737</td>\n",
       "      <td>1.104684</td>\n",
       "      <td>250</td>\n",
       "      <td>M9</td>\n",
       "      <td>Y2018</td>\n",
       "      <td>...</td>\n",
       "      <td>22.389700</td>\n",
       "      <td>21.83442</td>\n",
       "      <td>28.74326</td>\n",
       "      <td>26.313940</td>\n",
       "      <td>15.58906</td>\n",
       "      <td>15.31756</td>\n",
       "      <td>19.613730</td>\n",
       "      <td>28.397800</td>\n",
       "      <td>19.80799</td>\n",
       "      <td>15.42577</td>\n",
       "    </tr>\n",
       "    <tr>\n",
       "      <th>3</th>\n",
       "      <td>894</td>\n",
       "      <td>Martinique</td>\n",
       "      <td>West</td>\n",
       "      <td>20.85052</td>\n",
       "      <td>6.950172</td>\n",
       "      <td>4.284968</td>\n",
       "      <td>1.071242</td>\n",
       "      <td>200</td>\n",
       "      <td>M10</td>\n",
       "      <td>Y2003</td>\n",
       "      <td>...</td>\n",
       "      <td>2.794836</td>\n",
       "      <td>13.99350</td>\n",
       "      <td>15.52458</td>\n",
       "      <td>6.298875</td>\n",
       "      <td>11.35519</td>\n",
       "      <td>14.39686</td>\n",
       "      <td>2.890394</td>\n",
       "      <td>6.362495</td>\n",
       "      <td>10.91607</td>\n",
       "      <td>10.00432</td>\n",
       "    </tr>\n",
       "    <tr>\n",
       "      <th>4</th>\n",
       "      <td>1539</td>\n",
       "      <td>Reunion</td>\n",
       "      <td>South</td>\n",
       "      <td>11.57959</td>\n",
       "      <td>3.859862</td>\n",
       "      <td>4.561532</td>\n",
       "      <td>1.140383</td>\n",
       "      <td>200</td>\n",
       "      <td>M10</td>\n",
       "      <td>Y2007</td>\n",
       "      <td>...</td>\n",
       "      <td>26.631860</td>\n",
       "      <td>26.11698</td>\n",
       "      <td>18.01190</td>\n",
       "      <td>25.257760</td>\n",
       "      <td>25.32078</td>\n",
       "      <td>26.89464</td>\n",
       "      <td>18.863220</td>\n",
       "      <td>25.744930</td>\n",
       "      <td>24.02772</td>\n",
       "      <td>23.65722</td>\n",
       "    </tr>\n",
       "  </tbody>\n",
       "</table>\n",
       "<p>5 rows × 74 columns</p>\n",
       "</div>"
      ],
      "text/plain": [
       "   Survival_In_Days              Province Region  Trip_Length_Mean  \\\n",
       "0  1283              Bretagne              West   18.10325           \n",
       "1  1427              Occitanie             South  14.63707           \n",
       "2  1436              Auvergne_Rhone_Alpes  South  14.50564           \n",
       "3  894               Martinique            West   20.85052           \n",
       "4  1539              Reunion               South  11.57959           \n",
       "\n",
       "   Trip_Length_Sigma  Trips_Per_Day_Mean  Trips_Per_Day_Sigma  \\\n",
       "0  6.034416           4.733162            1.183291              \n",
       "1  4.879023           4.325950            1.081487              \n",
       "2  4.835215           4.418737            1.104684              \n",
       "3  6.950172           4.284968            1.071242              \n",
       "4  3.859862           4.561532            1.140383              \n",
       "\n",
       "   Battery_Rated_Cycles Manufacture_Month Manufacture_Year  ...  \\\n",
       "0  275                   M8                Y2010            ...   \n",
       "1  250                   M8                Y2014            ...   \n",
       "2  250                   M9                Y2018            ...   \n",
       "3  200                   M10               Y2003            ...   \n",
       "4  200                   M10               Y2007            ...   \n",
       "\n",
       "   Sensor_Reading_52  Sensor_Reading_53  Sensor_Reading_54  Sensor_Reading_55  \\\n",
       "0  16.418910          17.44131           24.71829           11.812310           \n",
       "1  14.703280          16.15450           27.78955           22.292230           \n",
       "2  22.389700          21.83442           28.74326           26.313940           \n",
       "3  2.794836           13.99350           15.52458           6.298875            \n",
       "4  26.631860          26.11698           18.01190           25.257760           \n",
       "\n",
       "   Sensor_Reading_56  Sensor_Reading_57  Sensor_Reading_58  Sensor_Reading_59  \\\n",
       "0  19.43721           15.07974           16.982440          18.893610           \n",
       "1  29.15861           21.73953           23.830780          19.480210           \n",
       "2  15.58906           15.31756           19.613730          28.397800           \n",
       "3  11.35519           14.39686           2.890394           6.362495            \n",
       "4  25.32078           26.89464           18.863220          25.744930           \n",
       "\n",
       "   Sensor_Reading_60  Sensor_Reading_61  \n",
       "0  13.59000           14.51094           \n",
       "1  10.26412           18.00970           \n",
       "2  19.80799           15.42577           \n",
       "3  10.91607           10.00432           \n",
       "4  24.02772           23.65722           \n",
       "\n",
       "[5 rows x 74 columns]"
      ]
     },
     "execution_count": 8,
     "metadata": {},
     "output_type": "execute_result"
    }
   ],
   "source": [
    "# create project folder\n",
    "if not os.path.exists(project_folder):\n",
    "    os.makedirs(project_folder)\n",
    "\n",
    "# download the training dataset from data_url to the project folder\n",
    "urllib.request.urlretrieve(data_url, os.path.join(project_folder, 'training-formatted.csv'))\n",
    "\n",
    "# upload training dataset to default workspace datastore\n",
    "datastore = ws.get_default_datastore()\n",
    "datastore.upload_files(files = [os.path.join(project_folder, 'training-formatted.csv')],\n",
    "                       target_path = 'train-dataset/tabular/',\n",
    "                       overwrite = True,\n",
    "                       show_progress = True)\n",
    "\n",
    "# create TabularDataset reference\n",
    "dataset = Dataset.Tabular.from_delimited_files(path = [(datastore, \n",
    "                                                        'train-dataset/tabular/training-formatted.csv')])\n",
    "\n",
    "# target or label column name\n",
    "target_column_name = 'Survival_In_Days'\n",
    "\n",
    "# preview the first 5 rows of the dataset\n",
    "dataset.take(5).to_pandas_dataframe()"
   ]
  },
  {
   "cell_type": "markdown",
   "metadata": {},
   "source": [
    "### Create AML Compute Cluster"
   ]
  },
  {
   "cell_type": "markdown",
   "metadata": {},
   "source": [
    "Now you are ready to create the compute cluster. Run the following cell to create a new compute cluster (or retrieve the existing cluster if it already exists). The code below will create a *CPU based* cluster where each node in the cluster is of the size `STANDARD_DS3_V2`, and the cluster will have *1* node. "
   ]
  },
  {
   "cell_type": "code",
   "execution_count": 9,
   "metadata": {},
   "outputs": [
    {
     "name": "stdout",
     "output_type": "stream",
     "text": [
      "Found existing compute target.\n",
      "{'currentNodeCount': 1, 'targetNodeCount': 1, 'nodeStateCounts': {'preparingNodeCount': 0, 'runningNodeCount': 0, 'idleNodeCount': 1, 'unusableNodeCount': 0, 'leavingNodeCount': 0, 'preemptedNodeCount': 0}, 'allocationState': 'Steady', 'allocationStateTransitionTime': '2020-09-24T12:34:50.207000+00:00', 'errors': None, 'creationTime': '2020-09-24T12:32:42.794589+00:00', 'modifiedTime': '2020-09-24T12:33:00.480140+00:00', 'provisioningState': 'Succeeded', 'provisioningStateTransitionTime': None, 'scaleSettings': {'minNodeCount': 1, 'maxNodeCount': 1, 'nodeIdleTimeBeforeScaleDown': 'PT120S'}, 'vmPriority': 'Dedicated', 'vmSize': 'STANDARD_D2_V2'}\n"
     ]
    }
   ],
   "source": [
    "### Create AML CPU based Compute Cluster\n",
    "from azureml.core.compute import ComputeTarget, AmlCompute\n",
    "from azureml.core.compute_target import ComputeTargetException\n",
    "\n",
    "try:\n",
    "    compute_target = ComputeTarget(workspace=ws, name=cluster_name)\n",
    "    print('Found existing compute target.')\n",
    "except ComputeTargetException:\n",
    "    print('Creating a new compute target...')\n",
    "    compute_config = AmlCompute.provisioning_configuration(vm_size='STANDARD_DS3_V2',\n",
    "                                                           max_nodes=1)\n",
    "\n",
    "    # create the cluster\n",
    "    compute_target = ComputeTarget.create(ws, cluster_name, compute_config)\n",
    "\n",
    "    compute_target.wait_for_completion(show_output=True)\n",
    "\n",
    "# Use the 'status' property to get a detailed status for the current AmlCompute. \n",
    "print(compute_target.status.serialize())"
   ]
  },
  {
   "cell_type": "markdown",
   "metadata": {},
   "source": [
    "## Run our Experiment on AML Compute"
   ]
  },
  {
   "cell_type": "markdown",
   "metadata": {},
   "source": [
    "### Instantiate an Automated ML Config"
   ]
  },
  {
   "cell_type": "markdown",
   "metadata": {},
   "source": [
    "Run the following cell to configure the Auto ML run. In short what you are configuring here is the training of a regressor model that will attempt to predict the value of the first feature (`Survival_in_days`) based on all the other features in the data set. The run is configured to try at most 3 iterations where no iteration can run longer that 2 minutes. \n",
    "\n",
    "Additionally, the data will be automatically pre-processed in different ways as a part of the automated model training (as indicated by the `preprocess` attribute having a value of `True`). This is a very powerful feature of Auto ML as it tries many best practices approaches for you, and saves you a lot of time and effort in the process.\n",
    "\n",
    "The goal of Auto ML in this case is to find the best models that result, as measure by the normalized root mean squared error metric (as indicated by the `primary_metric` attribute). The error is basically a measure of what the model predicts versus what was provided as the \"answer\" in the training data. In short, AutoML will try to get the error as low as possible when trying its combination of approaches.  \n",
    "\n",
    "The local path to the script you created to retrieve the data is supplied to the AutoMLConfig, ensuring the file is made available to the remote cluster. The actual execution of this training will occur on the compute cluster you created previously. \n",
    "\n",
    "In general, the AutoMLConfig is very flexible, allowing you to specify all of the following:\n",
    "- Task type (classification, regression, forecasting)\n",
    "- Number of algorithm iterations and maximum time per iteration\n",
    "- Accuracy metric to optimize\n",
    "- Algorithms to blacklist (skip)/whitelist (include)\n",
    "- Number of cross-validations\n",
    "- Compute targets\n",
    "- Training data\n",
    "\n",
    "Run the following cell to create the configuration."
   ]
  },
  {
   "cell_type": "code",
   "execution_count": 10,
   "metadata": {},
   "outputs": [],
   "source": [
    "automl_config = AutoMLConfig(task = 'regression',\n",
    "                             iterations = 3,\n",
    "                             iteration_timeout_minutes = 5, \n",
    "                             max_cores_per_iteration = 10,\n",
    "                             featurization='auto',\n",
    "                             primary_metric='normalized_root_mean_squared_error',\n",
    "                             n_cross_validations = 5,\n",
    "                             debug_log = 'automl.log',\n",
    "                             verbosity = logging.DEBUG,\n",
    "                             training_data = dataset, \n",
    "                             label_column_name=target_column_name,\n",
    "                             compute_target = compute_target,\n",
    "                             path = project_folder)"
   ]
  },
  {
   "cell_type": "markdown",
   "metadata": {},
   "source": [
    "### Run the Experiment"
   ]
  },
  {
   "cell_type": "markdown",
   "metadata": {},
   "source": [
    "Run the following cell to execute the experiment on the remote compute cluster.\n",
    "\n",
    "This will remotely train multiple models, evaluate them and allow you review the performance characteristics of each one, as well as to pick the *best model* that was trained and download it. "
   ]
  },
  {
   "cell_type": "code",
   "execution_count": 11,
   "metadata": {},
   "outputs": [
    {
     "name": "stdout",
     "output_type": "stream",
     "text": [
      "Running on remote or ADB.\n"
     ]
    },
    {
     "data": {
      "text/html": [
       "<table style=\"width:100%\"><tr><th>Experiment</th><th>Id</th><th>Type</th><th>Status</th><th>Details Page</th><th>Docs Page</th></tr><tr><td>automl-regression</td><td>AutoML_44b40174-81cc-406c-9424-df0569de9f92</td><td>automl</td><td>NotStarted</td><td><a href=\"https://ml.azure.com/experiments/automl-regression/runs/AutoML_44b40174-81cc-406c-9424-df0569de9f92?wsid=/subscriptions/ca9a2d87-d8dc-48d4-b027-17e79b799b00/resourcegroups/tech-immersion-226564/workspaces/gpu-tech-immersion-aml-226564\" target=\"_blank\" rel=\"noopener\">Link to Azure Machine Learning studio</a></td><td><a href=\"https://docs.microsoft.com/en-us/python/api/overview/azure/ml/intro?view=azure-ml-py\" target=\"_blank\" rel=\"noopener\">Link to Documentation</a></td></tr></table>"
      ],
      "text/plain": [
       "Run(Experiment: automl-regression,\n",
       "Id: AutoML_44b40174-81cc-406c-9424-df0569de9f92,\n",
       "Type: automl,\n",
       "Status: NotStarted)"
      ]
     },
     "execution_count": 11,
     "metadata": {},
     "output_type": "execute_result"
    }
   ],
   "source": [
    "remote_run = experiment.submit(automl_config, show_output=False)\n",
    "remote_run"
   ]
  },
  {
   "cell_type": "markdown",
   "metadata": {},
   "source": [
    "Once the above cell completes, the run is starting but will likely have a status of **Preparing** for you. To wait for the run to complete before continuing (and to view the training status updates as they happen), run the next cell.\n",
    "\n",
    "Run the next cell, and wait for run status to be in **Completed** state.\n",
    "\n",
    "*Note: The first time you run this, it will take about 15 minutes to complete as the cluster is configured and then the AutoML job is run*"
   ]
  },
  {
   "cell_type": "code",
   "execution_count": 12,
   "metadata": {},
   "outputs": [
    {
     "data": {
      "application/vnd.jupyter.widget-view+json": {
       "model_id": "419d35bff7d4431ab4fee075d98dfa83",
       "version_major": 2,
       "version_minor": 0
      },
      "text/plain": [
       "_AutoMLWidget(widget_settings={'childWidgetDisplay': 'popup', 'send_telemetry': False, 'log_level': 'INFO', 's…"
      ]
     },
     "metadata": {},
     "output_type": "display_data"
    },
    {
     "data": {
      "application/aml.mini.widget.v1": "{\"status\": \"Completed\", \"workbench_run_details_uri\": \"https://ml.azure.com/experiments/automl-regression/runs/AutoML_44b40174-81cc-406c-9424-df0569de9f92?wsid=/subscriptions/ca9a2d87-d8dc-48d4-b027-17e79b799b00/resourcegroups/tech-immersion-226564/workspaces/gpu-tech-immersion-aml-226564\", \"run_id\": \"AutoML_44b40174-81cc-406c-9424-df0569de9f92\", \"run_properties\": {\"run_id\": \"AutoML_44b40174-81cc-406c-9424-df0569de9f92\", \"created_utc\": \"2020-09-24T16:40:00.886675Z\", \"properties\": {\"num_iterations\": \"3\", \"training_type\": \"TrainFull\", \"acquisition_function\": \"EI\", \"primary_metric\": \"normalized_root_mean_squared_error\", \"train_split\": \"0\", \"acquisition_parameter\": \"0\", \"num_cross_validation\": \"5\", \"target\": \"aml-compute-cpu\", \"AMLSettingsJsonString\": \"{\\\"path\\\":null,\\\"name\\\":\\\"automl-regression\\\",\\\"subscription_id\\\":\\\"ca9a2d87-d8dc-48d4-b027-17e79b799b00\\\",\\\"resource_group\\\":\\\"tech-immersion-226564\\\",\\\"workspace_name\\\":\\\"gpu-tech-immersion-aml-226564\\\",\\\"region\\\":\\\"westcentralus\\\",\\\"compute_target\\\":\\\"aml-compute-cpu\\\",\\\"spark_service\\\":null,\\\"azure_service\\\":\\\"remote\\\",\\\"_local_managed_run_id\\\":null,\\\"many_models\\\":false,\\\"iterations\\\":3,\\\"primary_metric\\\":\\\"normalized_root_mean_squared_error\\\",\\\"task_type\\\":\\\"regression\\\",\\\"data_script\\\":null,\\\"validation_size\\\":0.0,\\\"n_cross_validations\\\":5,\\\"y_min\\\":null,\\\"y_max\\\":null,\\\"num_classes\\\":null,\\\"featurization\\\":\\\"auto\\\",\\\"_ignore_package_version_incompatibilities\\\":false,\\\"is_timeseries\\\":false,\\\"max_cores_per_iteration\\\":10,\\\"max_concurrent_iterations\\\":1,\\\"iteration_timeout_minutes\\\":5,\\\"mem_in_mb\\\":null,\\\"enforce_time_on_windows\\\":false,\\\"experiment_timeout_minutes\\\":8640,\\\"experiment_exit_score\\\":null,\\\"whitelist_models\\\":null,\\\"blacklist_algos\\\":[\\\"TensorFlowDNN\\\",\\\"TensorFlowLinearRegressor\\\"],\\\"supported_models\\\":[\\\"TensorFlowLinearRegressor\\\",\\\"ExtremeRandomTrees\\\",\\\"ElasticNet\\\",\\\"DecisionTree\\\",\\\"KNN\\\",\\\"LightGBM\\\",\\\"OnlineGradientDescentRegressor\\\",\\\"RandomForest\\\",\\\"GradientBoosting\\\",\\\"LassoLars\\\",\\\"TensorFlowDNN\\\",\\\"FastLinearRegressor\\\",\\\"XGBoostRegressor\\\",\\\"SGD\\\"],\\\"auto_blacklist\\\":true,\\\"blacklist_samples_reached\\\":false,\\\"exclude_nan_labels\\\":true,\\\"verbosity\\\":10,\\\"_debug_log\\\":\\\"azureml_automl.log\\\",\\\"show_warnings\\\":false,\\\"model_explainability\\\":true,\\\"service_url\\\":null,\\\"sdk_url\\\":null,\\\"sdk_packages\\\":null,\\\"enable_onnx_compatible_models\\\":false,\\\"enable_split_onnx_featurizer_estimator_models\\\":false,\\\"vm_type\\\":\\\"STANDARD_D2_V2\\\",\\\"telemetry_verbosity\\\":10,\\\"send_telemetry\\\":true,\\\"enable_dnn\\\":false,\\\"force_text_dnn\\\":false,\\\"enable_feature_sweeping\\\":true,\\\"enable_early_stopping\\\":false,\\\"early_stopping_n_iters\\\":10,\\\"metrics\\\":null,\\\"enable_ensembling\\\":false,\\\"enable_stack_ensembling\\\":false,\\\"ensemble_iterations\\\":null,\\\"enable_tf\\\":false,\\\"enable_subsampling\\\":false,\\\"subsample_seed\\\":null,\\\"enable_nimbusml\\\":false,\\\"enable_streaming\\\":false,\\\"force_streaming\\\":false,\\\"track_child_runs\\\":true,\\\"label_column_name\\\":\\\"Survival_In_Days\\\",\\\"weight_column_name\\\":null,\\\"cv_split_column_names\\\":null,\\\"enable_local_managed\\\":false,\\\"cost_mode\\\":1,\\\"lag_length\\\":0,\\\"metric_operation\\\":\\\"minimize\\\",\\\"preprocess\\\":true,\\\"scenario\\\":\\\"SDK-1.13.0\\\"}\", \"DataPrepJsonString\": \"{\\\\\\\"training_data\\\\\\\": \\\\\\\"{\\\\\\\\\\\\\\\"blocks\\\\\\\\\\\\\\\": [{\\\\\\\\\\\\\\\"id\\\\\\\\\\\\\\\": \\\\\\\\\\\\\\\"357c16ac-7c6b-40a2-b4bc-ccb651b9e95e\\\\\\\\\\\\\\\", \\\\\\\\\\\\\\\"type\\\\\\\\\\\\\\\": \\\\\\\\\\\\\\\"Microsoft.DPrep.GetDatastoreFilesBlock\\\\\\\\\\\\\\\", \\\\\\\\\\\\\\\"arguments\\\\\\\\\\\\\\\": {\\\\\\\\\\\\\\\"datastores\\\\\\\\\\\\\\\": [{\\\\\\\\\\\\\\\"datastoreName\\\\\\\\\\\\\\\": \\\\\\\\\\\\\\\"workspaceblobstore\\\\\\\\\\\\\\\", \\\\\\\\\\\\\\\"path\\\\\\\\\\\\\\\": \\\\\\\\\\\\\\\"train-dataset/tabular/training-formatted.csv\\\\\\\\\\\\\\\", \\\\\\\\\\\\\\\"resourceGroup\\\\\\\\\\\\\\\": \\\\\\\\\\\\\\\"tech-immersion-226564\\\\\\\\\\\\\\\", \\\\\\\\\\\\\\\"subscription\\\\\\\\\\\\\\\": \\\\\\\\\\\\\\\"ca9a2d87-d8dc-48d4-b027-17e79b799b00\\\\\\\\\\\\\\\", \\\\\\\\\\\\\\\"workspaceName\\\\\\\\\\\\\\\": \\\\\\\\\\\\\\\"gpu-tech-immersion-aml-226564\\\\\\\\\\\\\\\"}]}, \\\\\\\\\\\\\\\"localData\\\\\\\\\\\\\\\": {}, \\\\\\\\\\\\\\\"isEnabled\\\\\\\\\\\\\\\": true, \\\\\\\\\\\\\\\"name\\\\\\\\\\\\\\\": null, \\\\\\\\\\\\\\\"annotation\\\\\\\\\\\\\\\": null}, {\\\\\\\\\\\\\\\"id\\\\\\\\\\\\\\\": \\\\\\\\\\\\\\\"ba1c5df5-75ca-47ce-a06b-4a1d324cece6\\\\\\\\\\\\\\\", \\\\\\\\\\\\\\\"type\\\\\\\\\\\\\\\": \\\\\\\\\\\\\\\"Microsoft.DPrep.ParseDelimitedBlock\\\\\\\\\\\\\\\", \\\\\\\\\\\\\\\"arguments\\\\\\\\\\\\\\\": {\\\\\\\\\\\\\\\"columnHeadersMode\\\\\\\\\\\\\\\": 3, \\\\\\\\\\\\\\\"fileEncoding\\\\\\\\\\\\\\\": 0, \\\\\\\\\\\\\\\"handleQuotedLineBreaks\\\\\\\\\\\\\\\": false, \\\\\\\\\\\\\\\"preview\\\\\\\\\\\\\\\": false, \\\\\\\\\\\\\\\"separator\\\\\\\\\\\\\\\": \\\\\\\\\\\\\\\",\\\\\\\\\\\\\\\", \\\\\\\\\\\\\\\"skipRows\\\\\\\\\\\\\\\": 0, \\\\\\\\\\\\\\\"skipRowsMode\\\\\\\\\\\\\\\": 0}, \\\\\\\\\\\\\\\"localData\\\\\\\\\\\\\\\": {}, \\\\\\\\\\\\\\\"isEnabled\\\\\\\\\\\\\\\": true, \\\\\\\\\\\\\\\"name\\\\\\\\\\\\\\\": null, \\\\\\\\\\\\\\\"annotation\\\\\\\\\\\\\\\": null}, {\\\\\\\\\\\\\\\"id\\\\\\\\\\\\\\\": \\\\\\\\\\\\\\\"4f53ace6-ef76-45c3-be1d-51434f37554e\\\\\\\\\\\\\\\", \\\\\\\\\\\\\\\"type\\\\\\\\\\\\\\\": \\\\\\\\\\\\\\\"Microsoft.DPrep.DropColumnsBlock\\\\\\\\\\\\\\\", \\\\\\\\\\\\\\\"arguments\\\\\\\\\\\\\\\": {\\\\\\\\\\\\\\\"columns\\\\\\\\\\\\\\\": {\\\\\\\\\\\\\\\"type\\\\\\\\\\\\\\\": 0, \\\\\\\\\\\\\\\"details\\\\\\\\\\\\\\\": {\\\\\\\\\\\\\\\"selectedColumns\\\\\\\\\\\\\\\": [\\\\\\\\\\\\\\\"Path\\\\\\\\\\\\\\\"]}}}, \\\\\\\\\\\\\\\"localData\\\\\\\\\\\\\\\": {}, \\\\\\\\\\\\\\\"isEnabled\\\\\\\\\\\\\\\": true, \\\\\\\\\\\\\\\"name\\\\\\\\\\\\\\\": null, \\\\\\\\\\\\\\\"annotation\\\\\\\\\\\\\\\": null}, {\\\\\\\\\\\\\\\"id\\\\\\\\\\\\\\\": \\\\\\\\\\\\\\\"171e08ec-e0cc-4966-8e94-b4b243c8f295\\\\\\\\\\\\\\\", \\\\\\\\\\\\\\\"type\\\\\\\\\\\\\\\": \\\\\\\\\\\\\\\"Microsoft.DPrep.SetColumnTypesBlock\\\\\\\\\\\\\\\", \\\\\\\\\\\\\\\"arguments\\\\\\\\\\\\\\\": {\\\\\\\\\\\\\\\"columnConversion\\\\\\\\\\\\\\\": [{\\\\\\\\\\\\\\\"column\\\\\\\\\\\\\\\": {\\\\\\\\\\\\\\\"type\\\\\\\\\\\\\\\": 2, \\\\\\\\\\\\\\\"details\\\\\\\\\\\\\\\": {\\\\\\\\\\\\\\\"selectedColumn\\\\\\\\\\\\\\\": \\\\\\\\\\\\\\\"Survival_In_Days\\\\\\\\\\\\\\\"}}, \\\\\\\\\\\\\\\"typeProperty\\\\\\\\\\\\\\\": 2}, {\\\\\\\\\\\\\\\"column\\\\\\\\\\\\\\\": {\\\\\\\\\\\\\\\"type\\\\\\\\\\\\\\\": 2, \\\\\\\\\\\\\\\"details\\\\\\\\\\\\\\\": {\\\\\\\\\\\\\\\"selectedColumn\\\\\\\\\\\\\\\": \\\\\\\\\\\\\\\"Province\\\\\\\\\\\\\\\"}}, \\\\\\\\\\\\\\\"typeProperty\\\\\\\\\\\\\\\": 0}, {\\\\\\\\\\\\\\\"column\\\\\\\\\\\\\\\": {\\\\\\\\\\\\\\\"type\\\\\\\\\\\\\\\": 2, \\\\\\\\\\\\\\\"details\\\\\\\\\\\\\\\": {\\\\\\\\\\\\\\\"selectedColumn\\\\\\\\\\\\\\\": \\\\\\\\\\\\\\\"Region\\\\\\\\\\\\\\\"}}, \\\\\\\\\\\\\\\"typeProperty\\\\\\\\\\\\\\\": 0}, {\\\\\\\\\\\\\\\"column\\\\\\\\\\\\\\\": {\\\\\\\\\\\\\\\"type\\\\\\\\\\\\\\\": 2, \\\\\\\\\\\\\\\"details\\\\\\\\\\\\\\\": {\\\\\\\\\\\\\\\"selectedColumn\\\\\\\\\\\\\\\": \\\\\\\\\\\\\\\"Trip_Length_Mean\\\\\\\\\\\\\\\"}}, \\\\\\\\\\\\\\\"typeProperty\\\\\\\\\\\\\\\": 3}, {\\\\\\\\\\\\\\\"column\\\\\\\\\\\\\\\": {\\\\\\\\\\\\\\\"type\\\\\\\\\\\\\\\": 2, \\\\\\\\\\\\\\\"details\\\\\\\\\\\\\\\": {\\\\\\\\\\\\\\\"selectedColumn\\\\\\\\\\\\\\\": \\\\\\\\\\\\\\\"Trip_Length_Sigma\\\\\\\\\\\\\\\"}}, \\\\\\\\\\\\\\\"typeProperty\\\\\\\\\\\\\\\": 3}, {\\\\\\\\\\\\\\\"column\\\\\\\\\\\\\\\": {\\\\\\\\\\\\\\\"type\\\\\\\\\\\\\\\": 2, \\\\\\\\\\\\\\\"details\\\\\\\\\\\\\\\": {\\\\\\\\\\\\\\\"selectedColumn\\\\\\\\\\\\\\\": \\\\\\\\\\\\\\\"Trips_Per_Day_Mean\\\\\\\\\\\\\\\"}}, \\\\\\\\\\\\\\\"typeProperty\\\\\\\\\\\\\\\": 3}, {\\\\\\\\\\\\\\\"column\\\\\\\\\\\\\\\": {\\\\\\\\\\\\\\\"type\\\\\\\\\\\\\\\": 2, \\\\\\\\\\\\\\\"details\\\\\\\\\\\\\\\": {\\\\\\\\\\\\\\\"selectedColumn\\\\\\\\\\\\\\\": \\\\\\\\\\\\\\\"Trips_Per_Day_Sigma\\\\\\\\\\\\\\\"}}, \\\\\\\\\\\\\\\"typeProperty\\\\\\\\\\\\\\\": 3}, {\\\\\\\\\\\\\\\"column\\\\\\\\\\\\\\\": {\\\\\\\\\\\\\\\"type\\\\\\\\\\\\\\\": 2, \\\\\\\\\\\\\\\"details\\\\\\\\\\\\\\\": {\\\\\\\\\\\\\\\"selectedColumn\\\\\\\\\\\\\\\": \\\\\\\\\\\\\\\"Battery_Rated_Cycles\\\\\\\\\\\\\\\"}}, \\\\\\\\\\\\\\\"typeProperty\\\\\\\\\\\\\\\": 2}, {\\\\\\\\\\\\\\\"column\\\\\\\\\\\\\\\": {\\\\\\\\\\\\\\\"type\\\\\\\\\\\\\\\": 2, \\\\\\\\\\\\\\\"details\\\\\\\\\\\\\\\": {\\\\\\\\\\\\\\\"selectedColumn\\\\\\\\\\\\\\\": \\\\\\\\\\\\\\\"Manufacture_Month\\\\\\\\\\\\\\\"}}, \\\\\\\\\\\\\\\"typeProperty\\\\\\\\\\\\\\\": 0}, {\\\\\\\\\\\\\\\"column\\\\\\\\\\\\\\\": {\\\\\\\\\\\\\\\"type\\\\\\\\\\\\\\\": 2, \\\\\\\\\\\\\\\"details\\\\\\\\\\\\\\\": {\\\\\\\\\\\\\\\"selectedColumn\\\\\\\\\\\\\\\": \\\\\\\\\\\\\\\"Manufacture_Year\\\\\\\\\\\\\\\"}}, \\\\\\\\\\\\\\\"typeProperty\\\\\\\\\\\\\\\": 0}, {\\\\\\\\\\\\\\\"column\\\\\\\\\\\\\\\": {\\\\\\\\\\\\\\\"type\\\\\\\\\\\\\\\": 2, \\\\\\\\\\\\\\\"details\\\\\\\\\\\\\\\": {\\\\\\\\\\\\\\\"selectedColumn\\\\\\\\\\\\\\\": \\\\\\\\\\\\\\\"Alternator_Efficiency\\\\\\\\\\\\\\\"}}, \\\\\\\\\\\\\\\"typeProperty\\\\\\\\\\\\\\\": 3}, {\\\\\\\\\\\\\\\"column\\\\\\\\\\\\\\\": {\\\\\\\\\\\\\\\"type\\\\\\\\\\\\\\\": 2, \\\\\\\\\\\\\\\"details\\\\\\\\\\\\\\\": {\\\\\\\\\\\\\\\"selectedColumn\\\\\\\\\\\\\\\": \\\\\\\\\\\\\\\"Car_Has_EcoStart\\\\\\\\\\\\\\\"}}, \\\\\\\\\\\\\\\"typeProperty\\\\\\\\\\\\\\\": 1}, {\\\\\\\\\\\\\\\"column\\\\\\\\\\\\\\\": {\\\\\\\\\\\\\\\"type\\\\\\\\\\\\\\\": 2, \\\\\\\\\\\\\\\"details\\\\\\\\\\\\\\\": {\\\\\\\\\\\\\\\"selectedColumn\\\\\\\\\\\\\\\": \\\\\\\\\\\\\\\"Twelve_hourly_temperature_history_for_last_31_days_before_death_last_recording_first\\\\\\\\\\\\\\\"}}, \\\\\\\\\\\\\\\"typeProperty\\\\\\\\\\\\\\\": 3}, {\\\\\\\\\\\\\\\"column\\\\\\\\\\\\\\\": {\\\\\\\\\\\\\\\"type\\\\\\\\\\\\\\\": 2, \\\\\\\\\\\\\\\"details\\\\\\\\\\\\\\\": {\\\\\\\\\\\\\\\"selectedColumn\\\\\\\\\\\\\\\": \\\\\\\\\\\\\\\"Sensor_Reading_1\\\\\\\\\\\\\\\"}}, \\\\\\\\\\\\\\\"typeProperty\\\\\\\\\\\\\\\": 3}, {\\\\\\\\\\\\\\\"column\\\\\\\\\\\\\\\": {\\\\\\\\\\\\\\\"type\\\\\\\\\\\\\\\": 2, \\\\\\\\\\\\\\\"details\\\\\\\\\\\\\\\": {\\\\\\\\\\\\\\\"selectedColumn\\\\\\\\\\\\\\\": \\\\\\\\\\\\\\\"Sensor_Reading_2\\\\\\\\\\\\\\\"}}, \\\\\\\\\\\\\\\"typeProperty\\\\\\\\\\\\\\\": 3}, {\\\\\\\\\\\\\\\"column\\\\\\\\\\\\\\\": {\\\\\\\\\\\\\\\"type\\\\\\\\\\\\\\\": 2, \\\\\\\\\\\\\\\"details\\\\\\\\\\\\\\\": {\\\\\\\\\\\\\\\"selectedColumn\\\\\\\\\\\\\\\": \\\\\\\\\\\\\\\"Sensor_Reading_3\\\\\\\\\\\\\\\"}}, \\\\\\\\\\\\\\\"typeProperty\\\\\\\\\\\\\\\": 3}, {\\\\\\\\\\\\\\\"column\\\\\\\\\\\\\\\": {\\\\\\\\\\\\\\\"type\\\\\\\\\\\\\\\": 2, \\\\\\\\\\\\\\\"details\\\\\\\\\\\\\\\": {\\\\\\\\\\\\\\\"selectedColumn\\\\\\\\\\\\\\\": \\\\\\\\\\\\\\\"Sensor_Reading_4\\\\\\\\\\\\\\\"}}, \\\\\\\\\\\\\\\"typeProperty\\\\\\\\\\\\\\\": 3}, {\\\\\\\\\\\\\\\"column\\\\\\\\\\\\\\\": {\\\\\\\\\\\\\\\"type\\\\\\\\\\\\\\\": 2, \\\\\\\\\\\\\\\"details\\\\\\\\\\\\\\\": {\\\\\\\\\\\\\\\"selectedColumn\\\\\\\\\\\\\\\": \\\\\\\\\\\\\\\"Sensor_Reading_5\\\\\\\\\\\\\\\"}}, \\\\\\\\\\\\\\\"typeProperty\\\\\\\\\\\\\\\": 3}, {\\\\\\\\\\\\\\\"column\\\\\\\\\\\\\\\": {\\\\\\\\\\\\\\\"type\\\\\\\\\\\\\\\": 2, \\\\\\\\\\\\\\\"details\\\\\\\\\\\\\\\": {\\\\\\\\\\\\\\\"selectedColumn\\\\\\\\\\\\\\\": \\\\\\\\\\\\\\\"Sensor_Reading_6\\\\\\\\\\\\\\\"}}, \\\\\\\\\\\\\\\"typeProperty\\\\\\\\\\\\\\\": 3}, {\\\\\\\\\\\\\\\"column\\\\\\\\\\\\\\\": {\\\\\\\\\\\\\\\"type\\\\\\\\\\\\\\\": 2, \\\\\\\\\\\\\\\"details\\\\\\\\\\\\\\\": {\\\\\\\\\\\\\\\"selectedColumn\\\\\\\\\\\\\\\": \\\\\\\\\\\\\\\"Sensor_Reading_7\\\\\\\\\\\\\\\"}}, \\\\\\\\\\\\\\\"typeProperty\\\\\\\\\\\\\\\": 3}, {\\\\\\\\\\\\\\\"column\\\\\\\\\\\\\\\": {\\\\\\\\\\\\\\\"type\\\\\\\\\\\\\\\": 2, \\\\\\\\\\\\\\\"details\\\\\\\\\\\\\\\": {\\\\\\\\\\\\\\\"selectedColumn\\\\\\\\\\\\\\\": \\\\\\\\\\\\\\\"Sensor_Reading_8\\\\\\\\\\\\\\\"}}, \\\\\\\\\\\\\\\"typeProperty\\\\\\\\\\\\\\\": 3}, {\\\\\\\\\\\\\\\"column\\\\\\\\\\\\\\\": {\\\\\\\\\\\\\\\"type\\\\\\\\\\\\\\\": 2, \\\\\\\\\\\\\\\"details\\\\\\\\\\\\\\\": {\\\\\\\\\\\\\\\"selectedColumn\\\\\\\\\\\\\\\": \\\\\\\\\\\\\\\"Sensor_Reading_9\\\\\\\\\\\\\\\"}}, \\\\\\\\\\\\\\\"typeProperty\\\\\\\\\\\\\\\": 3}, {\\\\\\\\\\\\\\\"column\\\\\\\\\\\\\\\": {\\\\\\\\\\\\\\\"type\\\\\\\\\\\\\\\": 2, \\\\\\\\\\\\\\\"details\\\\\\\\\\\\\\\": {\\\\\\\\\\\\\\\"selectedColumn\\\\\\\\\\\\\\\": \\\\\\\\\\\\\\\"Sensor_Reading_10\\\\\\\\\\\\\\\"}}, \\\\\\\\\\\\\\\"typeProperty\\\\\\\\\\\\\\\": 3}, {\\\\\\\\\\\\\\\"column\\\\\\\\\\\\\\\": {\\\\\\\\\\\\\\\"type\\\\\\\\\\\\\\\": 2, \\\\\\\\\\\\\\\"details\\\\\\\\\\\\\\\": {\\\\\\\\\\\\\\\"selectedColumn\\\\\\\\\\\\\\\": \\\\\\\\\\\\\\\"Sensor_Reading_11\\\\\\\\\\\\\\\"}}, \\\\\\\\\\\\\\\"typeProperty\\\\\\\\\\\\\\\": 3}, {\\\\\\\\\\\\\\\"column\\\\\\\\\\\\\\\": {\\\\\\\\\\\\\\\"type\\\\\\\\\\\\\\\": 2, \\\\\\\\\\\\\\\"details\\\\\\\\\\\\\\\": {\\\\\\\\\\\\\\\"selectedColumn\\\\\\\\\\\\\\\": \\\\\\\\\\\\\\\"Sensor_Reading_12\\\\\\\\\\\\\\\"}}, \\\\\\\\\\\\\\\"typeProperty\\\\\\\\\\\\\\\": 3}, {\\\\\\\\\\\\\\\"column\\\\\\\\\\\\\\\": {\\\\\\\\\\\\\\\"type\\\\\\\\\\\\\\\": 2, \\\\\\\\\\\\\\\"details\\\\\\\\\\\\\\\": {\\\\\\\\\\\\\\\"selectedColumn\\\\\\\\\\\\\\\": \\\\\\\\\\\\\\\"Sensor_Reading_13\\\\\\\\\\\\\\\"}}, \\\\\\\\\\\\\\\"typeProperty\\\\\\\\\\\\\\\": 3}, {\\\\\\\\\\\\\\\"column\\\\\\\\\\\\\\\": {\\\\\\\\\\\\\\\"type\\\\\\\\\\\\\\\": 2, \\\\\\\\\\\\\\\"details\\\\\\\\\\\\\\\": {\\\\\\\\\\\\\\\"selectedColumn\\\\\\\\\\\\\\\": \\\\\\\\\\\\\\\"Sensor_Reading_14\\\\\\\\\\\\\\\"}}, \\\\\\\\\\\\\\\"typeProperty\\\\\\\\\\\\\\\": 3}, {\\\\\\\\\\\\\\\"column\\\\\\\\\\\\\\\": {\\\\\\\\\\\\\\\"type\\\\\\\\\\\\\\\": 2, \\\\\\\\\\\\\\\"details\\\\\\\\\\\\\\\": {\\\\\\\\\\\\\\\"selectedColumn\\\\\\\\\\\\\\\": \\\\\\\\\\\\\\\"Sensor_Reading_15\\\\\\\\\\\\\\\"}}, \\\\\\\\\\\\\\\"typeProperty\\\\\\\\\\\\\\\": 3}, {\\\\\\\\\\\\\\\"column\\\\\\\\\\\\\\\": {\\\\\\\\\\\\\\\"type\\\\\\\\\\\\\\\": 2, \\\\\\\\\\\\\\\"details\\\\\\\\\\\\\\\": {\\\\\\\\\\\\\\\"selectedColumn\\\\\\\\\\\\\\\": \\\\\\\\\\\\\\\"Sensor_Reading_16\\\\\\\\\\\\\\\"}}, \\\\\\\\\\\\\\\"typeProperty\\\\\\\\\\\\\\\": 3}, {\\\\\\\\\\\\\\\"column\\\\\\\\\\\\\\\": {\\\\\\\\\\\\\\\"type\\\\\\\\\\\\\\\": 2, \\\\\\\\\\\\\\\"details\\\\\\\\\\\\\\\": {\\\\\\\\\\\\\\\"selectedColumn\\\\\\\\\\\\\\\": \\\\\\\\\\\\\\\"Sensor_Reading_17\\\\\\\\\\\\\\\"}}, \\\\\\\\\\\\\\\"typeProperty\\\\\\\\\\\\\\\": 3}, {\\\\\\\\\\\\\\\"column\\\\\\\\\\\\\\\": {\\\\\\\\\\\\\\\"type\\\\\\\\\\\\\\\": 2, \\\\\\\\\\\\\\\"details\\\\\\\\\\\\\\\": {\\\\\\\\\\\\\\\"selectedColumn\\\\\\\\\\\\\\\": \\\\\\\\\\\\\\\"Sensor_Reading_18\\\\\\\\\\\\\\\"}}, \\\\\\\\\\\\\\\"typeProperty\\\\\\\\\\\\\\\": 3}, {\\\\\\\\\\\\\\\"column\\\\\\\\\\\\\\\": {\\\\\\\\\\\\\\\"type\\\\\\\\\\\\\\\": 2, \\\\\\\\\\\\\\\"details\\\\\\\\\\\\\\\": {\\\\\\\\\\\\\\\"selectedColumn\\\\\\\\\\\\\\\": \\\\\\\\\\\\\\\"Sensor_Reading_19\\\\\\\\\\\\\\\"}}, \\\\\\\\\\\\\\\"typeProperty\\\\\\\\\\\\\\\": 3}, {\\\\\\\\\\\\\\\"column\\\\\\\\\\\\\\\": {\\\\\\\\\\\\\\\"type\\\\\\\\\\\\\\\": 2, \\\\\\\\\\\\\\\"details\\\\\\\\\\\\\\\": {\\\\\\\\\\\\\\\"selectedColumn\\\\\\\\\\\\\\\": \\\\\\\\\\\\\\\"Sensor_Reading_20\\\\\\\\\\\\\\\"}}, \\\\\\\\\\\\\\\"typeProperty\\\\\\\\\\\\\\\": 3}, {\\\\\\\\\\\\\\\"column\\\\\\\\\\\\\\\": {\\\\\\\\\\\\\\\"type\\\\\\\\\\\\\\\": 2, \\\\\\\\\\\\\\\"details\\\\\\\\\\\\\\\": {\\\\\\\\\\\\\\\"selectedColumn\\\\\\\\\\\\\\\": \\\\\\\\\\\\\\\"Sensor_Reading_21\\\\\\\\\\\\\\\"}}, \\\\\\\\\\\\\\\"typeProperty\\\\\\\\\\\\\\\": 3}, {\\\\\\\\\\\\\\\"column\\\\\\\\\\\\\\\": {\\\\\\\\\\\\\\\"type\\\\\\\\\\\\\\\": 2, \\\\\\\\\\\\\\\"details\\\\\\\\\\\\\\\": {\\\\\\\\\\\\\\\"selectedColumn\\\\\\\\\\\\\\\": \\\\\\\\\\\\\\\"Sensor_Reading_22\\\\\\\\\\\\\\\"}}, \\\\\\\\\\\\\\\"typeProperty\\\\\\\\\\\\\\\": 3}, {\\\\\\\\\\\\\\\"column\\\\\\\\\\\\\\\": {\\\\\\\\\\\\\\\"type\\\\\\\\\\\\\\\": 2, \\\\\\\\\\\\\\\"details\\\\\\\\\\\\\\\": {\\\\\\\\\\\\\\\"selectedColumn\\\\\\\\\\\\\\\": \\\\\\\\\\\\\\\"Sensor_Reading_23\\\\\\\\\\\\\\\"}}, \\\\\\\\\\\\\\\"typeProperty\\\\\\\\\\\\\\\": 3}, {\\\\\\\\\\\\\\\"column\\\\\\\\\\\\\\\": {\\\\\\\\\\\\\\\"type\\\\\\\\\\\\\\\": 2, \\\\\\\\\\\\\\\"details\\\\\\\\\\\\\\\": {\\\\\\\\\\\\\\\"selectedColumn\\\\\\\\\\\\\\\": \\\\\\\\\\\\\\\"Sensor_Reading_24\\\\\\\\\\\\\\\"}}, \\\\\\\\\\\\\\\"typeProperty\\\\\\\\\\\\\\\": 3}, {\\\\\\\\\\\\\\\"column\\\\\\\\\\\\\\\": {\\\\\\\\\\\\\\\"type\\\\\\\\\\\\\\\": 2, \\\\\\\\\\\\\\\"details\\\\\\\\\\\\\\\": {\\\\\\\\\\\\\\\"selectedColumn\\\\\\\\\\\\\\\": \\\\\\\\\\\\\\\"Sensor_Reading_25\\\\\\\\\\\\\\\"}}, \\\\\\\\\\\\\\\"typeProperty\\\\\\\\\\\\\\\": 3}, {\\\\\\\\\\\\\\\"column\\\\\\\\\\\\\\\": {\\\\\\\\\\\\\\\"type\\\\\\\\\\\\\\\": 2, \\\\\\\\\\\\\\\"details\\\\\\\\\\\\\\\": {\\\\\\\\\\\\\\\"selectedColumn\\\\\\\\\\\\\\\": \\\\\\\\\\\\\\\"Sensor_Reading_26\\\\\\\\\\\\\\\"}}, \\\\\\\\\\\\\\\"typeProperty\\\\\\\\\\\\\\\": 3}, {\\\\\\\\\\\\\\\"column\\\\\\\\\\\\\\\": {\\\\\\\\\\\\\\\"type\\\\\\\\\\\\\\\": 2, \\\\\\\\\\\\\\\"details\\\\\\\\\\\\\\\": {\\\\\\\\\\\\\\\"selectedColumn\\\\\\\\\\\\\\\": \\\\\\\\\\\\\\\"Sensor_Reading_27\\\\\\\\\\\\\\\"}}, \\\\\\\\\\\\\\\"typeProperty\\\\\\\\\\\\\\\": 3}, {\\\\\\\\\\\\\\\"column\\\\\\\\\\\\\\\": {\\\\\\\\\\\\\\\"type\\\\\\\\\\\\\\\": 2, \\\\\\\\\\\\\\\"details\\\\\\\\\\\\\\\": {\\\\\\\\\\\\\\\"selectedColumn\\\\\\\\\\\\\\\": \\\\\\\\\\\\\\\"Sensor_Reading_28\\\\\\\\\\\\\\\"}}, \\\\\\\\\\\\\\\"typeProperty\\\\\\\\\\\\\\\": 3}, {\\\\\\\\\\\\\\\"column\\\\\\\\\\\\\\\": {\\\\\\\\\\\\\\\"type\\\\\\\\\\\\\\\": 2, \\\\\\\\\\\\\\\"details\\\\\\\\\\\\\\\": {\\\\\\\\\\\\\\\"selectedColumn\\\\\\\\\\\\\\\": \\\\\\\\\\\\\\\"Sensor_Reading_29\\\\\\\\\\\\\\\"}}, \\\\\\\\\\\\\\\"typeProperty\\\\\\\\\\\\\\\": 3}, {\\\\\\\\\\\\\\\"column\\\\\\\\\\\\\\\": {\\\\\\\\\\\\\\\"type\\\\\\\\\\\\\\\": 2, \\\\\\\\\\\\\\\"details\\\\\\\\\\\\\\\": {\\\\\\\\\\\\\\\"selectedColumn\\\\\\\\\\\\\\\": \\\\\\\\\\\\\\\"Sensor_Reading_30\\\\\\\\\\\\\\\"}}, \\\\\\\\\\\\\\\"typeProperty\\\\\\\\\\\\\\\": 3}, {\\\\\\\\\\\\\\\"column\\\\\\\\\\\\\\\": {\\\\\\\\\\\\\\\"type\\\\\\\\\\\\\\\": 2, \\\\\\\\\\\\\\\"details\\\\\\\\\\\\\\\": {\\\\\\\\\\\\\\\"selectedColumn\\\\\\\\\\\\\\\": \\\\\\\\\\\\\\\"Sensor_Reading_31\\\\\\\\\\\\\\\"}}, \\\\\\\\\\\\\\\"typeProperty\\\\\\\\\\\\\\\": 3}, {\\\\\\\\\\\\\\\"column\\\\\\\\\\\\\\\": {\\\\\\\\\\\\\\\"type\\\\\\\\\\\\\\\": 2, \\\\\\\\\\\\\\\"details\\\\\\\\\\\\\\\": {\\\\\\\\\\\\\\\"selectedColumn\\\\\\\\\\\\\\\": \\\\\\\\\\\\\\\"Sensor_Reading_32\\\\\\\\\\\\\\\"}}, \\\\\\\\\\\\\\\"typeProperty\\\\\\\\\\\\\\\": 3}, {\\\\\\\\\\\\\\\"column\\\\\\\\\\\\\\\": {\\\\\\\\\\\\\\\"type\\\\\\\\\\\\\\\": 2, \\\\\\\\\\\\\\\"details\\\\\\\\\\\\\\\": {\\\\\\\\\\\\\\\"selectedColumn\\\\\\\\\\\\\\\": \\\\\\\\\\\\\\\"Sensor_Reading_33\\\\\\\\\\\\\\\"}}, \\\\\\\\\\\\\\\"typeProperty\\\\\\\\\\\\\\\": 3}, {\\\\\\\\\\\\\\\"column\\\\\\\\\\\\\\\": {\\\\\\\\\\\\\\\"type\\\\\\\\\\\\\\\": 2, \\\\\\\\\\\\\\\"details\\\\\\\\\\\\\\\": {\\\\\\\\\\\\\\\"selectedColumn\\\\\\\\\\\\\\\": \\\\\\\\\\\\\\\"Sensor_Reading_34\\\\\\\\\\\\\\\"}}, \\\\\\\\\\\\\\\"typeProperty\\\\\\\\\\\\\\\": 3}, {\\\\\\\\\\\\\\\"column\\\\\\\\\\\\\\\": {\\\\\\\\\\\\\\\"type\\\\\\\\\\\\\\\": 2, \\\\\\\\\\\\\\\"details\\\\\\\\\\\\\\\": {\\\\\\\\\\\\\\\"selectedColumn\\\\\\\\\\\\\\\": \\\\\\\\\\\\\\\"Sensor_Reading_35\\\\\\\\\\\\\\\"}}, \\\\\\\\\\\\\\\"typeProperty\\\\\\\\\\\\\\\": 3}, {\\\\\\\\\\\\\\\"column\\\\\\\\\\\\\\\": {\\\\\\\\\\\\\\\"type\\\\\\\\\\\\\\\": 2, \\\\\\\\\\\\\\\"details\\\\\\\\\\\\\\\": {\\\\\\\\\\\\\\\"selectedColumn\\\\\\\\\\\\\\\": \\\\\\\\\\\\\\\"Sensor_Reading_36\\\\\\\\\\\\\\\"}}, \\\\\\\\\\\\\\\"typeProperty\\\\\\\\\\\\\\\": 3}, {\\\\\\\\\\\\\\\"column\\\\\\\\\\\\\\\": {\\\\\\\\\\\\\\\"type\\\\\\\\\\\\\\\": 2, \\\\\\\\\\\\\\\"details\\\\\\\\\\\\\\\": {\\\\\\\\\\\\\\\"selectedColumn\\\\\\\\\\\\\\\": \\\\\\\\\\\\\\\"Sensor_Reading_37\\\\\\\\\\\\\\\"}}, \\\\\\\\\\\\\\\"typeProperty\\\\\\\\\\\\\\\": 3}, {\\\\\\\\\\\\\\\"column\\\\\\\\\\\\\\\": {\\\\\\\\\\\\\\\"type\\\\\\\\\\\\\\\": 2, \\\\\\\\\\\\\\\"details\\\\\\\\\\\\\\\": {\\\\\\\\\\\\\\\"selectedColumn\\\\\\\\\\\\\\\": \\\\\\\\\\\\\\\"Sensor_Reading_38\\\\\\\\\\\\\\\"}}, \\\\\\\\\\\\\\\"typeProperty\\\\\\\\\\\\\\\": 3}, {\\\\\\\\\\\\\\\"column\\\\\\\\\\\\\\\": {\\\\\\\\\\\\\\\"type\\\\\\\\\\\\\\\": 2, \\\\\\\\\\\\\\\"details\\\\\\\\\\\\\\\": {\\\\\\\\\\\\\\\"selectedColumn\\\\\\\\\\\\\\\": \\\\\\\\\\\\\\\"Sensor_Reading_39\\\\\\\\\\\\\\\"}}, \\\\\\\\\\\\\\\"typeProperty\\\\\\\\\\\\\\\": 3}, {\\\\\\\\\\\\\\\"column\\\\\\\\\\\\\\\": {\\\\\\\\\\\\\\\"type\\\\\\\\\\\\\\\": 2, \\\\\\\\\\\\\\\"details\\\\\\\\\\\\\\\": {\\\\\\\\\\\\\\\"selectedColumn\\\\\\\\\\\\\\\": \\\\\\\\\\\\\\\"Sensor_Reading_40\\\\\\\\\\\\\\\"}}, \\\\\\\\\\\\\\\"typeProperty\\\\\\\\\\\\\\\": 3}, {\\\\\\\\\\\\\\\"column\\\\\\\\\\\\\\\": {\\\\\\\\\\\\\\\"type\\\\\\\\\\\\\\\": 2, \\\\\\\\\\\\\\\"details\\\\\\\\\\\\\\\": {\\\\\\\\\\\\\\\"selectedColumn\\\\\\\\\\\\\\\": \\\\\\\\\\\\\\\"Sensor_Reading_41\\\\\\\\\\\\\\\"}}, \\\\\\\\\\\\\\\"typeProperty\\\\\\\\\\\\\\\": 3}, {\\\\\\\\\\\\\\\"column\\\\\\\\\\\\\\\": {\\\\\\\\\\\\\\\"type\\\\\\\\\\\\\\\": 2, \\\\\\\\\\\\\\\"details\\\\\\\\\\\\\\\": {\\\\\\\\\\\\\\\"selectedColumn\\\\\\\\\\\\\\\": \\\\\\\\\\\\\\\"Sensor_Reading_42\\\\\\\\\\\\\\\"}}, \\\\\\\\\\\\\\\"typeProperty\\\\\\\\\\\\\\\": 3}, {\\\\\\\\\\\\\\\"column\\\\\\\\\\\\\\\": {\\\\\\\\\\\\\\\"type\\\\\\\\\\\\\\\": 2, \\\\\\\\\\\\\\\"details\\\\\\\\\\\\\\\": {\\\\\\\\\\\\\\\"selectedColumn\\\\\\\\\\\\\\\": \\\\\\\\\\\\\\\"Sensor_Reading_43\\\\\\\\\\\\\\\"}}, \\\\\\\\\\\\\\\"typeProperty\\\\\\\\\\\\\\\": 3}, {\\\\\\\\\\\\\\\"column\\\\\\\\\\\\\\\": {\\\\\\\\\\\\\\\"type\\\\\\\\\\\\\\\": 2, \\\\\\\\\\\\\\\"details\\\\\\\\\\\\\\\": {\\\\\\\\\\\\\\\"selectedColumn\\\\\\\\\\\\\\\": \\\\\\\\\\\\\\\"Sensor_Reading_44\\\\\\\\\\\\\\\"}}, \\\\\\\\\\\\\\\"typeProperty\\\\\\\\\\\\\\\": 3}, {\\\\\\\\\\\\\\\"column\\\\\\\\\\\\\\\": {\\\\\\\\\\\\\\\"type\\\\\\\\\\\\\\\": 2, \\\\\\\\\\\\\\\"details\\\\\\\\\\\\\\\": {\\\\\\\\\\\\\\\"selectedColumn\\\\\\\\\\\\\\\": \\\\\\\\\\\\\\\"Sensor_Reading_45\\\\\\\\\\\\\\\"}}, \\\\\\\\\\\\\\\"typeProperty\\\\\\\\\\\\\\\": 3}, {\\\\\\\\\\\\\\\"column\\\\\\\\\\\\\\\": {\\\\\\\\\\\\\\\"type\\\\\\\\\\\\\\\": 2, \\\\\\\\\\\\\\\"details\\\\\\\\\\\\\\\": {\\\\\\\\\\\\\\\"selectedColumn\\\\\\\\\\\\\\\": \\\\\\\\\\\\\\\"Sensor_Reading_46\\\\\\\\\\\\\\\"}}, \\\\\\\\\\\\\\\"typeProperty\\\\\\\\\\\\\\\": 3}, {\\\\\\\\\\\\\\\"column\\\\\\\\\\\\\\\": {\\\\\\\\\\\\\\\"type\\\\\\\\\\\\\\\": 2, \\\\\\\\\\\\\\\"details\\\\\\\\\\\\\\\": {\\\\\\\\\\\\\\\"selectedColumn\\\\\\\\\\\\\\\": \\\\\\\\\\\\\\\"Sensor_Reading_47\\\\\\\\\\\\\\\"}}, \\\\\\\\\\\\\\\"typeProperty\\\\\\\\\\\\\\\": 3}, {\\\\\\\\\\\\\\\"column\\\\\\\\\\\\\\\": {\\\\\\\\\\\\\\\"type\\\\\\\\\\\\\\\": 2, \\\\\\\\\\\\\\\"details\\\\\\\\\\\\\\\": {\\\\\\\\\\\\\\\"selectedColumn\\\\\\\\\\\\\\\": \\\\\\\\\\\\\\\"Sensor_Reading_48\\\\\\\\\\\\\\\"}}, \\\\\\\\\\\\\\\"typeProperty\\\\\\\\\\\\\\\": 3}, {\\\\\\\\\\\\\\\"column\\\\\\\\\\\\\\\": {\\\\\\\\\\\\\\\"type\\\\\\\\\\\\\\\": 2, \\\\\\\\\\\\\\\"details\\\\\\\\\\\\\\\": {\\\\\\\\\\\\\\\"selectedColumn\\\\\\\\\\\\\\\": \\\\\\\\\\\\\\\"Sensor_Reading_49\\\\\\\\\\\\\\\"}}, \\\\\\\\\\\\\\\"typeProperty\\\\\\\\\\\\\\\": 3}, {\\\\\\\\\\\\\\\"column\\\\\\\\\\\\\\\": {\\\\\\\\\\\\\\\"type\\\\\\\\\\\\\\\": 2, \\\\\\\\\\\\\\\"details\\\\\\\\\\\\\\\": {\\\\\\\\\\\\\\\"selectedColumn\\\\\\\\\\\\\\\": \\\\\\\\\\\\\\\"Sensor_Reading_50\\\\\\\\\\\\\\\"}}, \\\\\\\\\\\\\\\"typeProperty\\\\\\\\\\\\\\\": 3}, {\\\\\\\\\\\\\\\"column\\\\\\\\\\\\\\\": {\\\\\\\\\\\\\\\"type\\\\\\\\\\\\\\\": 2, \\\\\\\\\\\\\\\"details\\\\\\\\\\\\\\\": {\\\\\\\\\\\\\\\"selectedColumn\\\\\\\\\\\\\\\": \\\\\\\\\\\\\\\"Sensor_Reading_51\\\\\\\\\\\\\\\"}}, \\\\\\\\\\\\\\\"typeProperty\\\\\\\\\\\\\\\": 3}, {\\\\\\\\\\\\\\\"column\\\\\\\\\\\\\\\": {\\\\\\\\\\\\\\\"type\\\\\\\\\\\\\\\": 2, \\\\\\\\\\\\\\\"details\\\\\\\\\\\\\\\": {\\\\\\\\\\\\\\\"selectedColumn\\\\\\\\\\\\\\\": \\\\\\\\\\\\\\\"Sensor_Reading_52\\\\\\\\\\\\\\\"}}, \\\\\\\\\\\\\\\"typeProperty\\\\\\\\\\\\\\\": 3}, {\\\\\\\\\\\\\\\"column\\\\\\\\\\\\\\\": {\\\\\\\\\\\\\\\"type\\\\\\\\\\\\\\\": 2, \\\\\\\\\\\\\\\"details\\\\\\\\\\\\\\\": {\\\\\\\\\\\\\\\"selectedColumn\\\\\\\\\\\\\\\": \\\\\\\\\\\\\\\"Sensor_Reading_53\\\\\\\\\\\\\\\"}}, \\\\\\\\\\\\\\\"typeProperty\\\\\\\\\\\\\\\": 3}, {\\\\\\\\\\\\\\\"column\\\\\\\\\\\\\\\": {\\\\\\\\\\\\\\\"type\\\\\\\\\\\\\\\": 2, \\\\\\\\\\\\\\\"details\\\\\\\\\\\\\\\": {\\\\\\\\\\\\\\\"selectedColumn\\\\\\\\\\\\\\\": \\\\\\\\\\\\\\\"Sensor_Reading_54\\\\\\\\\\\\\\\"}}, \\\\\\\\\\\\\\\"typeProperty\\\\\\\\\\\\\\\": 3}, {\\\\\\\\\\\\\\\"column\\\\\\\\\\\\\\\": {\\\\\\\\\\\\\\\"type\\\\\\\\\\\\\\\": 2, \\\\\\\\\\\\\\\"details\\\\\\\\\\\\\\\": {\\\\\\\\\\\\\\\"selectedColumn\\\\\\\\\\\\\\\": \\\\\\\\\\\\\\\"Sensor_Reading_55\\\\\\\\\\\\\\\"}}, \\\\\\\\\\\\\\\"typeProperty\\\\\\\\\\\\\\\": 3}, {\\\\\\\\\\\\\\\"column\\\\\\\\\\\\\\\": {\\\\\\\\\\\\\\\"type\\\\\\\\\\\\\\\": 2, \\\\\\\\\\\\\\\"details\\\\\\\\\\\\\\\": {\\\\\\\\\\\\\\\"selectedColumn\\\\\\\\\\\\\\\": \\\\\\\\\\\\\\\"Sensor_Reading_56\\\\\\\\\\\\\\\"}}, \\\\\\\\\\\\\\\"typeProperty\\\\\\\\\\\\\\\": 3}, {\\\\\\\\\\\\\\\"column\\\\\\\\\\\\\\\": {\\\\\\\\\\\\\\\"type\\\\\\\\\\\\\\\": 2, \\\\\\\\\\\\\\\"details\\\\\\\\\\\\\\\": {\\\\\\\\\\\\\\\"selectedColumn\\\\\\\\\\\\\\\": \\\\\\\\\\\\\\\"Sensor_Reading_57\\\\\\\\\\\\\\\"}}, \\\\\\\\\\\\\\\"typeProperty\\\\\\\\\\\\\\\": 3}, {\\\\\\\\\\\\\\\"column\\\\\\\\\\\\\\\": {\\\\\\\\\\\\\\\"type\\\\\\\\\\\\\\\": 2, \\\\\\\\\\\\\\\"details\\\\\\\\\\\\\\\": {\\\\\\\\\\\\\\\"selectedColumn\\\\\\\\\\\\\\\": \\\\\\\\\\\\\\\"Sensor_Reading_58\\\\\\\\\\\\\\\"}}, \\\\\\\\\\\\\\\"typeProperty\\\\\\\\\\\\\\\": 3}, {\\\\\\\\\\\\\\\"column\\\\\\\\\\\\\\\": {\\\\\\\\\\\\\\\"type\\\\\\\\\\\\\\\": 2, \\\\\\\\\\\\\\\"details\\\\\\\\\\\\\\\": {\\\\\\\\\\\\\\\"selectedColumn\\\\\\\\\\\\\\\": \\\\\\\\\\\\\\\"Sensor_Reading_59\\\\\\\\\\\\\\\"}}, \\\\\\\\\\\\\\\"typeProperty\\\\\\\\\\\\\\\": 3}, {\\\\\\\\\\\\\\\"column\\\\\\\\\\\\\\\": {\\\\\\\\\\\\\\\"type\\\\\\\\\\\\\\\": 2, \\\\\\\\\\\\\\\"details\\\\\\\\\\\\\\\": {\\\\\\\\\\\\\\\"selectedColumn\\\\\\\\\\\\\\\": \\\\\\\\\\\\\\\"Sensor_Reading_60\\\\\\\\\\\\\\\"}}, \\\\\\\\\\\\\\\"typeProperty\\\\\\\\\\\\\\\": 3}, {\\\\\\\\\\\\\\\"column\\\\\\\\\\\\\\\": {\\\\\\\\\\\\\\\"type\\\\\\\\\\\\\\\": 2, \\\\\\\\\\\\\\\"details\\\\\\\\\\\\\\\": {\\\\\\\\\\\\\\\"selectedColumn\\\\\\\\\\\\\\\": \\\\\\\\\\\\\\\"Sensor_Reading_61\\\\\\\\\\\\\\\"}}, \\\\\\\\\\\\\\\"typeProperty\\\\\\\\\\\\\\\": 3}]}, \\\\\\\\\\\\\\\"localData\\\\\\\\\\\\\\\": {}, \\\\\\\\\\\\\\\"isEnabled\\\\\\\\\\\\\\\": true, \\\\\\\\\\\\\\\"name\\\\\\\\\\\\\\\": null, \\\\\\\\\\\\\\\"annotation\\\\\\\\\\\\\\\": null}], \\\\\\\\\\\\\\\"inspectors\\\\\\\\\\\\\\\": [], \\\\\\\\\\\\\\\"meta\\\\\\\\\\\\\\\": {\\\\\\\\\\\\\\\"savedDatasetId\\\\\\\\\\\\\\\": \\\\\\\\\\\\\\\"bd6887b7-af6c-406a-8047-17e668395279\\\\\\\\\\\\\\\", \\\\\\\\\\\\\\\"datasetType\\\\\\\\\\\\\\\": \\\\\\\\\\\\\\\"tabular\\\\\\\\\\\\\\\", \\\\\\\\\\\\\\\"subscriptionId\\\\\\\\\\\\\\\": \\\\\\\\\\\\\\\"ca9a2d87-d8dc-48d4-b027-17e79b799b00\\\\\\\\\\\\\\\", \\\\\\\\\\\\\\\"workspaceId\\\\\\\\\\\\\\\": \\\\\\\\\\\\\\\"b10c773d-05cc-4963-a543-6882f4c25188\\\\\\\\\\\\\\\", \\\\\\\\\\\\\\\"workspaceLocation\\\\\\\\\\\\\\\": \\\\\\\\\\\\\\\"westcentralus\\\\\\\\\\\\\\\"}}\\\\\\\", \\\\\\\"activities\\\\\\\": 0}\", \"EnableSubsampling\": \"False\", \"runTemplate\": \"AutoML\", \"azureml.runsource\": \"automl\", \"display_task_type\": \"regression\", \"dependencies_versions\": \"{\\\"azureml-widgets\\\": \\\"1.13.0\\\", \\\"azureml-train\\\": \\\"1.14.0\\\", \\\"azureml-train-restclients-hyperdrive\\\": \\\"1.14.0\\\", \\\"azureml-train-core\\\": \\\"1.14.0\\\", \\\"azureml-train-automl\\\": \\\"1.14.0\\\", \\\"azureml-train-automl-runtime\\\": \\\"1.14.0\\\", \\\"azureml-train-automl-client\\\": \\\"1.14.0.post1\\\", \\\"azureml-tensorboard\\\": \\\"1.13.0\\\", \\\"azureml-telemetry\\\": \\\"1.14.0\\\", \\\"azureml-sdk\\\": \\\"1.14.0\\\", \\\"azureml-samples\\\": \\\"0+unknown\\\", \\\"azureml-pipeline\\\": \\\"1.14.0\\\", \\\"azureml-pipeline-steps\\\": \\\"1.14.0\\\", \\\"azureml-pipeline-core\\\": \\\"1.14.0\\\", \\\"azureml-opendatasets\\\": \\\"1.13.0\\\", \\\"azureml-model-management-sdk\\\": \\\"1.0.1b6.post1\\\", \\\"azureml-mlflow\\\": \\\"1.13.0.post1\\\", \\\"azureml-interpret\\\": \\\"1.14.0\\\", \\\"azureml-explain-model\\\": \\\"1.14.0\\\", \\\"azureml-defaults\\\": \\\"1.14.0\\\", \\\"azureml-dataset-runtime\\\": \\\"1.14.0\\\", \\\"azureml-dataprep\\\": \\\"2.1.6\\\", \\\"azureml-dataprep-native\\\": \\\"21.0.1\\\", \\\"azureml-datadrift\\\": \\\"1.13.0\\\", \\\"azureml-core\\\": \\\"1.14.0.post1\\\", \\\"azureml-contrib-services\\\": \\\"1.13.0\\\", \\\"azureml-contrib-server\\\": \\\"1.13.0\\\", \\\"azureml-contrib-reinforcementlearning\\\": \\\"1.13.0\\\", \\\"azureml-contrib-pipeline-steps\\\": \\\"1.13.0\\\", \\\"azureml-contrib-notebook\\\": \\\"1.13.0.post1\\\", \\\"azureml-contrib-interpret\\\": \\\"1.13.0\\\", \\\"azureml-contrib-gbdt\\\": \\\"1.13.0\\\", \\\"azureml-contrib-fairness\\\": \\\"1.13.0\\\", \\\"azureml-contrib-dataset\\\": \\\"1.13.0\\\", \\\"azureml-cli-common\\\": \\\"1.13.0\\\", \\\"azureml-automl-runtime\\\": \\\"1.14.0.post1\\\", \\\"azureml-automl-core\\\": \\\"1.14.0\\\", \\\"azureml-accel-models\\\": \\\"1.13.0\\\"}\", \"ClientSdkVersion\": \"1.14.0\", \"ClientType\": \"SDK\", \"_aml_system_scenario_identification\": \"Remote.Parent\", \"environment_cpu_name\": \"AzureML-AutoML\", \"environment_cpu_version\": \"37\", \"environment_gpu_name\": \"AzureML-AutoML-GPU\", \"environment_gpu_version\": \"25\", \"root_attribution\": \"automl\", \"attribution\": \"AutoML\", \"Orchestrator\": \"AutoML\", \"CancelUri\": \"https://westcentralus.experiments.azureml.net/jasmine/v1.0/subscriptions/ca9a2d87-d8dc-48d4-b027-17e79b799b00/resourceGroups/tech-immersion-226564/providers/Microsoft.MachineLearningServices/workspaces/gpu-tech-immersion-aml-226564/experiment/automl-regression/cancel/AutoML_44b40174-81cc-406c-9424-df0569de9f92\", \"snapshotId\": \"00000000-0000-0000-0000-000000000000\", \"SetupRunId\": \"AutoML_44b40174-81cc-406c-9424-df0569de9f92_setup\", \"SetupRunContainerId\": \"dcid.AutoML_44b40174-81cc-406c-9424-df0569de9f92_setup\", \"FeaturizationRunJsonPath\": \"featurizer_container.json\", \"FeaturizationRunId\": \"AutoML_44b40174-81cc-406c-9424-df0569de9f92_featurize\", \"ProblemInfoJsonString\": \"{\\\"dataset_num_categorical\\\": 0, \\\"is_sparse\\\": true, \\\"subsampling\\\": false, \\\"dataset_classes\\\": 2243, \\\"dataset_features\\\": 126, \\\"dataset_samples\\\": 10000, \\\"single_frequency_class_detected\\\": false}\", \"ModelExplainRunId\": \"AutoML_44b40174-81cc-406c-9424-df0569de9f92_ModelExplain\"}, \"tags\": {\"model_explain_run\": \"best_run\", \"_aml_system_azureml.automlComponent\": \"AutoML\", \"pipeline_id\": \"<faf12f74cf9bbd358ca5525682c5030d36f7be7c>;<4bc4ec47eb8df2d5d68b361cd60120e65196f757>;<73e33c7ea15f39b8e0d74491cc5f15c0665289c1>;\", \"score\": \"<0.04328113216335156>;<0.06177678070111875>;<0.10211218522824395>;\", \"predicted_cost\": \"<0>;<0>;<0.5>;\", \"fit_time\": \"<4.8536497999999995>;<7.364734200000001>;<0.472549>;\", \"training_percent\": \"<100>;<100>;<100>;\", \"iteration\": \"<0>;<1>;<2>;\", \"run_preprocessor\": \"<MaxAbsScaler>;<MaxAbsScaler>;<MaxAbsScaler>;\", \"run_algorithm\": \"<LightGBM>;<XGBoostRegressor>;<DecisionTree>;\", \"automl_best_child_run_id\": \"AutoML_44b40174-81cc-406c-9424-df0569de9f92_0\", \"model_explain_best_run_child_id\": \"AutoML_44b40174-81cc-406c-9424-df0569de9f92_0\"}, \"end_time_utc\": \"2020-09-24T16:51:50.764744Z\", \"status\": \"Completed\", \"log_files\": {}, \"log_groups\": [], \"run_duration\": \"0:11:49\"}, \"child_runs\": [{\"run_id\": \"AutoML_44b40174-81cc-406c-9424-df0569de9f92_0\", \"run_number\": 13, \"metric\": null, \"status\": \"Completed\", \"run_type\": \"azureml.scriptrun\", \"training_percent\": \"100\", \"start_time\": \"2020-09-24T16:47:37.496932Z\", \"end_time\": \"2020-09-24T16:48:49.779697Z\", \"created_time\": \"2020-09-24T16:47:20.146844Z\", \"created_time_dt\": \"2020-09-24T16:47:20.146844Z\", \"duration\": \"0:01:29\", \"iteration\": \"0\", \"goal\": \"normalized_root_mean_squared_error_min\", \"run_name\": \"MaxAbsScaler, LightGBM\", \"run_properties\": \"copy=True\", \"primary_metric\": 0.04328113, \"best_metric\": 0.04328113}, {\"run_id\": \"AutoML_44b40174-81cc-406c-9424-df0569de9f92_1\", \"run_number\": 14, \"metric\": null, \"status\": \"Completed\", \"run_type\": \"azureml.scriptrun\", \"training_percent\": \"100\", \"start_time\": \"2020-09-24T16:49:10.016114Z\", \"end_time\": \"2020-09-24T16:50:38.373378Z\", \"created_time\": \"2020-09-24T16:48:54.511907Z\", \"created_time_dt\": \"2020-09-24T16:48:54.511907Z\", \"duration\": \"0:01:43\", \"iteration\": \"1\", \"goal\": \"normalized_root_mean_squared_error_min\", \"run_name\": \"MaxAbsScaler, XGBoostRegressor\", \"run_properties\": \"copy=True\", \"primary_metric\": 0.06177678, \"best_metric\": 0.04328113}, {\"run_id\": \"AutoML_44b40174-81cc-406c-9424-df0569de9f92_2\", \"run_number\": 15, \"metric\": null, \"status\": \"Completed\", \"run_type\": \"azureml.scriptrun\", \"training_percent\": \"100\", \"start_time\": \"2020-09-24T16:51:00.245144Z\", \"end_time\": \"2020-09-24T16:51:41.846188Z\", \"created_time\": \"2020-09-24T16:50:49.035724Z\", \"created_time_dt\": \"2020-09-24T16:50:49.035724Z\", \"duration\": \"0:00:52\", \"iteration\": \"2\", \"goal\": \"normalized_root_mean_squared_error_min\", \"run_name\": \"MaxAbsScaler, DecisionTree\", \"run_properties\": \"copy=True\", \"primary_metric\": 0.10211219, \"best_metric\": 0.04328113}], \"children_metrics\": {\"categories\": [0], \"series\": {\"normalized_root_mean_squared_error\": [{\"categories\": [\"0\", \"1\", \"2\"], \"mode\": \"markers\", \"name\": \"normalized_root_mean_squared_error\", \"stepped\": false, \"type\": \"scatter\", \"data\": [0.04328113216335156, 0.06177678070111875, 0.10211218522824395]}, {\"categories\": [\"0\", \"1\", \"2\"], \"mode\": \"lines\", \"name\": \"normalized_root_mean_squared_error_min\", \"stepped\": true, \"type\": \"scatter\", \"data\": [0.04328113216335156, 0.04328113216335156, 0.04328113216335156]}], \"spearman_correlation\": [{\"categories\": [\"0\", \"1\", \"2\"], \"mode\": \"markers\", \"name\": \"spearman_correlation\", \"stepped\": false, \"type\": \"scatter\", \"data\": [0.9652564668287902, 0.9321116496521101, 0.721413941152276]}, {\"categories\": [\"0\", \"1\", \"2\"], \"mode\": \"lines\", \"name\": \"spearman_correlation_max\", \"stepped\": true, \"type\": \"scatter\", \"data\": [0.9652564668287902, 0.9652564668287902, 0.9652564668287902]}], \"normalized_median_absolute_error\": [{\"categories\": [\"0\", \"1\", \"2\"], \"mode\": \"markers\", \"name\": \"normalized_median_absolute_error\", \"stepped\": false, \"type\": \"scatter\", \"data\": [0.011744647105731533, 0.021478939138538978, 0.040733646470382454]}, {\"categories\": [\"0\", \"1\", \"2\"], \"mode\": \"lines\", \"name\": \"normalized_median_absolute_error_min\", \"stepped\": true, \"type\": \"scatter\", \"data\": [0.011744647105731533, 0.011744647105731533, 0.011744647105731533]}], \"r2_score\": [{\"categories\": [\"0\", \"1\", \"2\"], \"mode\": \"markers\", \"name\": \"r2_score\", \"stepped\": false, \"type\": \"scatter\", \"data\": [0.9079773425155834, 0.8123210542475411, 0.4828871163238828]}, {\"categories\": [\"0\", \"1\", \"2\"], \"mode\": \"lines\", \"name\": \"r2_score_max\", \"stepped\": true, \"type\": \"scatter\", \"data\": [0.9079773425155834, 0.9079773425155834, 0.9079773425155834]}], \"mean_absolute_error\": [{\"categories\": [\"0\", \"1\", \"2\"], \"mode\": \"markers\", \"name\": \"mean_absolute_error\", \"stepped\": false, \"type\": \"scatter\", \"data\": [75.99118182420264, 130.82196987867354, 238.48207982076406]}, {\"categories\": [\"0\", \"1\", \"2\"], \"mode\": \"lines\", \"name\": \"mean_absolute_error_min\", \"stepped\": true, \"type\": \"scatter\", \"data\": [75.99118182420264, 75.99118182420264, 75.99118182420264]}], \"normalized_root_mean_squared_log_error\": [{\"categories\": [\"0\", \"1\", \"2\"], \"mode\": \"markers\", \"name\": \"normalized_root_mean_squared_log_error\", \"stepped\": false, \"type\": \"scatter\", \"data\": [0.03998031236166753, 0.04081199629638331, 0.056329156098537295]}, {\"categories\": [\"0\", \"1\", \"2\"], \"mode\": \"lines\", \"name\": \"normalized_root_mean_squared_log_error_min\", \"stepped\": true, \"type\": \"scatter\", \"data\": [0.03998031236166753, 0.03998031236166753, 0.03998031236166753]}], \"root_mean_squared_log_error\": [{\"categories\": [\"0\", \"1\", \"2\"], \"mode\": \"markers\", \"name\": \"root_mean_squared_log_error\", \"stepped\": false, \"type\": \"scatter\", \"data\": [0.28217696415449506, 0.2880469044819041, 0.39756543464401695]}, {\"categories\": [\"0\", \"1\", \"2\"], \"mode\": \"lines\", \"name\": \"root_mean_squared_log_error_min\", \"stepped\": true, \"type\": \"scatter\", \"data\": [0.28217696415449506, 0.28217696415449506, 0.28217696415449506]}], \"root_mean_squared_error\": [{\"categories\": [\"0\", \"1\", \"2\"], \"mode\": \"markers\", \"name\": \"root_mean_squared_error\", \"stepped\": false, \"type\": \"scatter\", \"data\": [150.7481833249535, 215.16852718199658, 355.6567411499737]}, {\"categories\": [\"0\", \"1\", \"2\"], \"mode\": \"lines\", \"name\": \"root_mean_squared_error_min\", \"stepped\": true, \"type\": \"scatter\", \"data\": [150.7481833249535, 150.7481833249535, 150.7481833249535]}], \"mean_absolute_percentage_error\": [{\"categories\": [\"0\", \"1\", \"2\"], \"mode\": \"markers\", \"name\": \"mean_absolute_percentage_error\", \"stepped\": false, \"type\": \"scatter\", \"data\": [23.464707839415166, 31.569115230966315, 55.34586667181221]}, {\"categories\": [\"0\", \"1\", \"2\"], \"mode\": \"lines\", \"name\": \"mean_absolute_percentage_error_min\", \"stepped\": true, \"type\": \"scatter\", \"data\": [23.464707839415166, 23.464707839415166, 23.464707839415166]}], \"normalized_mean_absolute_error\": [{\"categories\": [\"0\", \"1\", \"2\"], \"mode\": \"markers\", \"name\": \"normalized_mean_absolute_error\", \"stepped\": false, \"type\": \"scatter\", \"data\": [0.021817738106288443, 0.03756014064848509, 0.06847030715497102]}, {\"categories\": [\"0\", \"1\", \"2\"], \"mode\": \"lines\", \"name\": \"normalized_mean_absolute_error_min\", \"stepped\": true, \"type\": \"scatter\", \"data\": [0.021817738106288443, 0.021817738106288443, 0.021817738106288443]}], \"median_absolute_error\": [{\"categories\": [\"0\", \"1\", \"2\"], \"mode\": \"markers\", \"name\": \"median_absolute_error\", \"stepped\": false, \"type\": \"scatter\", \"data\": [40.90660586926293, 74.81114501953125, 141.8752906563421]}, {\"categories\": [\"0\", \"1\", \"2\"], \"mode\": \"lines\", \"name\": \"median_absolute_error_min\", \"stepped\": true, \"type\": \"scatter\", \"data\": [40.90660586926293, 40.90660586926293, 40.90660586926293]}], \"explained_variance\": [{\"categories\": [\"0\", \"1\", \"2\"], \"mode\": \"markers\", \"name\": \"explained_variance\", \"stepped\": false, \"type\": \"scatter\", \"data\": [0.9080940472788948, 0.812576319626154, 0.48324702595506625]}, {\"categories\": [\"0\", \"1\", \"2\"], \"mode\": \"lines\", \"name\": \"explained_variance_max\", \"stepped\": true, \"type\": \"scatter\", \"data\": [0.9080940472788948, 0.9080940472788948, 0.9080940472788948]}]}, \"metricName\": null, \"primaryMetricName\": \"normalized_root_mean_squared_error\", \"showLegend\": false}, \"run_metrics\": [{\"name\": \"experiment_status\", \"run_id\": \"AutoML_44b40174-81cc-406c-9424-df0569de9f92\", \"categories\": [0, 1, 2, 3, 4, 5, 6, 7, 8, 9, 10, 11, 12, 13], \"series\": [{\"data\": [\"DatasetEvaluation\", \"FeaturesGeneration\", \"DatasetFeaturization\", \"DatasetFeaturizationCompleted\", \"DatasetCrossValidationSplit\", \"ModelSelection\", \"BestRunExplainModel\", \"ModelExplanationDataSetSetup\", \"PickSurrogateModel\", \"EngineeredFeatureExplanations\", \"EngineeredFeatureExplanations\", \"RawFeaturesExplanations\", \"RawFeaturesExplanations\", \"BestRunExplainModel\"]}]}, {\"name\": \"experiment_status_description\", \"run_id\": \"AutoML_44b40174-81cc-406c-9424-df0569de9f92\", \"categories\": [0, 1, 2, 3, 4, 5, 6, 7, 8, 9, 10, 11, 12, 13], \"series\": [{\"data\": [\"Gathering dataset statistics.\", \"Generating features for the dataset.\", \"Beginning to fit featurizers and featurize the dataset.\", \"Completed fit featurizers and featurizing the dataset.\", \"Generating individually featurized CV splits.\", \"Beginning model selection.\", \"Best run model explanations started\", \"Model explanations data setup completed\", \"Choosing LightGBM as the surrogate model for explanations\", \"Computation of engineered features started\", \"Computation of engineered features completed\", \"Computation of raw features started\", \"Computation of raw features completed\", \"Best run model explanations completed\"]}]}, {\"name\": \"normalized_root_mean_squared_error\", \"run_id\": \"AutoML_44b40174-81cc-406c-9424-df0569de9f92\", \"categories\": [0], \"series\": [{\"data\": [0.04328113216335156]}]}, {\"name\": \"spearman_correlation\", \"run_id\": \"AutoML_44b40174-81cc-406c-9424-df0569de9f92\", \"categories\": [0], \"series\": [{\"data\": [0.9652564668287902]}]}, {\"name\": \"normalized_median_absolute_error\", \"run_id\": \"AutoML_44b40174-81cc-406c-9424-df0569de9f92\", \"categories\": [0], \"series\": [{\"data\": [0.011744647105731533]}]}, {\"name\": \"r2_score\", \"run_id\": \"AutoML_44b40174-81cc-406c-9424-df0569de9f92\", \"categories\": [0], \"series\": [{\"data\": [0.9079773425155834]}]}, {\"name\": \"mean_absolute_error\", \"run_id\": \"AutoML_44b40174-81cc-406c-9424-df0569de9f92\", \"categories\": [0], \"series\": [{\"data\": [75.99118182420264]}]}, {\"name\": \"normalized_root_mean_squared_log_error\", \"run_id\": \"AutoML_44b40174-81cc-406c-9424-df0569de9f92\", \"categories\": [0], \"series\": [{\"data\": [0.03998031236166753]}]}, {\"name\": \"root_mean_squared_log_error\", \"run_id\": \"AutoML_44b40174-81cc-406c-9424-df0569de9f92\", \"categories\": [0], \"series\": [{\"data\": [0.28217696415449506]}]}, {\"name\": \"root_mean_squared_error\", \"run_id\": \"AutoML_44b40174-81cc-406c-9424-df0569de9f92\", \"categories\": [0], \"series\": [{\"data\": [150.7481833249535]}]}, {\"name\": \"mean_absolute_percentage_error\", \"run_id\": \"AutoML_44b40174-81cc-406c-9424-df0569de9f92\", \"categories\": [0], \"series\": [{\"data\": [23.464707839415166]}]}, {\"name\": \"normalized_mean_absolute_error\", \"run_id\": \"AutoML_44b40174-81cc-406c-9424-df0569de9f92\", \"categories\": [0], \"series\": [{\"data\": [0.021817738106288443]}]}, {\"name\": \"median_absolute_error\", \"run_id\": \"AutoML_44b40174-81cc-406c-9424-df0569de9f92\", \"categories\": [0], \"series\": [{\"data\": [40.90660586926293]}]}, {\"name\": \"explained_variance\", \"run_id\": \"AutoML_44b40174-81cc-406c-9424-df0569de9f92\", \"categories\": [0], \"series\": [{\"data\": [0.9080940472788948]}]}], \"run_logs\": \"\\nRun is completed.\", \"graph\": {}, \"widget_settings\": {\"childWidgetDisplay\": \"popup\", \"send_telemetry\": false, \"log_level\": \"INFO\", \"sdk_version\": \"1.14.0\"}, \"loading\": false}"
     },
     "metadata": {},
     "output_type": "display_data"
    }
   ],
   "source": [
    "from azureml.widgets import RunDetails\n",
    "RunDetails(remote_run).show()"
   ]
  },
  {
   "cell_type": "markdown",
   "metadata": {},
   "source": [
    "### List the Experiments from your Workspace"
   ]
  },
  {
   "cell_type": "markdown",
   "metadata": {},
   "source": [
    "Using the Azure Machine Learning SDK, you can retrieve any of the experiments in your Workspace and drill into the details of any runs the experiment contains. Run the following cell to explore the number of runs by experiment name."
   ]
  },
  {
   "cell_type": "code",
   "execution_count": 13,
   "metadata": {},
   "outputs": [
    {
     "data": {
      "text/html": [
       "<div>\n",
       "<style scoped>\n",
       "    .dataframe tbody tr th:only-of-type {\n",
       "        vertical-align: middle;\n",
       "    }\n",
       "\n",
       "    .dataframe tbody tr th {\n",
       "        vertical-align: top;\n",
       "    }\n",
       "\n",
       "    .dataframe thead th {\n",
       "        text-align: right;\n",
       "    }\n",
       "</style>\n",
       "<table border=\"1\" class=\"dataframe\">\n",
       "  <thead>\n",
       "    <tr style=\"text-align: right;\">\n",
       "      <th></th>\n",
       "      <th>No of Runs</th>\n",
       "    </tr>\n",
       "  </thead>\n",
       "  <tbody>\n",
       "    <tr>\n",
       "      <th>automl-regression</th>\n",
       "      <td>3</td>\n",
       "    </tr>\n",
       "  </tbody>\n",
       "</table>\n",
       "</div>"
      ],
      "text/plain": [
       "                   No of Runs\n",
       "automl-regression  3         "
      ]
     },
     "execution_count": 13,
     "metadata": {},
     "output_type": "execute_result"
    }
   ],
   "source": [
    "ws = Workspace.from_config()\n",
    "experiment_list = Experiment.list(workspace=ws)\n",
    "\n",
    "summary_df = pd.DataFrame(index = ['No of Runs'])\n",
    "pattern = re.compile('^AutoML_[^_]*$')\n",
    "for experiment in experiment_list:\n",
    "    all_runs = list(experiment.get_runs())\n",
    "    automl_runs = []\n",
    "    for run in all_runs:\n",
    "        if(pattern.match(run.id)):\n",
    "            automl_runs.append(run)    \n",
    "    summary_df[experiment.name] = [len(automl_runs)]\n",
    "    \n",
    "pd.set_option('display.max_colwidth', -1)\n",
    "summary_df.T"
   ]
  },
  {
   "cell_type": "markdown",
   "metadata": {},
   "source": [
    "### List the Automated ML Runs for the Experiment"
   ]
  },
  {
   "cell_type": "markdown",
   "metadata": {},
   "source": [
    "Similarly, you can view all of the runs that ran supporting Auto ML:"
   ]
  },
  {
   "cell_type": "code",
   "execution_count": 14,
   "metadata": {
    "scrolled": true
   },
   "outputs": [
    {
     "data": {
      "text/html": [
       "<h3>automl-regression</h3>"
      ],
      "text/plain": [
       "<IPython.core.display.HTML object>"
      ]
     },
     "metadata": {},
     "output_type": "display_data"
    },
    {
     "data": {
      "text/html": [
       "<div>\n",
       "<style scoped>\n",
       "    .dataframe tbody tr th:only-of-type {\n",
       "        vertical-align: middle;\n",
       "    }\n",
       "\n",
       "    .dataframe tbody tr th {\n",
       "        vertical-align: top;\n",
       "    }\n",
       "\n",
       "    .dataframe thead th {\n",
       "        text-align: right;\n",
       "    }\n",
       "</style>\n",
       "<table border=\"1\" class=\"dataframe\">\n",
       "  <thead>\n",
       "    <tr style=\"text-align: right;\">\n",
       "      <th></th>\n",
       "      <th>Type</th>\n",
       "      <th>Status</th>\n",
       "      <th>Primary Metric</th>\n",
       "      <th>Iterations</th>\n",
       "      <th>Compute</th>\n",
       "      <th>Name</th>\n",
       "    </tr>\n",
       "  </thead>\n",
       "  <tbody>\n",
       "    <tr>\n",
       "      <th>AutoML_44b40174-81cc-406c-9424-df0569de9f92</th>\n",
       "      <td>regression</td>\n",
       "      <td>Running</td>\n",
       "      <td>normalized_root_mean_squared_error</td>\n",
       "      <td>3</td>\n",
       "      <td>aml-compute-cpu</td>\n",
       "      <td>automl-regression</td>\n",
       "    </tr>\n",
       "    <tr>\n",
       "      <th>AutoML_798fcded-6cf2-478b-b773-c16781206c3e</th>\n",
       "      <td>regression</td>\n",
       "      <td>Completed</td>\n",
       "      <td>normalized_root_mean_squared_error</td>\n",
       "      <td>1000</td>\n",
       "      <td>aml-compute-cpu</td>\n",
       "      <td>automl-regression</td>\n",
       "    </tr>\n",
       "    <tr>\n",
       "      <th>AutoML_6fe87304-83fd-4abf-89b1-b21edf1bef1e</th>\n",
       "      <td>regression</td>\n",
       "      <td>Canceled</td>\n",
       "      <td>spearman_correlation</td>\n",
       "      <td>1000</td>\n",
       "      <td>aml-compute-cpu</td>\n",
       "      <td>automl-regression</td>\n",
       "    </tr>\n",
       "  </tbody>\n",
       "</table>\n",
       "</div>"
      ],
      "text/plain": [
       "                                                   Type     Status  \\\n",
       "AutoML_44b40174-81cc-406c-9424-df0569de9f92  regression  Running     \n",
       "AutoML_798fcded-6cf2-478b-b773-c16781206c3e  regression  Completed   \n",
       "AutoML_6fe87304-83fd-4abf-89b1-b21edf1bef1e  regression  Canceled    \n",
       "\n",
       "                                                                 Primary Metric  \\\n",
       "AutoML_44b40174-81cc-406c-9424-df0569de9f92  normalized_root_mean_squared_error   \n",
       "AutoML_798fcded-6cf2-478b-b773-c16781206c3e  normalized_root_mean_squared_error   \n",
       "AutoML_6fe87304-83fd-4abf-89b1-b21edf1bef1e  spearman_correlation                 \n",
       "\n",
       "                                            Iterations          Compute  \\\n",
       "AutoML_44b40174-81cc-406c-9424-df0569de9f92  3          aml-compute-cpu   \n",
       "AutoML_798fcded-6cf2-478b-b773-c16781206c3e  1000       aml-compute-cpu   \n",
       "AutoML_6fe87304-83fd-4abf-89b1-b21edf1bef1e  1000       aml-compute-cpu   \n",
       "\n",
       "                                                          Name  \n",
       "AutoML_44b40174-81cc-406c-9424-df0569de9f92  automl-regression  \n",
       "AutoML_798fcded-6cf2-478b-b773-c16781206c3e  automl-regression  \n",
       "AutoML_6fe87304-83fd-4abf-89b1-b21edf1bef1e  automl-regression  "
      ]
     },
     "metadata": {},
     "output_type": "display_data"
    }
   ],
   "source": [
    "import json\n",
    "proj = ws.experiments[experiment_name]\n",
    "summary_df = pd.DataFrame(index = ['Type', 'Status', 'Primary Metric', 'Iterations', 'Compute', 'Name'])\n",
    "pattern = re.compile('^AutoML_[^_]*$')\n",
    "all_runs = list(proj.get_runs(properties={'azureml.runsource': 'automl'}))\n",
    "for run in all_runs:\n",
    "    if(pattern.match(run.id)):\n",
    "        properties = run.get_properties()\n",
    "        tags = run.get_tags()\n",
    "        amlsettings = json.loads(properties['AMLSettingsJsonString'])\n",
    "        if 'iterations' in tags:\n",
    "            iterations = tags['iterations']\n",
    "        else:\n",
    "            iterations = properties['num_iterations']\n",
    "        summary_df[run.id] = [amlsettings['task_type'], run.get_details()['status'], properties['primary_metric'], iterations, properties['target'], amlsettings['name']]\n",
    "    \n",
    "from IPython.display import HTML\n",
    "projname_html = HTML(\"<h3>{}</h3>\".format(proj.name))\n",
    "\n",
    "from IPython.display import display\n",
    "display(projname_html)\n",
    "display(summary_df.T)"
   ]
  },
  {
   "cell_type": "markdown",
   "metadata": {},
   "source": [
    "### Display Automated ML Run Details\n",
    "For a particular run, you can display the details of how the run performed against the performance metric. The Azure Machine Learning SDK includes a built-in widget that graphically summarizes the run. \n",
    "\n",
    "Execute the following cell to see it."
   ]
  },
  {
   "cell_type": "code",
   "execution_count": 15,
   "metadata": {},
   "outputs": [
    {
     "data": {
      "application/vnd.jupyter.widget-view+json": {
       "model_id": "409fbd36a4a94058b68adf4e97ff362c",
       "version_major": 2,
       "version_minor": 0
      },
      "text/plain": [
       "_AutoMLWidget(widget_settings={'childWidgetDisplay': 'popup', 'send_telemetry': False, 'log_level': 'INFO', 's…"
      ]
     },
     "metadata": {},
     "output_type": "display_data"
    },
    {
     "data": {
      "application/aml.mini.widget.v1": "{\"status\": \"Completed\", \"workbench_run_details_uri\": \"https://ml.azure.com/experiments/automl-regression/runs/AutoML_44b40174-81cc-406c-9424-df0569de9f92?wsid=/subscriptions/ca9a2d87-d8dc-48d4-b027-17e79b799b00/resourcegroups/tech-immersion-226564/workspaces/gpu-tech-immersion-aml-226564\", \"run_id\": \"AutoML_44b40174-81cc-406c-9424-df0569de9f92\", \"run_properties\": {\"run_id\": \"AutoML_44b40174-81cc-406c-9424-df0569de9f92\", \"created_utc\": \"2020-09-24T16:40:00.886675Z\", \"properties\": {\"num_iterations\": \"3\", \"training_type\": \"TrainFull\", \"acquisition_function\": \"EI\", \"primary_metric\": \"normalized_root_mean_squared_error\", \"train_split\": \"0\", \"acquisition_parameter\": \"0\", \"num_cross_validation\": \"5\", \"target\": \"aml-compute-cpu\", \"AMLSettingsJsonString\": \"{\\\"path\\\":null,\\\"name\\\":\\\"automl-regression\\\",\\\"subscription_id\\\":\\\"ca9a2d87-d8dc-48d4-b027-17e79b799b00\\\",\\\"resource_group\\\":\\\"tech-immersion-226564\\\",\\\"workspace_name\\\":\\\"gpu-tech-immersion-aml-226564\\\",\\\"region\\\":\\\"westcentralus\\\",\\\"compute_target\\\":\\\"aml-compute-cpu\\\",\\\"spark_service\\\":null,\\\"azure_service\\\":\\\"remote\\\",\\\"_local_managed_run_id\\\":null,\\\"many_models\\\":false,\\\"iterations\\\":3,\\\"primary_metric\\\":\\\"normalized_root_mean_squared_error\\\",\\\"task_type\\\":\\\"regression\\\",\\\"data_script\\\":null,\\\"validation_size\\\":0.0,\\\"n_cross_validations\\\":5,\\\"y_min\\\":null,\\\"y_max\\\":null,\\\"num_classes\\\":null,\\\"featurization\\\":\\\"auto\\\",\\\"_ignore_package_version_incompatibilities\\\":false,\\\"is_timeseries\\\":false,\\\"max_cores_per_iteration\\\":10,\\\"max_concurrent_iterations\\\":1,\\\"iteration_timeout_minutes\\\":5,\\\"mem_in_mb\\\":null,\\\"enforce_time_on_windows\\\":false,\\\"experiment_timeout_minutes\\\":8640,\\\"experiment_exit_score\\\":null,\\\"whitelist_models\\\":null,\\\"blacklist_algos\\\":[\\\"TensorFlowDNN\\\",\\\"TensorFlowLinearRegressor\\\"],\\\"supported_models\\\":[\\\"TensorFlowLinearRegressor\\\",\\\"ExtremeRandomTrees\\\",\\\"ElasticNet\\\",\\\"DecisionTree\\\",\\\"KNN\\\",\\\"LightGBM\\\",\\\"OnlineGradientDescentRegressor\\\",\\\"RandomForest\\\",\\\"GradientBoosting\\\",\\\"LassoLars\\\",\\\"TensorFlowDNN\\\",\\\"FastLinearRegressor\\\",\\\"XGBoostRegressor\\\",\\\"SGD\\\"],\\\"auto_blacklist\\\":true,\\\"blacklist_samples_reached\\\":false,\\\"exclude_nan_labels\\\":true,\\\"verbosity\\\":10,\\\"_debug_log\\\":\\\"azureml_automl.log\\\",\\\"show_warnings\\\":false,\\\"model_explainability\\\":true,\\\"service_url\\\":null,\\\"sdk_url\\\":null,\\\"sdk_packages\\\":null,\\\"enable_onnx_compatible_models\\\":false,\\\"enable_split_onnx_featurizer_estimator_models\\\":false,\\\"vm_type\\\":\\\"STANDARD_D2_V2\\\",\\\"telemetry_verbosity\\\":10,\\\"send_telemetry\\\":true,\\\"enable_dnn\\\":false,\\\"force_text_dnn\\\":false,\\\"enable_feature_sweeping\\\":true,\\\"enable_early_stopping\\\":false,\\\"early_stopping_n_iters\\\":10,\\\"metrics\\\":null,\\\"enable_ensembling\\\":false,\\\"enable_stack_ensembling\\\":false,\\\"ensemble_iterations\\\":null,\\\"enable_tf\\\":false,\\\"enable_subsampling\\\":false,\\\"subsample_seed\\\":null,\\\"enable_nimbusml\\\":false,\\\"enable_streaming\\\":false,\\\"force_streaming\\\":false,\\\"track_child_runs\\\":true,\\\"label_column_name\\\":\\\"Survival_In_Days\\\",\\\"weight_column_name\\\":null,\\\"cv_split_column_names\\\":null,\\\"enable_local_managed\\\":false,\\\"cost_mode\\\":1,\\\"lag_length\\\":0,\\\"metric_operation\\\":\\\"minimize\\\",\\\"preprocess\\\":true,\\\"scenario\\\":\\\"SDK-1.13.0\\\"}\", \"DataPrepJsonString\": \"{\\\\\\\"training_data\\\\\\\": \\\\\\\"{\\\\\\\\\\\\\\\"blocks\\\\\\\\\\\\\\\": [{\\\\\\\\\\\\\\\"id\\\\\\\\\\\\\\\": \\\\\\\\\\\\\\\"357c16ac-7c6b-40a2-b4bc-ccb651b9e95e\\\\\\\\\\\\\\\", \\\\\\\\\\\\\\\"type\\\\\\\\\\\\\\\": \\\\\\\\\\\\\\\"Microsoft.DPrep.GetDatastoreFilesBlock\\\\\\\\\\\\\\\", \\\\\\\\\\\\\\\"arguments\\\\\\\\\\\\\\\": {\\\\\\\\\\\\\\\"datastores\\\\\\\\\\\\\\\": [{\\\\\\\\\\\\\\\"datastoreName\\\\\\\\\\\\\\\": \\\\\\\\\\\\\\\"workspaceblobstore\\\\\\\\\\\\\\\", \\\\\\\\\\\\\\\"path\\\\\\\\\\\\\\\": \\\\\\\\\\\\\\\"train-dataset/tabular/training-formatted.csv\\\\\\\\\\\\\\\", \\\\\\\\\\\\\\\"resourceGroup\\\\\\\\\\\\\\\": \\\\\\\\\\\\\\\"tech-immersion-226564\\\\\\\\\\\\\\\", \\\\\\\\\\\\\\\"subscription\\\\\\\\\\\\\\\": \\\\\\\\\\\\\\\"ca9a2d87-d8dc-48d4-b027-17e79b799b00\\\\\\\\\\\\\\\", \\\\\\\\\\\\\\\"workspaceName\\\\\\\\\\\\\\\": \\\\\\\\\\\\\\\"gpu-tech-immersion-aml-226564\\\\\\\\\\\\\\\"}]}, \\\\\\\\\\\\\\\"localData\\\\\\\\\\\\\\\": {}, \\\\\\\\\\\\\\\"isEnabled\\\\\\\\\\\\\\\": true, \\\\\\\\\\\\\\\"name\\\\\\\\\\\\\\\": null, \\\\\\\\\\\\\\\"annotation\\\\\\\\\\\\\\\": null}, {\\\\\\\\\\\\\\\"id\\\\\\\\\\\\\\\": \\\\\\\\\\\\\\\"ba1c5df5-75ca-47ce-a06b-4a1d324cece6\\\\\\\\\\\\\\\", \\\\\\\\\\\\\\\"type\\\\\\\\\\\\\\\": \\\\\\\\\\\\\\\"Microsoft.DPrep.ParseDelimitedBlock\\\\\\\\\\\\\\\", \\\\\\\\\\\\\\\"arguments\\\\\\\\\\\\\\\": {\\\\\\\\\\\\\\\"columnHeadersMode\\\\\\\\\\\\\\\": 3, \\\\\\\\\\\\\\\"fileEncoding\\\\\\\\\\\\\\\": 0, \\\\\\\\\\\\\\\"handleQuotedLineBreaks\\\\\\\\\\\\\\\": false, \\\\\\\\\\\\\\\"preview\\\\\\\\\\\\\\\": false, \\\\\\\\\\\\\\\"separator\\\\\\\\\\\\\\\": \\\\\\\\\\\\\\\",\\\\\\\\\\\\\\\", \\\\\\\\\\\\\\\"skipRows\\\\\\\\\\\\\\\": 0, \\\\\\\\\\\\\\\"skipRowsMode\\\\\\\\\\\\\\\": 0}, \\\\\\\\\\\\\\\"localData\\\\\\\\\\\\\\\": {}, \\\\\\\\\\\\\\\"isEnabled\\\\\\\\\\\\\\\": true, \\\\\\\\\\\\\\\"name\\\\\\\\\\\\\\\": null, \\\\\\\\\\\\\\\"annotation\\\\\\\\\\\\\\\": null}, {\\\\\\\\\\\\\\\"id\\\\\\\\\\\\\\\": \\\\\\\\\\\\\\\"4f53ace6-ef76-45c3-be1d-51434f37554e\\\\\\\\\\\\\\\", \\\\\\\\\\\\\\\"type\\\\\\\\\\\\\\\": \\\\\\\\\\\\\\\"Microsoft.DPrep.DropColumnsBlock\\\\\\\\\\\\\\\", \\\\\\\\\\\\\\\"arguments\\\\\\\\\\\\\\\": {\\\\\\\\\\\\\\\"columns\\\\\\\\\\\\\\\": {\\\\\\\\\\\\\\\"type\\\\\\\\\\\\\\\": 0, \\\\\\\\\\\\\\\"details\\\\\\\\\\\\\\\": {\\\\\\\\\\\\\\\"selectedColumns\\\\\\\\\\\\\\\": [\\\\\\\\\\\\\\\"Path\\\\\\\\\\\\\\\"]}}}, \\\\\\\\\\\\\\\"localData\\\\\\\\\\\\\\\": {}, \\\\\\\\\\\\\\\"isEnabled\\\\\\\\\\\\\\\": true, \\\\\\\\\\\\\\\"name\\\\\\\\\\\\\\\": null, \\\\\\\\\\\\\\\"annotation\\\\\\\\\\\\\\\": null}, {\\\\\\\\\\\\\\\"id\\\\\\\\\\\\\\\": \\\\\\\\\\\\\\\"171e08ec-e0cc-4966-8e94-b4b243c8f295\\\\\\\\\\\\\\\", \\\\\\\\\\\\\\\"type\\\\\\\\\\\\\\\": \\\\\\\\\\\\\\\"Microsoft.DPrep.SetColumnTypesBlock\\\\\\\\\\\\\\\", \\\\\\\\\\\\\\\"arguments\\\\\\\\\\\\\\\": {\\\\\\\\\\\\\\\"columnConversion\\\\\\\\\\\\\\\": [{\\\\\\\\\\\\\\\"column\\\\\\\\\\\\\\\": {\\\\\\\\\\\\\\\"type\\\\\\\\\\\\\\\": 2, \\\\\\\\\\\\\\\"details\\\\\\\\\\\\\\\": {\\\\\\\\\\\\\\\"selectedColumn\\\\\\\\\\\\\\\": \\\\\\\\\\\\\\\"Survival_In_Days\\\\\\\\\\\\\\\"}}, \\\\\\\\\\\\\\\"typeProperty\\\\\\\\\\\\\\\": 2}, {\\\\\\\\\\\\\\\"column\\\\\\\\\\\\\\\": {\\\\\\\\\\\\\\\"type\\\\\\\\\\\\\\\": 2, \\\\\\\\\\\\\\\"details\\\\\\\\\\\\\\\": {\\\\\\\\\\\\\\\"selectedColumn\\\\\\\\\\\\\\\": \\\\\\\\\\\\\\\"Province\\\\\\\\\\\\\\\"}}, \\\\\\\\\\\\\\\"typeProperty\\\\\\\\\\\\\\\": 0}, {\\\\\\\\\\\\\\\"column\\\\\\\\\\\\\\\": {\\\\\\\\\\\\\\\"type\\\\\\\\\\\\\\\": 2, \\\\\\\\\\\\\\\"details\\\\\\\\\\\\\\\": {\\\\\\\\\\\\\\\"selectedColumn\\\\\\\\\\\\\\\": \\\\\\\\\\\\\\\"Region\\\\\\\\\\\\\\\"}}, \\\\\\\\\\\\\\\"typeProperty\\\\\\\\\\\\\\\": 0}, {\\\\\\\\\\\\\\\"column\\\\\\\\\\\\\\\": {\\\\\\\\\\\\\\\"type\\\\\\\\\\\\\\\": 2, \\\\\\\\\\\\\\\"details\\\\\\\\\\\\\\\": {\\\\\\\\\\\\\\\"selectedColumn\\\\\\\\\\\\\\\": \\\\\\\\\\\\\\\"Trip_Length_Mean\\\\\\\\\\\\\\\"}}, \\\\\\\\\\\\\\\"typeProperty\\\\\\\\\\\\\\\": 3}, {\\\\\\\\\\\\\\\"column\\\\\\\\\\\\\\\": {\\\\\\\\\\\\\\\"type\\\\\\\\\\\\\\\": 2, \\\\\\\\\\\\\\\"details\\\\\\\\\\\\\\\": {\\\\\\\\\\\\\\\"selectedColumn\\\\\\\\\\\\\\\": \\\\\\\\\\\\\\\"Trip_Length_Sigma\\\\\\\\\\\\\\\"}}, \\\\\\\\\\\\\\\"typeProperty\\\\\\\\\\\\\\\": 3}, {\\\\\\\\\\\\\\\"column\\\\\\\\\\\\\\\": {\\\\\\\\\\\\\\\"type\\\\\\\\\\\\\\\": 2, \\\\\\\\\\\\\\\"details\\\\\\\\\\\\\\\": {\\\\\\\\\\\\\\\"selectedColumn\\\\\\\\\\\\\\\": \\\\\\\\\\\\\\\"Trips_Per_Day_Mean\\\\\\\\\\\\\\\"}}, \\\\\\\\\\\\\\\"typeProperty\\\\\\\\\\\\\\\": 3}, {\\\\\\\\\\\\\\\"column\\\\\\\\\\\\\\\": {\\\\\\\\\\\\\\\"type\\\\\\\\\\\\\\\": 2, \\\\\\\\\\\\\\\"details\\\\\\\\\\\\\\\": {\\\\\\\\\\\\\\\"selectedColumn\\\\\\\\\\\\\\\": \\\\\\\\\\\\\\\"Trips_Per_Day_Sigma\\\\\\\\\\\\\\\"}}, \\\\\\\\\\\\\\\"typeProperty\\\\\\\\\\\\\\\": 3}, {\\\\\\\\\\\\\\\"column\\\\\\\\\\\\\\\": {\\\\\\\\\\\\\\\"type\\\\\\\\\\\\\\\": 2, \\\\\\\\\\\\\\\"details\\\\\\\\\\\\\\\": {\\\\\\\\\\\\\\\"selectedColumn\\\\\\\\\\\\\\\": \\\\\\\\\\\\\\\"Battery_Rated_Cycles\\\\\\\\\\\\\\\"}}, \\\\\\\\\\\\\\\"typeProperty\\\\\\\\\\\\\\\": 2}, {\\\\\\\\\\\\\\\"column\\\\\\\\\\\\\\\": {\\\\\\\\\\\\\\\"type\\\\\\\\\\\\\\\": 2, \\\\\\\\\\\\\\\"details\\\\\\\\\\\\\\\": {\\\\\\\\\\\\\\\"selectedColumn\\\\\\\\\\\\\\\": \\\\\\\\\\\\\\\"Manufacture_Month\\\\\\\\\\\\\\\"}}, \\\\\\\\\\\\\\\"typeProperty\\\\\\\\\\\\\\\": 0}, {\\\\\\\\\\\\\\\"column\\\\\\\\\\\\\\\": {\\\\\\\\\\\\\\\"type\\\\\\\\\\\\\\\": 2, \\\\\\\\\\\\\\\"details\\\\\\\\\\\\\\\": {\\\\\\\\\\\\\\\"selectedColumn\\\\\\\\\\\\\\\": \\\\\\\\\\\\\\\"Manufacture_Year\\\\\\\\\\\\\\\"}}, \\\\\\\\\\\\\\\"typeProperty\\\\\\\\\\\\\\\": 0}, {\\\\\\\\\\\\\\\"column\\\\\\\\\\\\\\\": {\\\\\\\\\\\\\\\"type\\\\\\\\\\\\\\\": 2, \\\\\\\\\\\\\\\"details\\\\\\\\\\\\\\\": {\\\\\\\\\\\\\\\"selectedColumn\\\\\\\\\\\\\\\": \\\\\\\\\\\\\\\"Alternator_Efficiency\\\\\\\\\\\\\\\"}}, \\\\\\\\\\\\\\\"typeProperty\\\\\\\\\\\\\\\": 3}, {\\\\\\\\\\\\\\\"column\\\\\\\\\\\\\\\": {\\\\\\\\\\\\\\\"type\\\\\\\\\\\\\\\": 2, \\\\\\\\\\\\\\\"details\\\\\\\\\\\\\\\": {\\\\\\\\\\\\\\\"selectedColumn\\\\\\\\\\\\\\\": \\\\\\\\\\\\\\\"Car_Has_EcoStart\\\\\\\\\\\\\\\"}}, \\\\\\\\\\\\\\\"typeProperty\\\\\\\\\\\\\\\": 1}, {\\\\\\\\\\\\\\\"column\\\\\\\\\\\\\\\": {\\\\\\\\\\\\\\\"type\\\\\\\\\\\\\\\": 2, \\\\\\\\\\\\\\\"details\\\\\\\\\\\\\\\": {\\\\\\\\\\\\\\\"selectedColumn\\\\\\\\\\\\\\\": \\\\\\\\\\\\\\\"Twelve_hourly_temperature_history_for_last_31_days_before_death_last_recording_first\\\\\\\\\\\\\\\"}}, \\\\\\\\\\\\\\\"typeProperty\\\\\\\\\\\\\\\": 3}, {\\\\\\\\\\\\\\\"column\\\\\\\\\\\\\\\": {\\\\\\\\\\\\\\\"type\\\\\\\\\\\\\\\": 2, \\\\\\\\\\\\\\\"details\\\\\\\\\\\\\\\": {\\\\\\\\\\\\\\\"selectedColumn\\\\\\\\\\\\\\\": \\\\\\\\\\\\\\\"Sensor_Reading_1\\\\\\\\\\\\\\\"}}, \\\\\\\\\\\\\\\"typeProperty\\\\\\\\\\\\\\\": 3}, {\\\\\\\\\\\\\\\"column\\\\\\\\\\\\\\\": {\\\\\\\\\\\\\\\"type\\\\\\\\\\\\\\\": 2, \\\\\\\\\\\\\\\"details\\\\\\\\\\\\\\\": {\\\\\\\\\\\\\\\"selectedColumn\\\\\\\\\\\\\\\": \\\\\\\\\\\\\\\"Sensor_Reading_2\\\\\\\\\\\\\\\"}}, \\\\\\\\\\\\\\\"typeProperty\\\\\\\\\\\\\\\": 3}, {\\\\\\\\\\\\\\\"column\\\\\\\\\\\\\\\": {\\\\\\\\\\\\\\\"type\\\\\\\\\\\\\\\": 2, \\\\\\\\\\\\\\\"details\\\\\\\\\\\\\\\": {\\\\\\\\\\\\\\\"selectedColumn\\\\\\\\\\\\\\\": \\\\\\\\\\\\\\\"Sensor_Reading_3\\\\\\\\\\\\\\\"}}, \\\\\\\\\\\\\\\"typeProperty\\\\\\\\\\\\\\\": 3}, {\\\\\\\\\\\\\\\"column\\\\\\\\\\\\\\\": {\\\\\\\\\\\\\\\"type\\\\\\\\\\\\\\\": 2, \\\\\\\\\\\\\\\"details\\\\\\\\\\\\\\\": {\\\\\\\\\\\\\\\"selectedColumn\\\\\\\\\\\\\\\": \\\\\\\\\\\\\\\"Sensor_Reading_4\\\\\\\\\\\\\\\"}}, \\\\\\\\\\\\\\\"typeProperty\\\\\\\\\\\\\\\": 3}, {\\\\\\\\\\\\\\\"column\\\\\\\\\\\\\\\": {\\\\\\\\\\\\\\\"type\\\\\\\\\\\\\\\": 2, \\\\\\\\\\\\\\\"details\\\\\\\\\\\\\\\": {\\\\\\\\\\\\\\\"selectedColumn\\\\\\\\\\\\\\\": \\\\\\\\\\\\\\\"Sensor_Reading_5\\\\\\\\\\\\\\\"}}, \\\\\\\\\\\\\\\"typeProperty\\\\\\\\\\\\\\\": 3}, {\\\\\\\\\\\\\\\"column\\\\\\\\\\\\\\\": {\\\\\\\\\\\\\\\"type\\\\\\\\\\\\\\\": 2, \\\\\\\\\\\\\\\"details\\\\\\\\\\\\\\\": {\\\\\\\\\\\\\\\"selectedColumn\\\\\\\\\\\\\\\": \\\\\\\\\\\\\\\"Sensor_Reading_6\\\\\\\\\\\\\\\"}}, \\\\\\\\\\\\\\\"typeProperty\\\\\\\\\\\\\\\": 3}, {\\\\\\\\\\\\\\\"column\\\\\\\\\\\\\\\": {\\\\\\\\\\\\\\\"type\\\\\\\\\\\\\\\": 2, \\\\\\\\\\\\\\\"details\\\\\\\\\\\\\\\": {\\\\\\\\\\\\\\\"selectedColumn\\\\\\\\\\\\\\\": \\\\\\\\\\\\\\\"Sensor_Reading_7\\\\\\\\\\\\\\\"}}, \\\\\\\\\\\\\\\"typeProperty\\\\\\\\\\\\\\\": 3}, {\\\\\\\\\\\\\\\"column\\\\\\\\\\\\\\\": {\\\\\\\\\\\\\\\"type\\\\\\\\\\\\\\\": 2, \\\\\\\\\\\\\\\"details\\\\\\\\\\\\\\\": {\\\\\\\\\\\\\\\"selectedColumn\\\\\\\\\\\\\\\": \\\\\\\\\\\\\\\"Sensor_Reading_8\\\\\\\\\\\\\\\"}}, \\\\\\\\\\\\\\\"typeProperty\\\\\\\\\\\\\\\": 3}, {\\\\\\\\\\\\\\\"column\\\\\\\\\\\\\\\": {\\\\\\\\\\\\\\\"type\\\\\\\\\\\\\\\": 2, \\\\\\\\\\\\\\\"details\\\\\\\\\\\\\\\": {\\\\\\\\\\\\\\\"selectedColumn\\\\\\\\\\\\\\\": \\\\\\\\\\\\\\\"Sensor_Reading_9\\\\\\\\\\\\\\\"}}, \\\\\\\\\\\\\\\"typeProperty\\\\\\\\\\\\\\\": 3}, {\\\\\\\\\\\\\\\"column\\\\\\\\\\\\\\\": {\\\\\\\\\\\\\\\"type\\\\\\\\\\\\\\\": 2, \\\\\\\\\\\\\\\"details\\\\\\\\\\\\\\\": {\\\\\\\\\\\\\\\"selectedColumn\\\\\\\\\\\\\\\": \\\\\\\\\\\\\\\"Sensor_Reading_10\\\\\\\\\\\\\\\"}}, \\\\\\\\\\\\\\\"typeProperty\\\\\\\\\\\\\\\": 3}, {\\\\\\\\\\\\\\\"column\\\\\\\\\\\\\\\": {\\\\\\\\\\\\\\\"type\\\\\\\\\\\\\\\": 2, \\\\\\\\\\\\\\\"details\\\\\\\\\\\\\\\": {\\\\\\\\\\\\\\\"selectedColumn\\\\\\\\\\\\\\\": \\\\\\\\\\\\\\\"Sensor_Reading_11\\\\\\\\\\\\\\\"}}, \\\\\\\\\\\\\\\"typeProperty\\\\\\\\\\\\\\\": 3}, {\\\\\\\\\\\\\\\"column\\\\\\\\\\\\\\\": {\\\\\\\\\\\\\\\"type\\\\\\\\\\\\\\\": 2, \\\\\\\\\\\\\\\"details\\\\\\\\\\\\\\\": {\\\\\\\\\\\\\\\"selectedColumn\\\\\\\\\\\\\\\": \\\\\\\\\\\\\\\"Sensor_Reading_12\\\\\\\\\\\\\\\"}}, \\\\\\\\\\\\\\\"typeProperty\\\\\\\\\\\\\\\": 3}, {\\\\\\\\\\\\\\\"column\\\\\\\\\\\\\\\": {\\\\\\\\\\\\\\\"type\\\\\\\\\\\\\\\": 2, \\\\\\\\\\\\\\\"details\\\\\\\\\\\\\\\": {\\\\\\\\\\\\\\\"selectedColumn\\\\\\\\\\\\\\\": \\\\\\\\\\\\\\\"Sensor_Reading_13\\\\\\\\\\\\\\\"}}, \\\\\\\\\\\\\\\"typeProperty\\\\\\\\\\\\\\\": 3}, {\\\\\\\\\\\\\\\"column\\\\\\\\\\\\\\\": {\\\\\\\\\\\\\\\"type\\\\\\\\\\\\\\\": 2, \\\\\\\\\\\\\\\"details\\\\\\\\\\\\\\\": {\\\\\\\\\\\\\\\"selectedColumn\\\\\\\\\\\\\\\": \\\\\\\\\\\\\\\"Sensor_Reading_14\\\\\\\\\\\\\\\"}}, \\\\\\\\\\\\\\\"typeProperty\\\\\\\\\\\\\\\": 3}, {\\\\\\\\\\\\\\\"column\\\\\\\\\\\\\\\": {\\\\\\\\\\\\\\\"type\\\\\\\\\\\\\\\": 2, \\\\\\\\\\\\\\\"details\\\\\\\\\\\\\\\": {\\\\\\\\\\\\\\\"selectedColumn\\\\\\\\\\\\\\\": \\\\\\\\\\\\\\\"Sensor_Reading_15\\\\\\\\\\\\\\\"}}, \\\\\\\\\\\\\\\"typeProperty\\\\\\\\\\\\\\\": 3}, {\\\\\\\\\\\\\\\"column\\\\\\\\\\\\\\\": {\\\\\\\\\\\\\\\"type\\\\\\\\\\\\\\\": 2, \\\\\\\\\\\\\\\"details\\\\\\\\\\\\\\\": {\\\\\\\\\\\\\\\"selectedColumn\\\\\\\\\\\\\\\": \\\\\\\\\\\\\\\"Sensor_Reading_16\\\\\\\\\\\\\\\"}}, \\\\\\\\\\\\\\\"typeProperty\\\\\\\\\\\\\\\": 3}, {\\\\\\\\\\\\\\\"column\\\\\\\\\\\\\\\": {\\\\\\\\\\\\\\\"type\\\\\\\\\\\\\\\": 2, \\\\\\\\\\\\\\\"details\\\\\\\\\\\\\\\": {\\\\\\\\\\\\\\\"selectedColumn\\\\\\\\\\\\\\\": \\\\\\\\\\\\\\\"Sensor_Reading_17\\\\\\\\\\\\\\\"}}, \\\\\\\\\\\\\\\"typeProperty\\\\\\\\\\\\\\\": 3}, {\\\\\\\\\\\\\\\"column\\\\\\\\\\\\\\\": {\\\\\\\\\\\\\\\"type\\\\\\\\\\\\\\\": 2, \\\\\\\\\\\\\\\"details\\\\\\\\\\\\\\\": {\\\\\\\\\\\\\\\"selectedColumn\\\\\\\\\\\\\\\": \\\\\\\\\\\\\\\"Sensor_Reading_18\\\\\\\\\\\\\\\"}}, \\\\\\\\\\\\\\\"typeProperty\\\\\\\\\\\\\\\": 3}, {\\\\\\\\\\\\\\\"column\\\\\\\\\\\\\\\": {\\\\\\\\\\\\\\\"type\\\\\\\\\\\\\\\": 2, \\\\\\\\\\\\\\\"details\\\\\\\\\\\\\\\": {\\\\\\\\\\\\\\\"selectedColumn\\\\\\\\\\\\\\\": \\\\\\\\\\\\\\\"Sensor_Reading_19\\\\\\\\\\\\\\\"}}, \\\\\\\\\\\\\\\"typeProperty\\\\\\\\\\\\\\\": 3}, {\\\\\\\\\\\\\\\"column\\\\\\\\\\\\\\\": {\\\\\\\\\\\\\\\"type\\\\\\\\\\\\\\\": 2, \\\\\\\\\\\\\\\"details\\\\\\\\\\\\\\\": {\\\\\\\\\\\\\\\"selectedColumn\\\\\\\\\\\\\\\": \\\\\\\\\\\\\\\"Sensor_Reading_20\\\\\\\\\\\\\\\"}}, \\\\\\\\\\\\\\\"typeProperty\\\\\\\\\\\\\\\": 3}, {\\\\\\\\\\\\\\\"column\\\\\\\\\\\\\\\": {\\\\\\\\\\\\\\\"type\\\\\\\\\\\\\\\": 2, \\\\\\\\\\\\\\\"details\\\\\\\\\\\\\\\": {\\\\\\\\\\\\\\\"selectedColumn\\\\\\\\\\\\\\\": \\\\\\\\\\\\\\\"Sensor_Reading_21\\\\\\\\\\\\\\\"}}, \\\\\\\\\\\\\\\"typeProperty\\\\\\\\\\\\\\\": 3}, {\\\\\\\\\\\\\\\"column\\\\\\\\\\\\\\\": {\\\\\\\\\\\\\\\"type\\\\\\\\\\\\\\\": 2, \\\\\\\\\\\\\\\"details\\\\\\\\\\\\\\\": {\\\\\\\\\\\\\\\"selectedColumn\\\\\\\\\\\\\\\": \\\\\\\\\\\\\\\"Sensor_Reading_22\\\\\\\\\\\\\\\"}}, \\\\\\\\\\\\\\\"typeProperty\\\\\\\\\\\\\\\": 3}, {\\\\\\\\\\\\\\\"column\\\\\\\\\\\\\\\": {\\\\\\\\\\\\\\\"type\\\\\\\\\\\\\\\": 2, \\\\\\\\\\\\\\\"details\\\\\\\\\\\\\\\": {\\\\\\\\\\\\\\\"selectedColumn\\\\\\\\\\\\\\\": \\\\\\\\\\\\\\\"Sensor_Reading_23\\\\\\\\\\\\\\\"}}, \\\\\\\\\\\\\\\"typeProperty\\\\\\\\\\\\\\\": 3}, {\\\\\\\\\\\\\\\"column\\\\\\\\\\\\\\\": {\\\\\\\\\\\\\\\"type\\\\\\\\\\\\\\\": 2, \\\\\\\\\\\\\\\"details\\\\\\\\\\\\\\\": {\\\\\\\\\\\\\\\"selectedColumn\\\\\\\\\\\\\\\": \\\\\\\\\\\\\\\"Sensor_Reading_24\\\\\\\\\\\\\\\"}}, \\\\\\\\\\\\\\\"typeProperty\\\\\\\\\\\\\\\": 3}, {\\\\\\\\\\\\\\\"column\\\\\\\\\\\\\\\": {\\\\\\\\\\\\\\\"type\\\\\\\\\\\\\\\": 2, \\\\\\\\\\\\\\\"details\\\\\\\\\\\\\\\": {\\\\\\\\\\\\\\\"selectedColumn\\\\\\\\\\\\\\\": \\\\\\\\\\\\\\\"Sensor_Reading_25\\\\\\\\\\\\\\\"}}, \\\\\\\\\\\\\\\"typeProperty\\\\\\\\\\\\\\\": 3}, {\\\\\\\\\\\\\\\"column\\\\\\\\\\\\\\\": {\\\\\\\\\\\\\\\"type\\\\\\\\\\\\\\\": 2, \\\\\\\\\\\\\\\"details\\\\\\\\\\\\\\\": {\\\\\\\\\\\\\\\"selectedColumn\\\\\\\\\\\\\\\": \\\\\\\\\\\\\\\"Sensor_Reading_26\\\\\\\\\\\\\\\"}}, \\\\\\\\\\\\\\\"typeProperty\\\\\\\\\\\\\\\": 3}, {\\\\\\\\\\\\\\\"column\\\\\\\\\\\\\\\": {\\\\\\\\\\\\\\\"type\\\\\\\\\\\\\\\": 2, \\\\\\\\\\\\\\\"details\\\\\\\\\\\\\\\": {\\\\\\\\\\\\\\\"selectedColumn\\\\\\\\\\\\\\\": \\\\\\\\\\\\\\\"Sensor_Reading_27\\\\\\\\\\\\\\\"}}, \\\\\\\\\\\\\\\"typeProperty\\\\\\\\\\\\\\\": 3}, {\\\\\\\\\\\\\\\"column\\\\\\\\\\\\\\\": {\\\\\\\\\\\\\\\"type\\\\\\\\\\\\\\\": 2, \\\\\\\\\\\\\\\"details\\\\\\\\\\\\\\\": {\\\\\\\\\\\\\\\"selectedColumn\\\\\\\\\\\\\\\": \\\\\\\\\\\\\\\"Sensor_Reading_28\\\\\\\\\\\\\\\"}}, \\\\\\\\\\\\\\\"typeProperty\\\\\\\\\\\\\\\": 3}, {\\\\\\\\\\\\\\\"column\\\\\\\\\\\\\\\": {\\\\\\\\\\\\\\\"type\\\\\\\\\\\\\\\": 2, \\\\\\\\\\\\\\\"details\\\\\\\\\\\\\\\": {\\\\\\\\\\\\\\\"selectedColumn\\\\\\\\\\\\\\\": \\\\\\\\\\\\\\\"Sensor_Reading_29\\\\\\\\\\\\\\\"}}, \\\\\\\\\\\\\\\"typeProperty\\\\\\\\\\\\\\\": 3}, {\\\\\\\\\\\\\\\"column\\\\\\\\\\\\\\\": {\\\\\\\\\\\\\\\"type\\\\\\\\\\\\\\\": 2, \\\\\\\\\\\\\\\"details\\\\\\\\\\\\\\\": {\\\\\\\\\\\\\\\"selectedColumn\\\\\\\\\\\\\\\": \\\\\\\\\\\\\\\"Sensor_Reading_30\\\\\\\\\\\\\\\"}}, \\\\\\\\\\\\\\\"typeProperty\\\\\\\\\\\\\\\": 3}, {\\\\\\\\\\\\\\\"column\\\\\\\\\\\\\\\": {\\\\\\\\\\\\\\\"type\\\\\\\\\\\\\\\": 2, \\\\\\\\\\\\\\\"details\\\\\\\\\\\\\\\": {\\\\\\\\\\\\\\\"selectedColumn\\\\\\\\\\\\\\\": \\\\\\\\\\\\\\\"Sensor_Reading_31\\\\\\\\\\\\\\\"}}, \\\\\\\\\\\\\\\"typeProperty\\\\\\\\\\\\\\\": 3}, {\\\\\\\\\\\\\\\"column\\\\\\\\\\\\\\\": {\\\\\\\\\\\\\\\"type\\\\\\\\\\\\\\\": 2, \\\\\\\\\\\\\\\"details\\\\\\\\\\\\\\\": {\\\\\\\\\\\\\\\"selectedColumn\\\\\\\\\\\\\\\": \\\\\\\\\\\\\\\"Sensor_Reading_32\\\\\\\\\\\\\\\"}}, \\\\\\\\\\\\\\\"typeProperty\\\\\\\\\\\\\\\": 3}, {\\\\\\\\\\\\\\\"column\\\\\\\\\\\\\\\": {\\\\\\\\\\\\\\\"type\\\\\\\\\\\\\\\": 2, \\\\\\\\\\\\\\\"details\\\\\\\\\\\\\\\": {\\\\\\\\\\\\\\\"selectedColumn\\\\\\\\\\\\\\\": \\\\\\\\\\\\\\\"Sensor_Reading_33\\\\\\\\\\\\\\\"}}, \\\\\\\\\\\\\\\"typeProperty\\\\\\\\\\\\\\\": 3}, {\\\\\\\\\\\\\\\"column\\\\\\\\\\\\\\\": {\\\\\\\\\\\\\\\"type\\\\\\\\\\\\\\\": 2, \\\\\\\\\\\\\\\"details\\\\\\\\\\\\\\\": {\\\\\\\\\\\\\\\"selectedColumn\\\\\\\\\\\\\\\": \\\\\\\\\\\\\\\"Sensor_Reading_34\\\\\\\\\\\\\\\"}}, \\\\\\\\\\\\\\\"typeProperty\\\\\\\\\\\\\\\": 3}, {\\\\\\\\\\\\\\\"column\\\\\\\\\\\\\\\": {\\\\\\\\\\\\\\\"type\\\\\\\\\\\\\\\": 2, \\\\\\\\\\\\\\\"details\\\\\\\\\\\\\\\": {\\\\\\\\\\\\\\\"selectedColumn\\\\\\\\\\\\\\\": \\\\\\\\\\\\\\\"Sensor_Reading_35\\\\\\\\\\\\\\\"}}, \\\\\\\\\\\\\\\"typeProperty\\\\\\\\\\\\\\\": 3}, {\\\\\\\\\\\\\\\"column\\\\\\\\\\\\\\\": {\\\\\\\\\\\\\\\"type\\\\\\\\\\\\\\\": 2, \\\\\\\\\\\\\\\"details\\\\\\\\\\\\\\\": {\\\\\\\\\\\\\\\"selectedColumn\\\\\\\\\\\\\\\": \\\\\\\\\\\\\\\"Sensor_Reading_36\\\\\\\\\\\\\\\"}}, \\\\\\\\\\\\\\\"typeProperty\\\\\\\\\\\\\\\": 3}, {\\\\\\\\\\\\\\\"column\\\\\\\\\\\\\\\": {\\\\\\\\\\\\\\\"type\\\\\\\\\\\\\\\": 2, \\\\\\\\\\\\\\\"details\\\\\\\\\\\\\\\": {\\\\\\\\\\\\\\\"selectedColumn\\\\\\\\\\\\\\\": \\\\\\\\\\\\\\\"Sensor_Reading_37\\\\\\\\\\\\\\\"}}, \\\\\\\\\\\\\\\"typeProperty\\\\\\\\\\\\\\\": 3}, {\\\\\\\\\\\\\\\"column\\\\\\\\\\\\\\\": {\\\\\\\\\\\\\\\"type\\\\\\\\\\\\\\\": 2, \\\\\\\\\\\\\\\"details\\\\\\\\\\\\\\\": {\\\\\\\\\\\\\\\"selectedColumn\\\\\\\\\\\\\\\": \\\\\\\\\\\\\\\"Sensor_Reading_38\\\\\\\\\\\\\\\"}}, \\\\\\\\\\\\\\\"typeProperty\\\\\\\\\\\\\\\": 3}, {\\\\\\\\\\\\\\\"column\\\\\\\\\\\\\\\": {\\\\\\\\\\\\\\\"type\\\\\\\\\\\\\\\": 2, \\\\\\\\\\\\\\\"details\\\\\\\\\\\\\\\": {\\\\\\\\\\\\\\\"selectedColumn\\\\\\\\\\\\\\\": \\\\\\\\\\\\\\\"Sensor_Reading_39\\\\\\\\\\\\\\\"}}, \\\\\\\\\\\\\\\"typeProperty\\\\\\\\\\\\\\\": 3}, {\\\\\\\\\\\\\\\"column\\\\\\\\\\\\\\\": {\\\\\\\\\\\\\\\"type\\\\\\\\\\\\\\\": 2, \\\\\\\\\\\\\\\"details\\\\\\\\\\\\\\\": {\\\\\\\\\\\\\\\"selectedColumn\\\\\\\\\\\\\\\": \\\\\\\\\\\\\\\"Sensor_Reading_40\\\\\\\\\\\\\\\"}}, \\\\\\\\\\\\\\\"typeProperty\\\\\\\\\\\\\\\": 3}, {\\\\\\\\\\\\\\\"column\\\\\\\\\\\\\\\": {\\\\\\\\\\\\\\\"type\\\\\\\\\\\\\\\": 2, \\\\\\\\\\\\\\\"details\\\\\\\\\\\\\\\": {\\\\\\\\\\\\\\\"selectedColumn\\\\\\\\\\\\\\\": \\\\\\\\\\\\\\\"Sensor_Reading_41\\\\\\\\\\\\\\\"}}, \\\\\\\\\\\\\\\"typeProperty\\\\\\\\\\\\\\\": 3}, {\\\\\\\\\\\\\\\"column\\\\\\\\\\\\\\\": {\\\\\\\\\\\\\\\"type\\\\\\\\\\\\\\\": 2, \\\\\\\\\\\\\\\"details\\\\\\\\\\\\\\\": {\\\\\\\\\\\\\\\"selectedColumn\\\\\\\\\\\\\\\": \\\\\\\\\\\\\\\"Sensor_Reading_42\\\\\\\\\\\\\\\"}}, \\\\\\\\\\\\\\\"typeProperty\\\\\\\\\\\\\\\": 3}, {\\\\\\\\\\\\\\\"column\\\\\\\\\\\\\\\": {\\\\\\\\\\\\\\\"type\\\\\\\\\\\\\\\": 2, \\\\\\\\\\\\\\\"details\\\\\\\\\\\\\\\": {\\\\\\\\\\\\\\\"selectedColumn\\\\\\\\\\\\\\\": \\\\\\\\\\\\\\\"Sensor_Reading_43\\\\\\\\\\\\\\\"}}, \\\\\\\\\\\\\\\"typeProperty\\\\\\\\\\\\\\\": 3}, {\\\\\\\\\\\\\\\"column\\\\\\\\\\\\\\\": {\\\\\\\\\\\\\\\"type\\\\\\\\\\\\\\\": 2, \\\\\\\\\\\\\\\"details\\\\\\\\\\\\\\\": {\\\\\\\\\\\\\\\"selectedColumn\\\\\\\\\\\\\\\": \\\\\\\\\\\\\\\"Sensor_Reading_44\\\\\\\\\\\\\\\"}}, \\\\\\\\\\\\\\\"typeProperty\\\\\\\\\\\\\\\": 3}, {\\\\\\\\\\\\\\\"column\\\\\\\\\\\\\\\": {\\\\\\\\\\\\\\\"type\\\\\\\\\\\\\\\": 2, \\\\\\\\\\\\\\\"details\\\\\\\\\\\\\\\": {\\\\\\\\\\\\\\\"selectedColumn\\\\\\\\\\\\\\\": \\\\\\\\\\\\\\\"Sensor_Reading_45\\\\\\\\\\\\\\\"}}, \\\\\\\\\\\\\\\"typeProperty\\\\\\\\\\\\\\\": 3}, {\\\\\\\\\\\\\\\"column\\\\\\\\\\\\\\\": {\\\\\\\\\\\\\\\"type\\\\\\\\\\\\\\\": 2, \\\\\\\\\\\\\\\"details\\\\\\\\\\\\\\\": {\\\\\\\\\\\\\\\"selectedColumn\\\\\\\\\\\\\\\": \\\\\\\\\\\\\\\"Sensor_Reading_46\\\\\\\\\\\\\\\"}}, \\\\\\\\\\\\\\\"typeProperty\\\\\\\\\\\\\\\": 3}, {\\\\\\\\\\\\\\\"column\\\\\\\\\\\\\\\": {\\\\\\\\\\\\\\\"type\\\\\\\\\\\\\\\": 2, \\\\\\\\\\\\\\\"details\\\\\\\\\\\\\\\": {\\\\\\\\\\\\\\\"selectedColumn\\\\\\\\\\\\\\\": \\\\\\\\\\\\\\\"Sensor_Reading_47\\\\\\\\\\\\\\\"}}, \\\\\\\\\\\\\\\"typeProperty\\\\\\\\\\\\\\\": 3}, {\\\\\\\\\\\\\\\"column\\\\\\\\\\\\\\\": {\\\\\\\\\\\\\\\"type\\\\\\\\\\\\\\\": 2, \\\\\\\\\\\\\\\"details\\\\\\\\\\\\\\\": {\\\\\\\\\\\\\\\"selectedColumn\\\\\\\\\\\\\\\": \\\\\\\\\\\\\\\"Sensor_Reading_48\\\\\\\\\\\\\\\"}}, \\\\\\\\\\\\\\\"typeProperty\\\\\\\\\\\\\\\": 3}, {\\\\\\\\\\\\\\\"column\\\\\\\\\\\\\\\": {\\\\\\\\\\\\\\\"type\\\\\\\\\\\\\\\": 2, \\\\\\\\\\\\\\\"details\\\\\\\\\\\\\\\": {\\\\\\\\\\\\\\\"selectedColumn\\\\\\\\\\\\\\\": \\\\\\\\\\\\\\\"Sensor_Reading_49\\\\\\\\\\\\\\\"}}, \\\\\\\\\\\\\\\"typeProperty\\\\\\\\\\\\\\\": 3}, {\\\\\\\\\\\\\\\"column\\\\\\\\\\\\\\\": {\\\\\\\\\\\\\\\"type\\\\\\\\\\\\\\\": 2, \\\\\\\\\\\\\\\"details\\\\\\\\\\\\\\\": {\\\\\\\\\\\\\\\"selectedColumn\\\\\\\\\\\\\\\": \\\\\\\\\\\\\\\"Sensor_Reading_50\\\\\\\\\\\\\\\"}}, \\\\\\\\\\\\\\\"typeProperty\\\\\\\\\\\\\\\": 3}, {\\\\\\\\\\\\\\\"column\\\\\\\\\\\\\\\": {\\\\\\\\\\\\\\\"type\\\\\\\\\\\\\\\": 2, \\\\\\\\\\\\\\\"details\\\\\\\\\\\\\\\": {\\\\\\\\\\\\\\\"selectedColumn\\\\\\\\\\\\\\\": \\\\\\\\\\\\\\\"Sensor_Reading_51\\\\\\\\\\\\\\\"}}, \\\\\\\\\\\\\\\"typeProperty\\\\\\\\\\\\\\\": 3}, {\\\\\\\\\\\\\\\"column\\\\\\\\\\\\\\\": {\\\\\\\\\\\\\\\"type\\\\\\\\\\\\\\\": 2, \\\\\\\\\\\\\\\"details\\\\\\\\\\\\\\\": {\\\\\\\\\\\\\\\"selectedColumn\\\\\\\\\\\\\\\": \\\\\\\\\\\\\\\"Sensor_Reading_52\\\\\\\\\\\\\\\"}}, \\\\\\\\\\\\\\\"typeProperty\\\\\\\\\\\\\\\": 3}, {\\\\\\\\\\\\\\\"column\\\\\\\\\\\\\\\": {\\\\\\\\\\\\\\\"type\\\\\\\\\\\\\\\": 2, \\\\\\\\\\\\\\\"details\\\\\\\\\\\\\\\": {\\\\\\\\\\\\\\\"selectedColumn\\\\\\\\\\\\\\\": \\\\\\\\\\\\\\\"Sensor_Reading_53\\\\\\\\\\\\\\\"}}, \\\\\\\\\\\\\\\"typeProperty\\\\\\\\\\\\\\\": 3}, {\\\\\\\\\\\\\\\"column\\\\\\\\\\\\\\\": {\\\\\\\\\\\\\\\"type\\\\\\\\\\\\\\\": 2, \\\\\\\\\\\\\\\"details\\\\\\\\\\\\\\\": {\\\\\\\\\\\\\\\"selectedColumn\\\\\\\\\\\\\\\": \\\\\\\\\\\\\\\"Sensor_Reading_54\\\\\\\\\\\\\\\"}}, \\\\\\\\\\\\\\\"typeProperty\\\\\\\\\\\\\\\": 3}, {\\\\\\\\\\\\\\\"column\\\\\\\\\\\\\\\": {\\\\\\\\\\\\\\\"type\\\\\\\\\\\\\\\": 2, \\\\\\\\\\\\\\\"details\\\\\\\\\\\\\\\": {\\\\\\\\\\\\\\\"selectedColumn\\\\\\\\\\\\\\\": \\\\\\\\\\\\\\\"Sensor_Reading_55\\\\\\\\\\\\\\\"}}, \\\\\\\\\\\\\\\"typeProperty\\\\\\\\\\\\\\\": 3}, {\\\\\\\\\\\\\\\"column\\\\\\\\\\\\\\\": {\\\\\\\\\\\\\\\"type\\\\\\\\\\\\\\\": 2, \\\\\\\\\\\\\\\"details\\\\\\\\\\\\\\\": {\\\\\\\\\\\\\\\"selectedColumn\\\\\\\\\\\\\\\": \\\\\\\\\\\\\\\"Sensor_Reading_56\\\\\\\\\\\\\\\"}}, \\\\\\\\\\\\\\\"typeProperty\\\\\\\\\\\\\\\": 3}, {\\\\\\\\\\\\\\\"column\\\\\\\\\\\\\\\": {\\\\\\\\\\\\\\\"type\\\\\\\\\\\\\\\": 2, \\\\\\\\\\\\\\\"details\\\\\\\\\\\\\\\": {\\\\\\\\\\\\\\\"selectedColumn\\\\\\\\\\\\\\\": \\\\\\\\\\\\\\\"Sensor_Reading_57\\\\\\\\\\\\\\\"}}, \\\\\\\\\\\\\\\"typeProperty\\\\\\\\\\\\\\\": 3}, {\\\\\\\\\\\\\\\"column\\\\\\\\\\\\\\\": {\\\\\\\\\\\\\\\"type\\\\\\\\\\\\\\\": 2, \\\\\\\\\\\\\\\"details\\\\\\\\\\\\\\\": {\\\\\\\\\\\\\\\"selectedColumn\\\\\\\\\\\\\\\": \\\\\\\\\\\\\\\"Sensor_Reading_58\\\\\\\\\\\\\\\"}}, \\\\\\\\\\\\\\\"typeProperty\\\\\\\\\\\\\\\": 3}, {\\\\\\\\\\\\\\\"column\\\\\\\\\\\\\\\": {\\\\\\\\\\\\\\\"type\\\\\\\\\\\\\\\": 2, \\\\\\\\\\\\\\\"details\\\\\\\\\\\\\\\": {\\\\\\\\\\\\\\\"selectedColumn\\\\\\\\\\\\\\\": \\\\\\\\\\\\\\\"Sensor_Reading_59\\\\\\\\\\\\\\\"}}, \\\\\\\\\\\\\\\"typeProperty\\\\\\\\\\\\\\\": 3}, {\\\\\\\\\\\\\\\"column\\\\\\\\\\\\\\\": {\\\\\\\\\\\\\\\"type\\\\\\\\\\\\\\\": 2, \\\\\\\\\\\\\\\"details\\\\\\\\\\\\\\\": {\\\\\\\\\\\\\\\"selectedColumn\\\\\\\\\\\\\\\": \\\\\\\\\\\\\\\"Sensor_Reading_60\\\\\\\\\\\\\\\"}}, \\\\\\\\\\\\\\\"typeProperty\\\\\\\\\\\\\\\": 3}, {\\\\\\\\\\\\\\\"column\\\\\\\\\\\\\\\": {\\\\\\\\\\\\\\\"type\\\\\\\\\\\\\\\": 2, \\\\\\\\\\\\\\\"details\\\\\\\\\\\\\\\": {\\\\\\\\\\\\\\\"selectedColumn\\\\\\\\\\\\\\\": \\\\\\\\\\\\\\\"Sensor_Reading_61\\\\\\\\\\\\\\\"}}, \\\\\\\\\\\\\\\"typeProperty\\\\\\\\\\\\\\\": 3}]}, \\\\\\\\\\\\\\\"localData\\\\\\\\\\\\\\\": {}, \\\\\\\\\\\\\\\"isEnabled\\\\\\\\\\\\\\\": true, \\\\\\\\\\\\\\\"name\\\\\\\\\\\\\\\": null, \\\\\\\\\\\\\\\"annotation\\\\\\\\\\\\\\\": null}], \\\\\\\\\\\\\\\"inspectors\\\\\\\\\\\\\\\": [], \\\\\\\\\\\\\\\"meta\\\\\\\\\\\\\\\": {\\\\\\\\\\\\\\\"savedDatasetId\\\\\\\\\\\\\\\": \\\\\\\\\\\\\\\"bd6887b7-af6c-406a-8047-17e668395279\\\\\\\\\\\\\\\", \\\\\\\\\\\\\\\"datasetType\\\\\\\\\\\\\\\": \\\\\\\\\\\\\\\"tabular\\\\\\\\\\\\\\\", \\\\\\\\\\\\\\\"subscriptionId\\\\\\\\\\\\\\\": \\\\\\\\\\\\\\\"ca9a2d87-d8dc-48d4-b027-17e79b799b00\\\\\\\\\\\\\\\", \\\\\\\\\\\\\\\"workspaceId\\\\\\\\\\\\\\\": \\\\\\\\\\\\\\\"b10c773d-05cc-4963-a543-6882f4c25188\\\\\\\\\\\\\\\", \\\\\\\\\\\\\\\"workspaceLocation\\\\\\\\\\\\\\\": \\\\\\\\\\\\\\\"westcentralus\\\\\\\\\\\\\\\"}}\\\\\\\", \\\\\\\"activities\\\\\\\": 0}\", \"EnableSubsampling\": \"False\", \"runTemplate\": \"AutoML\", \"azureml.runsource\": \"automl\", \"display_task_type\": \"regression\", \"dependencies_versions\": \"{\\\"azureml-widgets\\\": \\\"1.13.0\\\", \\\"azureml-train\\\": \\\"1.14.0\\\", \\\"azureml-train-restclients-hyperdrive\\\": \\\"1.14.0\\\", \\\"azureml-train-core\\\": \\\"1.14.0\\\", \\\"azureml-train-automl\\\": \\\"1.14.0\\\", \\\"azureml-train-automl-runtime\\\": \\\"1.14.0\\\", \\\"azureml-train-automl-client\\\": \\\"1.14.0.post1\\\", \\\"azureml-tensorboard\\\": \\\"1.13.0\\\", \\\"azureml-telemetry\\\": \\\"1.14.0\\\", \\\"azureml-sdk\\\": \\\"1.14.0\\\", \\\"azureml-samples\\\": \\\"0+unknown\\\", \\\"azureml-pipeline\\\": \\\"1.14.0\\\", \\\"azureml-pipeline-steps\\\": \\\"1.14.0\\\", \\\"azureml-pipeline-core\\\": \\\"1.14.0\\\", \\\"azureml-opendatasets\\\": \\\"1.13.0\\\", \\\"azureml-model-management-sdk\\\": \\\"1.0.1b6.post1\\\", \\\"azureml-mlflow\\\": \\\"1.13.0.post1\\\", \\\"azureml-interpret\\\": \\\"1.14.0\\\", \\\"azureml-explain-model\\\": \\\"1.14.0\\\", \\\"azureml-defaults\\\": \\\"1.14.0\\\", \\\"azureml-dataset-runtime\\\": \\\"1.14.0\\\", \\\"azureml-dataprep\\\": \\\"2.1.6\\\", \\\"azureml-dataprep-native\\\": \\\"21.0.1\\\", \\\"azureml-datadrift\\\": \\\"1.13.0\\\", \\\"azureml-core\\\": \\\"1.14.0.post1\\\", \\\"azureml-contrib-services\\\": \\\"1.13.0\\\", \\\"azureml-contrib-server\\\": \\\"1.13.0\\\", \\\"azureml-contrib-reinforcementlearning\\\": \\\"1.13.0\\\", \\\"azureml-contrib-pipeline-steps\\\": \\\"1.13.0\\\", \\\"azureml-contrib-notebook\\\": \\\"1.13.0.post1\\\", \\\"azureml-contrib-interpret\\\": \\\"1.13.0\\\", \\\"azureml-contrib-gbdt\\\": \\\"1.13.0\\\", \\\"azureml-contrib-fairness\\\": \\\"1.13.0\\\", \\\"azureml-contrib-dataset\\\": \\\"1.13.0\\\", \\\"azureml-cli-common\\\": \\\"1.13.0\\\", \\\"azureml-automl-runtime\\\": \\\"1.14.0.post1\\\", \\\"azureml-automl-core\\\": \\\"1.14.0\\\", \\\"azureml-accel-models\\\": \\\"1.13.0\\\"}\", \"ClientSdkVersion\": \"1.14.0\", \"ClientType\": \"SDK\", \"_aml_system_scenario_identification\": \"Remote.Parent\", \"environment_cpu_name\": \"AzureML-AutoML\", \"environment_cpu_version\": \"37\", \"environment_gpu_name\": \"AzureML-AutoML-GPU\", \"environment_gpu_version\": \"25\", \"root_attribution\": \"automl\", \"attribution\": \"AutoML\", \"Orchestrator\": \"AutoML\", \"CancelUri\": \"https://westcentralus.experiments.azureml.net/jasmine/v1.0/subscriptions/ca9a2d87-d8dc-48d4-b027-17e79b799b00/resourceGroups/tech-immersion-226564/providers/Microsoft.MachineLearningServices/workspaces/gpu-tech-immersion-aml-226564/experiment/automl-regression/cancel/AutoML_44b40174-81cc-406c-9424-df0569de9f92\", \"snapshotId\": \"00000000-0000-0000-0000-000000000000\", \"SetupRunId\": \"AutoML_44b40174-81cc-406c-9424-df0569de9f92_setup\", \"SetupRunContainerId\": \"dcid.AutoML_44b40174-81cc-406c-9424-df0569de9f92_setup\", \"FeaturizationRunJsonPath\": \"featurizer_container.json\", \"FeaturizationRunId\": \"AutoML_44b40174-81cc-406c-9424-df0569de9f92_featurize\", \"ProblemInfoJsonString\": \"{\\\"dataset_num_categorical\\\": 0, \\\"is_sparse\\\": true, \\\"subsampling\\\": false, \\\"dataset_classes\\\": 2243, \\\"dataset_features\\\": 126, \\\"dataset_samples\\\": 10000, \\\"single_frequency_class_detected\\\": false}\", \"ModelExplainRunId\": \"AutoML_44b40174-81cc-406c-9424-df0569de9f92_ModelExplain\"}, \"tags\": {\"model_explain_run\": \"best_run\", \"_aml_system_azureml.automlComponent\": \"AutoML\", \"pipeline_id\": \"<faf12f74cf9bbd358ca5525682c5030d36f7be7c>;<4bc4ec47eb8df2d5d68b361cd60120e65196f757>;<73e33c7ea15f39b8e0d74491cc5f15c0665289c1>;\", \"score\": \"<0.04328113216335156>;<0.06177678070111875>;<0.10211218522824395>;\", \"predicted_cost\": \"<0>;<0>;<0.5>;\", \"fit_time\": \"<4.8536497999999995>;<7.364734200000001>;<0.472549>;\", \"training_percent\": \"<100>;<100>;<100>;\", \"iteration\": \"<0>;<1>;<2>;\", \"run_preprocessor\": \"<MaxAbsScaler>;<MaxAbsScaler>;<MaxAbsScaler>;\", \"run_algorithm\": \"<LightGBM>;<XGBoostRegressor>;<DecisionTree>;\", \"automl_best_child_run_id\": \"AutoML_44b40174-81cc-406c-9424-df0569de9f92_0\", \"model_explain_best_run_child_id\": \"AutoML_44b40174-81cc-406c-9424-df0569de9f92_0\"}, \"end_time_utc\": \"2020-09-24T16:51:50.764744Z\", \"status\": \"Completed\", \"log_files\": {}, \"log_groups\": [], \"run_duration\": \"0:11:49\"}, \"child_runs\": [{\"run_id\": \"AutoML_44b40174-81cc-406c-9424-df0569de9f92_0\", \"run_number\": 13, \"metric\": null, \"status\": \"Completed\", \"run_type\": \"azureml.scriptrun\", \"training_percent\": \"100\", \"start_time\": \"2020-09-24T16:47:37.496932Z\", \"end_time\": \"2020-09-24T16:48:49.779697Z\", \"created_time\": \"2020-09-24T16:47:20.146844Z\", \"created_time_dt\": \"2020-09-24T16:47:20.146844Z\", \"duration\": \"0:01:29\", \"iteration\": \"0\", \"goal\": \"normalized_root_mean_squared_error_min\", \"run_name\": \"MaxAbsScaler, LightGBM\", \"run_properties\": \"copy=True\", \"primary_metric\": 0.04328113, \"best_metric\": 0.04328113}, {\"run_id\": \"AutoML_44b40174-81cc-406c-9424-df0569de9f92_1\", \"run_number\": 14, \"metric\": null, \"status\": \"Completed\", \"run_type\": \"azureml.scriptrun\", \"training_percent\": \"100\", \"start_time\": \"2020-09-24T16:49:10.016114Z\", \"end_time\": \"2020-09-24T16:50:38.373378Z\", \"created_time\": \"2020-09-24T16:48:54.511907Z\", \"created_time_dt\": \"2020-09-24T16:48:54.511907Z\", \"duration\": \"0:01:43\", \"iteration\": \"1\", \"goal\": \"normalized_root_mean_squared_error_min\", \"run_name\": \"MaxAbsScaler, XGBoostRegressor\", \"run_properties\": \"copy=True\", \"primary_metric\": 0.06177678, \"best_metric\": 0.04328113}, {\"run_id\": \"AutoML_44b40174-81cc-406c-9424-df0569de9f92_2\", \"run_number\": 15, \"metric\": null, \"status\": \"Completed\", \"run_type\": \"azureml.scriptrun\", \"training_percent\": \"100\", \"start_time\": \"2020-09-24T16:51:00.245144Z\", \"end_time\": \"2020-09-24T16:51:41.846188Z\", \"created_time\": \"2020-09-24T16:50:49.035724Z\", \"created_time_dt\": \"2020-09-24T16:50:49.035724Z\", \"duration\": \"0:00:52\", \"iteration\": \"2\", \"goal\": \"normalized_root_mean_squared_error_min\", \"run_name\": \"MaxAbsScaler, DecisionTree\", \"run_properties\": \"copy=True\", \"primary_metric\": 0.10211219, \"best_metric\": 0.04328113}], \"children_metrics\": {\"categories\": [0], \"series\": {\"normalized_root_mean_squared_error\": [{\"categories\": [\"0\", \"1\", \"2\"], \"mode\": \"markers\", \"name\": \"normalized_root_mean_squared_error\", \"stepped\": false, \"type\": \"scatter\", \"data\": [0.04328113216335156, 0.06177678070111875, 0.10211218522824395]}, {\"categories\": [\"0\", \"1\", \"2\"], \"mode\": \"lines\", \"name\": \"normalized_root_mean_squared_error_min\", \"stepped\": true, \"type\": \"scatter\", \"data\": [0.04328113216335156, 0.04328113216335156, 0.04328113216335156]}], \"spearman_correlation\": [{\"categories\": [\"0\", \"1\", \"2\"], \"mode\": \"markers\", \"name\": \"spearman_correlation\", \"stepped\": false, \"type\": \"scatter\", \"data\": [0.9652564668287902, 0.9321116496521101, 0.721413941152276]}, {\"categories\": [\"0\", \"1\", \"2\"], \"mode\": \"lines\", \"name\": \"spearman_correlation_max\", \"stepped\": true, \"type\": \"scatter\", \"data\": [0.9652564668287902, 0.9652564668287902, 0.9652564668287902]}], \"normalized_median_absolute_error\": [{\"categories\": [\"0\", \"1\", \"2\"], \"mode\": \"markers\", \"name\": \"normalized_median_absolute_error\", \"stepped\": false, \"type\": \"scatter\", \"data\": [0.011744647105731533, 0.021478939138538978, 0.040733646470382454]}, {\"categories\": [\"0\", \"1\", \"2\"], \"mode\": \"lines\", \"name\": \"normalized_median_absolute_error_min\", \"stepped\": true, \"type\": \"scatter\", \"data\": [0.011744647105731533, 0.011744647105731533, 0.011744647105731533]}], \"r2_score\": [{\"categories\": [\"0\", \"1\", \"2\"], \"mode\": \"markers\", \"name\": \"r2_score\", \"stepped\": false, \"type\": \"scatter\", \"data\": [0.9079773425155834, 0.8123210542475411, 0.4828871163238828]}, {\"categories\": [\"0\", \"1\", \"2\"], \"mode\": \"lines\", \"name\": \"r2_score_max\", \"stepped\": true, \"type\": \"scatter\", \"data\": [0.9079773425155834, 0.9079773425155834, 0.9079773425155834]}], \"mean_absolute_error\": [{\"categories\": [\"0\", \"1\", \"2\"], \"mode\": \"markers\", \"name\": \"mean_absolute_error\", \"stepped\": false, \"type\": \"scatter\", \"data\": [75.99118182420264, 130.82196987867354, 238.48207982076406]}, {\"categories\": [\"0\", \"1\", \"2\"], \"mode\": \"lines\", \"name\": \"mean_absolute_error_min\", \"stepped\": true, \"type\": \"scatter\", \"data\": [75.99118182420264, 75.99118182420264, 75.99118182420264]}], \"normalized_root_mean_squared_log_error\": [{\"categories\": [\"0\", \"1\", \"2\"], \"mode\": \"markers\", \"name\": \"normalized_root_mean_squared_log_error\", \"stepped\": false, \"type\": \"scatter\", \"data\": [0.03998031236166753, 0.04081199629638331, 0.056329156098537295]}, {\"categories\": [\"0\", \"1\", \"2\"], \"mode\": \"lines\", \"name\": \"normalized_root_mean_squared_log_error_min\", \"stepped\": true, \"type\": \"scatter\", \"data\": [0.03998031236166753, 0.03998031236166753, 0.03998031236166753]}], \"root_mean_squared_log_error\": [{\"categories\": [\"0\", \"1\", \"2\"], \"mode\": \"markers\", \"name\": \"root_mean_squared_log_error\", \"stepped\": false, \"type\": \"scatter\", \"data\": [0.28217696415449506, 0.2880469044819041, 0.39756543464401695]}, {\"categories\": [\"0\", \"1\", \"2\"], \"mode\": \"lines\", \"name\": \"root_mean_squared_log_error_min\", \"stepped\": true, \"type\": \"scatter\", \"data\": [0.28217696415449506, 0.28217696415449506, 0.28217696415449506]}], \"root_mean_squared_error\": [{\"categories\": [\"0\", \"1\", \"2\"], \"mode\": \"markers\", \"name\": \"root_mean_squared_error\", \"stepped\": false, \"type\": \"scatter\", \"data\": [150.7481833249535, 215.16852718199658, 355.6567411499737]}, {\"categories\": [\"0\", \"1\", \"2\"], \"mode\": \"lines\", \"name\": \"root_mean_squared_error_min\", \"stepped\": true, \"type\": \"scatter\", \"data\": [150.7481833249535, 150.7481833249535, 150.7481833249535]}], \"mean_absolute_percentage_error\": [{\"categories\": [\"0\", \"1\", \"2\"], \"mode\": \"markers\", \"name\": \"mean_absolute_percentage_error\", \"stepped\": false, \"type\": \"scatter\", \"data\": [23.464707839415166, 31.569115230966315, 55.34586667181221]}, {\"categories\": [\"0\", \"1\", \"2\"], \"mode\": \"lines\", \"name\": \"mean_absolute_percentage_error_min\", \"stepped\": true, \"type\": \"scatter\", \"data\": [23.464707839415166, 23.464707839415166, 23.464707839415166]}], \"normalized_mean_absolute_error\": [{\"categories\": [\"0\", \"1\", \"2\"], \"mode\": \"markers\", \"name\": \"normalized_mean_absolute_error\", \"stepped\": false, \"type\": \"scatter\", \"data\": [0.021817738106288443, 0.03756014064848509, 0.06847030715497102]}, {\"categories\": [\"0\", \"1\", \"2\"], \"mode\": \"lines\", \"name\": \"normalized_mean_absolute_error_min\", \"stepped\": true, \"type\": \"scatter\", \"data\": [0.021817738106288443, 0.021817738106288443, 0.021817738106288443]}], \"median_absolute_error\": [{\"categories\": [\"0\", \"1\", \"2\"], \"mode\": \"markers\", \"name\": \"median_absolute_error\", \"stepped\": false, \"type\": \"scatter\", \"data\": [40.90660586926293, 74.81114501953125, 141.8752906563421]}, {\"categories\": [\"0\", \"1\", \"2\"], \"mode\": \"lines\", \"name\": \"median_absolute_error_min\", \"stepped\": true, \"type\": \"scatter\", \"data\": [40.90660586926293, 40.90660586926293, 40.90660586926293]}], \"explained_variance\": [{\"categories\": [\"0\", \"1\", \"2\"], \"mode\": \"markers\", \"name\": \"explained_variance\", \"stepped\": false, \"type\": \"scatter\", \"data\": [0.9080940472788948, 0.812576319626154, 0.48324702595506625]}, {\"categories\": [\"0\", \"1\", \"2\"], \"mode\": \"lines\", \"name\": \"explained_variance_max\", \"stepped\": true, \"type\": \"scatter\", \"data\": [0.9080940472788948, 0.9080940472788948, 0.9080940472788948]}]}, \"metricName\": null, \"primaryMetricName\": \"normalized_root_mean_squared_error\", \"showLegend\": false}, \"run_metrics\": [{\"name\": \"experiment_status\", \"run_id\": \"AutoML_44b40174-81cc-406c-9424-df0569de9f92\", \"categories\": [0, 1, 2, 3, 4, 5, 6, 7, 8, 9, 10, 11, 12, 13], \"series\": [{\"data\": [\"DatasetEvaluation\", \"FeaturesGeneration\", \"DatasetFeaturization\", \"DatasetFeaturizationCompleted\", \"DatasetCrossValidationSplit\", \"ModelSelection\", \"BestRunExplainModel\", \"ModelExplanationDataSetSetup\", \"PickSurrogateModel\", \"EngineeredFeatureExplanations\", \"EngineeredFeatureExplanations\", \"RawFeaturesExplanations\", \"RawFeaturesExplanations\", \"BestRunExplainModel\"]}]}, {\"name\": \"experiment_status_description\", \"run_id\": \"AutoML_44b40174-81cc-406c-9424-df0569de9f92\", \"categories\": [0, 1, 2, 3, 4, 5, 6, 7, 8, 9, 10, 11, 12, 13], \"series\": [{\"data\": [\"Gathering dataset statistics.\", \"Generating features for the dataset.\", \"Beginning to fit featurizers and featurize the dataset.\", \"Completed fit featurizers and featurizing the dataset.\", \"Generating individually featurized CV splits.\", \"Beginning model selection.\", \"Best run model explanations started\", \"Model explanations data setup completed\", \"Choosing LightGBM as the surrogate model for explanations\", \"Computation of engineered features started\", \"Computation of engineered features completed\", \"Computation of raw features started\", \"Computation of raw features completed\", \"Best run model explanations completed\"]}]}, {\"name\": \"normalized_root_mean_squared_error\", \"run_id\": \"AutoML_44b40174-81cc-406c-9424-df0569de9f92\", \"categories\": [0], \"series\": [{\"data\": [0.04328113216335156]}]}, {\"name\": \"spearman_correlation\", \"run_id\": \"AutoML_44b40174-81cc-406c-9424-df0569de9f92\", \"categories\": [0], \"series\": [{\"data\": [0.9652564668287902]}]}, {\"name\": \"normalized_median_absolute_error\", \"run_id\": \"AutoML_44b40174-81cc-406c-9424-df0569de9f92\", \"categories\": [0], \"series\": [{\"data\": [0.011744647105731533]}]}, {\"name\": \"r2_score\", \"run_id\": \"AutoML_44b40174-81cc-406c-9424-df0569de9f92\", \"categories\": [0], \"series\": [{\"data\": [0.9079773425155834]}]}, {\"name\": \"mean_absolute_error\", \"run_id\": \"AutoML_44b40174-81cc-406c-9424-df0569de9f92\", \"categories\": [0], \"series\": [{\"data\": [75.99118182420264]}]}, {\"name\": \"normalized_root_mean_squared_log_error\", \"run_id\": \"AutoML_44b40174-81cc-406c-9424-df0569de9f92\", \"categories\": [0], \"series\": [{\"data\": [0.03998031236166753]}]}, {\"name\": \"root_mean_squared_log_error\", \"run_id\": \"AutoML_44b40174-81cc-406c-9424-df0569de9f92\", \"categories\": [0], \"series\": [{\"data\": [0.28217696415449506]}]}, {\"name\": \"root_mean_squared_error\", \"run_id\": \"AutoML_44b40174-81cc-406c-9424-df0569de9f92\", \"categories\": [0], \"series\": [{\"data\": [150.7481833249535]}]}, {\"name\": \"mean_absolute_percentage_error\", \"run_id\": \"AutoML_44b40174-81cc-406c-9424-df0569de9f92\", \"categories\": [0], \"series\": [{\"data\": [23.464707839415166]}]}, {\"name\": \"normalized_mean_absolute_error\", \"run_id\": \"AutoML_44b40174-81cc-406c-9424-df0569de9f92\", \"categories\": [0], \"series\": [{\"data\": [0.021817738106288443]}]}, {\"name\": \"median_absolute_error\", \"run_id\": \"AutoML_44b40174-81cc-406c-9424-df0569de9f92\", \"categories\": [0], \"series\": [{\"data\": [40.90660586926293]}]}, {\"name\": \"explained_variance\", \"run_id\": \"AutoML_44b40174-81cc-406c-9424-df0569de9f92\", \"categories\": [0], \"series\": [{\"data\": [0.9080940472788948]}]}], \"run_logs\": \"\\nRun is completed.\", \"graph\": {}, \"widget_settings\": {\"childWidgetDisplay\": \"popup\", \"send_telemetry\": false, \"log_level\": \"INFO\", \"sdk_version\": \"1.14.0\"}, \"loading\": false}"
     },
     "metadata": {},
     "output_type": "display_data"
    }
   ],
   "source": [
    "run_id = remote_run.id\n",
    "\n",
    "from azureml.widgets import RunDetails\n",
    "\n",
    "experiment = Experiment(ws, experiment_name)\n",
    "ml_run = AutoMLRun(experiment=experiment, run_id=run_id)\n",
    "\n",
    "RunDetails(ml_run).show() "
   ]
  },
  {
   "cell_type": "markdown",
   "metadata": {},
   "source": [
    "### Get the best run and the trained model"
   ]
  },
  {
   "cell_type": "markdown",
   "metadata": {},
   "source": [
    "At this point you have multiple runs, each with a different trained models. How can you get the model that performed the best? Run the following cells to learn how."
   ]
  },
  {
   "cell_type": "code",
   "execution_count": 23,
   "metadata": {
    "scrolled": true
   },
   "outputs": [
    {
     "name": "stdout",
     "output_type": "stream",
     "text": [
      "Run(Experiment: automl-regression,\n",
      "Id: AutoML_44b40174-81cc-406c-9424-df0569de9f92_0,\n",
      "Type: azureml.scriptrun,\n",
      "Status: Completed)\n",
      "RegressionPipeline(pipeline=Pipeline(memory=None,\n",
      "                                     steps=[('datatransformer',\n",
      "                                             DataTransformer(enable_dnn=None,\n",
      "                                                             enable_feature_sweeping=None,\n",
      "                                                             feature_sweeping_config=None,\n",
      "                                                             feature_sweeping_timeout=None,\n",
      "                                                             featurization_config=None,\n",
      "                                                             force_text_dnn=None,\n",
      "                                                             is_cross_validation=None,\n",
      "                                                             is_onnx_compatible=None,\n",
      "                                                             logger=None,\n",
      "                                                             observer=None,\n",
      "                                                             task=None,\n",
      "                                                             working_dir=None)),\n",
      "                                            ('Max...\n",
      "                                                               colsample_bytree=1.0,\n",
      "                                                               importance_type='split',\n",
      "                                                               learning_rate=0.1,\n",
      "                                                               max_depth=-1,\n",
      "                                                               min_child_samples=20,\n",
      "                                                               min_child_weight=0.001,\n",
      "                                                               min_split_gain=0.0,\n",
      "                                                               n_estimators=100,\n",
      "                                                               n_jobs=10,\n",
      "                                                               num_leaves=31,\n",
      "                                                               objective=None,\n",
      "                                                               random_state=None,\n",
      "                                                               reg_alpha=0.0,\n",
      "                                                               reg_lambda=0.0,\n",
      "                                                               silent=True,\n",
      "                                                               subsample=1.0,\n",
      "                                                               subsample_for_bin=200000,\n",
      "                                                               subsample_freq=0,\n",
      "                                                               verbose=-1))],\n",
      "                                     verbose=False),\n",
      "                   stddev=None)\n"
     ]
    }
   ],
   "source": [
    "best_run, fitted_model = remote_run.get_output()\n",
    "print(best_run)\n",
    "print(fitted_model)"
   ]
  },
  {
   "cell_type": "markdown",
   "metadata": {},
   "source": [
    "You can query for the best run when evaluated using a specific metric. "
   ]
  },
  {
   "cell_type": "code",
   "execution_count": 24,
   "metadata": {},
   "outputs": [
    {
     "name": "stdout",
     "output_type": "stream",
     "text": [
      "Run(Experiment: automl-regression,\n",
      "Id: AutoML_44b40174-81cc-406c-9424-df0569de9f92_0,\n",
      "Type: azureml.scriptrun,\n",
      "Status: Completed)\n",
      "RegressionPipeline(pipeline=Pipeline(memory=None,\n",
      "                                     steps=[('datatransformer',\n",
      "                                             DataTransformer(enable_dnn=None,\n",
      "                                                             enable_feature_sweeping=None,\n",
      "                                                             feature_sweeping_config=None,\n",
      "                                                             feature_sweeping_timeout=None,\n",
      "                                                             featurization_config=None,\n",
      "                                                             force_text_dnn=None,\n",
      "                                                             is_cross_validation=None,\n",
      "                                                             is_onnx_compatible=None,\n",
      "                                                             logger=None,\n",
      "                                                             observer=None,\n",
      "                                                             task=None,\n",
      "                                                             working_dir=None)),\n",
      "                                            ('Max...\n",
      "                                                               colsample_bytree=1.0,\n",
      "                                                               importance_type='split',\n",
      "                                                               learning_rate=0.1,\n",
      "                                                               max_depth=-1,\n",
      "                                                               min_child_samples=20,\n",
      "                                                               min_child_weight=0.001,\n",
      "                                                               min_split_gain=0.0,\n",
      "                                                               n_estimators=100,\n",
      "                                                               n_jobs=10,\n",
      "                                                               num_leaves=31,\n",
      "                                                               objective=None,\n",
      "                                                               random_state=None,\n",
      "                                                               reg_alpha=0.0,\n",
      "                                                               reg_lambda=0.0,\n",
      "                                                               silent=True,\n",
      "                                                               subsample=1.0,\n",
      "                                                               subsample_for_bin=200000,\n",
      "                                                               subsample_freq=0,\n",
      "                                                               verbose=-1))],\n",
      "                                     verbose=False),\n",
      "                   stddev=None)\n"
     ]
    }
   ],
   "source": [
    "# show run and model by a specific metric\n",
    "lookup_metric = \"root_mean_squared_error\"\n",
    "best_run, fitted_model = remote_run.get_output(metric = lookup_metric)\n",
    "print(best_run)\n",
    "print(fitted_model)"
   ]
  },
  {
   "cell_type": "markdown",
   "metadata": {},
   "source": [
    "You can retrieve a specific iteration from a run."
   ]
  },
  {
   "cell_type": "code",
   "execution_count": 25,
   "metadata": {},
   "outputs": [
    {
     "name": "stdout",
     "output_type": "stream",
     "text": [
      "Run(Experiment: automl-regression,\n",
      "Id: AutoML_44b40174-81cc-406c-9424-df0569de9f92_0,\n",
      "Type: azureml.scriptrun,\n",
      "Status: Completed)\n",
      "RegressionPipeline(pipeline=Pipeline(memory=None,\n",
      "                                     steps=[('datatransformer',\n",
      "                                             DataTransformer(enable_dnn=None,\n",
      "                                                             enable_feature_sweeping=None,\n",
      "                                                             feature_sweeping_config=None,\n",
      "                                                             feature_sweeping_timeout=None,\n",
      "                                                             featurization_config=None,\n",
      "                                                             force_text_dnn=None,\n",
      "                                                             is_cross_validation=None,\n",
      "                                                             is_onnx_compatible=None,\n",
      "                                                             logger=None,\n",
      "                                                             observer=None,\n",
      "                                                             task=None,\n",
      "                                                             working_dir=None)),\n",
      "                                            ('Max...\n",
      "                                                               colsample_bytree=1.0,\n",
      "                                                               importance_type='split',\n",
      "                                                               learning_rate=0.1,\n",
      "                                                               max_depth=-1,\n",
      "                                                               min_child_samples=20,\n",
      "                                                               min_child_weight=0.001,\n",
      "                                                               min_split_gain=0.0,\n",
      "                                                               n_estimators=100,\n",
      "                                                               n_jobs=10,\n",
      "                                                               num_leaves=31,\n",
      "                                                               objective=None,\n",
      "                                                               random_state=None,\n",
      "                                                               reg_alpha=0.0,\n",
      "                                                               reg_lambda=0.0,\n",
      "                                                               silent=True,\n",
      "                                                               subsample=1.0,\n",
      "                                                               subsample_for_bin=200000,\n",
      "                                                               subsample_freq=0,\n",
      "                                                               verbose=-1))],\n",
      "                                     verbose=False),\n",
      "                   stddev=None)\n"
     ]
    }
   ],
   "source": [
    "# show run and model from iteration 0\n",
    "iteration = 0\n",
    "first_run, first_model = remote_run.get_output(iteration=iteration)\n",
    "print(first_run)\n",
    "print(first_model)"
   ]
  },
  {
   "cell_type": "markdown",
   "metadata": {},
   "source": [
    "At this point you now have a model you could use for predicting the time until battery failure. You would typically use this model in one of two ways:\n",
    "- Use the model file within other notebooks to batch score predictions.\n",
    "- Deploy the model file as a web service that applications can call. \n",
    "\n",
    "In the following, you will explore the latter option to deploy the best model as a web service."
   ]
  },
  {
   "cell_type": "markdown",
   "metadata": {},
   "source": [
    "### Download the best model \n",
    "With a run object in hand, it is trivial to download the model. "
   ]
  },
  {
   "cell_type": "code",
   "execution_count": 26,
   "metadata": {},
   "outputs": [],
   "source": [
    "# fetch the best model\n",
    "best_run.download_file(\"outputs/model.pkl\",\n",
    "                       output_file_path = \"./model.pkl\")"
   ]
  },
  {
   "cell_type": "markdown",
   "metadata": {},
   "source": [
    "## Deploy the Model as a Web Service"
   ]
  },
  {
   "cell_type": "markdown",
   "metadata": {},
   "source": [
    "Azure Machine Learning provides a Model Registry that acts like a version controlled repository for each of your trained models. To version a model, you use  the SDK as follows. Run the following cell to register the best model with Azure Machine Learning. "
   ]
  },
  {
   "cell_type": "code",
   "execution_count": 27,
   "metadata": {},
   "outputs": [
    {
     "name": "stdout",
     "output_type": "stream",
     "text": [
      "Registering model model.pkl\n",
      "model.pkl Contoso Auto model to predict battery failure 2\n"
     ]
    }
   ],
   "source": [
    "# register the model for deployment\n",
    "model = Model.register(model_path = \"model.pkl\",\n",
    "                       model_name = \"model.pkl\",\n",
    "                       tags = {'area': \"auto\", 'type': \"regression\"},\n",
    "                       description = \"Contoso Auto model to predict battery failure\",\n",
    "                       workspace = ws)\n",
    "\n",
    "print(model.name, model.description, model.version)"
   ]
  },
  {
   "cell_type": "markdown",
   "metadata": {},
   "source": [
    "Once you have a model added to the registry in this way, you can deploy web services that pull their model directly from this repository when they first start up."
   ]
  },
  {
   "cell_type": "markdown",
   "metadata": {},
   "source": [
    "### Create Scoring File"
   ]
  },
  {
   "cell_type": "markdown",
   "metadata": {},
   "source": [
    "Azure Machine Learning SDK gives you control over the logic of the web service, so that you can define how it retrieves the model and how the model is used for scoring. This is an important bit of flexibility. For example, you often have to prepare any input data before sending it to your model for scoring. You can define this data preparation logic (as well as the model loading approach) in the scoring file. \n",
    "\n",
    "Run the following cell to create a scoring file that will be included in the Docker Image that contains your deployed web service."
   ]
  },
  {
   "cell_type": "code",
   "execution_count": 32,
   "metadata": {},
   "outputs": [
    {
     "name": "stdout",
     "output_type": "stream",
     "text": [
      "Overwriting scoring_service.py\n"
     ]
    }
   ],
   "source": [
    "%%writefile scoring_service.py\n",
    "import pickle\n",
    "import json\n",
    "import numpy\n",
    "import pandas as pd\n",
    "import azureml.train.automl\n",
    "from sklearn.externals import joblib\n",
    "from azureml.core.model import Model\n",
    "\n",
    "def init():\n",
    "    global model\n",
    "    model_path = Model.get_model_path('model.pkl') # this name is model.id of model that we want to deploy\n",
    "    # deserialize the model file back into a sklearn model\n",
    "    model = joblib.load(model_path)\n",
    "\n",
    "def run(rawdata):\n",
    "    try:\n",
    "        data = pd.read_json(rawdata,orient=\"split\")\n",
    "        result = model.predict(data)\n",
    "    except Exception as e:\n",
    "        result = str(e)\n",
    "        return json.dumps({\"error\": result})\n",
    "    return json.dumps({\"result\":result.tolist()})"
   ]
  },
  {
   "cell_type": "markdown",
   "metadata": {},
   "source": [
    "### Environments\n",
    "\n",
    "Azure ML environments are an encapsulation of the environment where your machine learning training happens. They define Python packages, environment variables, Docker settings and other attributes in declarative fashion. Environments are versioned: you can update them and retrieve old versions to revisit and review your work.\n",
    "\n",
    "Environments allow you to:\n",
    "* Encapsulate dependencies of your training process, such as Python packages and their versions.\n",
    "* Reproduce the Python environment on your local computer in a remote run on VM or ML Compute cluster\n",
    "* Reproduce your experimentation environment in production setting.\n",
    "* Revisit and audit the environment in which an existing model was trained.\n",
    "\n",
    "Environment, compute target and training script together form run configuration: the full specification of training run."
   ]
  },
  {
   "cell_type": "markdown",
   "metadata": {},
   "source": [
    "#### Create and register your environment\n",
    "\n",
    "You can manage environments by registering them. This allows you to track their versions, and reuse them in future runs. For example, once you've constructed an environment that meets your requirements, you can register it and use it in other experiments so as to standardize your workflow.\n",
    "\n",
    "If you register the environment with same name, the version number is increased by one. Note that Azure ML keeps track of differences between the version, so if you re-register an identical version, the version number is not increased."
   ]
  },
  {
   "cell_type": "code",
   "execution_count": 34,
   "metadata": {},
   "outputs": [
    {
     "data": {
      "text/plain": [
       "{\n",
       "    \"databricks\": {\n",
       "        \"eggLibraries\": [],\n",
       "        \"jarLibraries\": [],\n",
       "        \"mavenLibraries\": [],\n",
       "        \"pypiLibraries\": [],\n",
       "        \"rcranLibraries\": []\n",
       "    },\n",
       "    \"docker\": {\n",
       "        \"arguments\": [],\n",
       "        \"baseDockerfile\": null,\n",
       "        \"baseImage\": \"mcr.microsoft.com/azureml/intelmpi2018.3-ubuntu16.04:20200821.v1\",\n",
       "        \"baseImageRegistry\": {\n",
       "            \"address\": null,\n",
       "            \"password\": null,\n",
       "            \"registryIdentity\": null,\n",
       "            \"username\": null\n",
       "        },\n",
       "        \"enabled\": false,\n",
       "        \"platform\": {\n",
       "            \"architecture\": \"amd64\",\n",
       "            \"os\": \"Linux\"\n",
       "        },\n",
       "        \"sharedVolumes\": true,\n",
       "        \"shmSize\": null\n",
       "    },\n",
       "    \"environmentVariables\": {\n",
       "        \"EXAMPLE_ENV_VAR\": \"EXAMPLE_VALUE\"\n",
       "    },\n",
       "    \"inferencingStackVersion\": null,\n",
       "    \"name\": \"myenv\",\n",
       "    \"python\": {\n",
       "        \"baseCondaEnvironment\": null,\n",
       "        \"condaDependencies\": {\n",
       "            \"channels\": [\n",
       "                \"anaconda\",\n",
       "                \"conda-forge\"\n",
       "            ],\n",
       "            \"dependencies\": [\n",
       "                \"python=3.6.2\",\n",
       "                {\n",
       "                    \"pip\": [\n",
       "                        \"azureml-train-automl-runtime==1.13.0\",\n",
       "                        \"inference-schema\",\n",
       "                        \"azureml-explain-model==1.13.0\",\n",
       "                        \"azureml-defaults==1.13.0\"\n",
       "                    ]\n",
       "                },\n",
       "                \"numpy>=1.16.0,<1.19.0\",\n",
       "                \"pandas==0.25.1\",\n",
       "                \"scikit-learn==0.22.1\",\n",
       "                \"py-xgboost<=0.90\",\n",
       "                \"fbprophet==0.5\",\n",
       "                \"holidays==0.9.11\",\n",
       "                \"psutil>=5.2.2,<6.0.0\"\n",
       "            ],\n",
       "            \"name\": \"azureml_8cafa4fedef7ba32d2688b5293ee32e6\"\n",
       "        },\n",
       "        \"condaDependenciesFile\": null,\n",
       "        \"interpreterPath\": \"python\",\n",
       "        \"userManagedDependencies\": false\n",
       "    },\n",
       "    \"r\": null,\n",
       "    \"spark\": {\n",
       "        \"packages\": [],\n",
       "        \"precachePackages\": true,\n",
       "        \"repositories\": []\n",
       "    },\n",
       "    \"version\": \"1\"\n",
       "}"
      ]
     },
     "execution_count": 34,
     "metadata": {},
     "output_type": "execute_result"
    }
   ],
   "source": [
    "from azureml.core import Environment\n",
    "myEnv = Environment.from_conda_specification('myenv', './automl_dependencies.yml')\n",
    "myEnv.register(workspace=ws)"
   ]
  },
  {
   "cell_type": "markdown",
   "metadata": {},
   "source": [
    "### Deploy ACI Hosted Web Service\n",
    "\n",
    "If you want more control over how your model is run, if it uses another framework, or if it has special runtime requirements, you can instead specify your own environment and scoring method. Custom environments can be used for any model you want to deploy.\n",
    "\n",
    "In previous code, you specified the model's runtime environment by creating an [Environment](https://docs.microsoft.com/en-us/python/api/azureml-core/azureml.core.environment%28class%29?view=azure-ml-py) object and providing the [CondaDependencies](https://docs.microsoft.com/en-us/python/api/azureml-core/azureml.core.conda_dependencies.condadependencies?view=azure-ml-py) needed by your model.\n",
    "\n",
    "In the following cells you will use the Azure Machine Learning SDK to package the model and scoring script in a container, and deploy that container to an Azure Container Instance.\n",
    "\n",
    "Run the following cell: you may be waiting 20-25 minutes for completion, while the Running tag adds progress dots."
   ]
  },
  {
   "cell_type": "code",
   "execution_count": null,
   "metadata": {},
   "outputs": [
    {
     "name": "stdout",
     "output_type": "stream",
     "text": [
      "Tips: You can try get_logs(): https://aka.ms/debugimage#dockerlog or local deployment: https://aka.ms/debugimage#debug-locally to debug if deployment takes longer than 10 minutes.\n",
      "Running............................."
     ]
    }
   ],
   "source": [
    "from azureml.core.model import InferenceConfig\n",
    "from azureml.core.webservice import AciWebservice\n",
    "\n",
    "inference_config = InferenceConfig(entry_script='scoring_service.py', environment=myEnv)\n",
    "aci_config = AciWebservice.deploy_configuration(\n",
    "    cpu_cores = 1, \n",
    "    memory_gb = 1, \n",
    "    tags = {'name': 'aci-cluster'}, \n",
    "    description = 'Scoring web service.')\n",
    "\n",
    "from azureml.core import Webservice\n",
    "\n",
    "service_name = 'predict-battery-life'\n",
    "\n",
    "webservice = Model.deploy(workspace=ws,\n",
    "                       name=service_name,\n",
    "                       models=[model],\n",
    "                       inference_config=inference_config,\n",
    "                       deployment_config=aci_config, \n",
    "                       overwrite=True)\n",
    "webservice.wait_for_deployment(show_output=True)\n",
    "print(webservice.state)"
   ]
  },
  {
   "cell_type": "markdown",
   "metadata": {},
   "source": [
    "### Test the deployed web service"
   ]
  },
  {
   "cell_type": "markdown",
   "metadata": {},
   "source": [
    "With the deployed web service ready, you are now ready to test calling the service with some car telemetry to see the scored results. There are three ways to approach this:\n",
    "1. You could use the `Webservice` object that you acquired in the previous cell to call the service directly.\n",
    "2. You could use the `Webservice` class to get a reference to a deployed web service by name.\n",
    "3. You could use any client capable of making a REST call.\n",
    "\n",
    "In this notebook, we will take the first approach. Run the following cells to retrieve the web service by name and then to invoke it using some sample car telemetry.\n",
    "\n",
    "The output of this cell will be an array of numbers, where each number represents the expected battery lifetime in days for the corresponding row of vehicle data."
   ]
  },
  {
   "cell_type": "code",
   "execution_count": null,
   "metadata": {},
   "outputs": [],
   "source": [
    "%%time\n",
    "# load some test vehicle data that the model has not seen\n",
    "test_data = pd.read_csv(test_data_url)\n",
    "\n",
    "# prepare the data and select five vehicles\n",
    "test_data = test_data.drop(columns=[\"Car_ID\", \"Battery_Age\"])\n",
    "test_data.rename(columns={'Twelve_hourly_temperature_forecast_for_next_31_days_reversed': 'Twelve_hourly_temperature_history_for_last_31_days_before_death_last_recording_first'}, inplace=True)\n",
    "test_data_json = test_data.iloc[:5, 0:73].to_json(orient=\"split\")\n",
    "prediction = webservice.run(input_data = test_data_json)\n",
    "print(prediction)"
   ]
  },
  {
   "cell_type": "code",
   "execution_count": null,
   "metadata": {},
   "outputs": [],
   "source": []
  }
 ],
 "metadata": {
  "kernelspec": {
   "display_name": "Python 3.6 - AzureML",
   "language": "python",
   "name": "python3-azureml"
  },
  "language_info": {
   "codemirror_mode": {
    "name": "ipython",
    "version": 3
   },
   "file_extension": ".py",
   "mimetype": "text/x-python",
   "name": "python",
   "nbconvert_exporter": "python",
   "pygments_lexer": "ipython3",
   "version": "3.6.9"
  }
 },
 "nbformat": 4,
 "nbformat_minor": 4
}
